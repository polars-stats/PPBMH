{
  "nbformat": 4,
  "nbformat_minor": 0,
  "metadata": {
    "colab": {
      "name": "Chapter 5",
      "provenance": [],
      "collapsed_sections": [],
      "include_colab_link": true
    },
    "kernelspec": {
      "display_name": "Python 3",
      "language": "python",
      "name": "python3"
    },
    "language_info": {
      "codemirror_mode": {
        "name": "ipython",
        "version": 3
      },
      "file_extension": ".py",
      "mimetype": "text/x-python",
      "name": "python",
      "nbconvert_exporter": "python",
      "pygments_lexer": "ipython3",
      "version": "3.6.7"
    }
  },
  "cells": [
    {
      "cell_type": "markdown",
      "metadata": {
        "id": "view-in-github",
        "colab_type": "text"
      },
      "source": [
        "<a href=\"https://colab.research.google.com/github/rnarkk/jupyter/blob/main/Bayesian-Methods-for-Hackers/Chapter_5.ipynb\" target=\"_parent\"><img src=\"https://colab.research.google.com/assets/colab-badge.svg\" alt=\"Open In Colab\"/></a>"
      ]
    },
    {
      "cell_type": "markdown",
      "metadata": {
        "id": "rZQKEjPNGNzG"
      },
      "source": [
        "# Probabilistic Programming and Bayesian Methods for Hackers Chapter  5\n",
        "\n",
        "<table class=\"tfo-notebook-buttons\" align=\"left\">\n",
        "  <td>\n",
        "    <a target=\"_blank\" href=\"https://colab.research.google.com/github/CamDavidsonPilon/Probabilistic-Programming-and-Bayesian-Methods-for-Hackers/blob/master/Chapter5_LossFunctions/Ch5_LossFunctions_TFP.ipynb\"><img height=\"32px\" src=\"https://colab.research.google.com/img/colab_favicon.ico\" />Run in Google Colab</a>\n",
        "  </td>\n",
        "  <td>\n",
        "    <a target=\"_blank\" href=\"https://github.com/CamDavidsonPilon/Probabilistic-Programming-and-Bayesian-Methods-for-Hackers/blob/master/Chapter5_LossFunctions/Ch5_LossFunctions_TFP.ipynb\"><img src=\"https://www.tensorflow.org/images/GitHub-Mark-32px.png\" />View source on GitHub</a>\n",
        "  </td>\n",
        "</table>\n",
        "<br>\n",
        "<br>\n",
        "<br>\n",
        "\n",
        "Original content ([this Jupyter notebook](https://nbviewer.jupyter.org/github/CamDavidsonPilon/Probabilistic-Programming-and-Bayesian-Methods-for-Hackers/blob/master/Chapter5_LossFunctions/Ch5_LossFunctions_PyMC2.ipynb#Example:-Kaggle-contest-on-Observing-Dark-World)) created by Cam Davidson-Pilon ([`@Cmrn_DP`](https://twitter.com/Cmrn_DP)) and Tim Salimans ([`@TimSalimans`](https://twitter.com/TimSalimans))\n",
        "\n",
        "Welcome to Bayesian Methods for Hackers. The full Github repository is available at [github/Probabilistic-Programming-and-Bayesian-Methods-for-Hackers](https://github.com/CamDavidsonPilon/Probabilistic-Programming-and-Bayesian-Methods-for-Hackers). The other chapters can be found on the project's [homepage](https://camdavidsonpilon.github.io/Probabilistic-Programming-and-Bayesian-Methods-for-Hackers/). We hope you enjoy the book, and we encourage any contributions!"
      ]
    },
    {
      "cell_type": "markdown",
      "metadata": {
        "id": "1ApMhlTOELLf"
      },
      "source": [
        "### Table of Contents\n",
        "\n",
        "- Would you rather lose and arm or a leg?\n",
        "- Loss Functions\n",
        "- Loss functions in the real world\n",
        "- Example: optimising for the Showcase on The Price is Right\n",
        "  - Minimising our losses\n",
        "  - Shortcuts\n",
        "  - Machine Learning via Bayesian Methods\n",
        "- Example: Financial prediction\n",
        "- Example: Kaggle contest on Observing Dark World\n",
        "  - Setup\n",
        "  - Defining our galaxy-plotting function\n",
        "  - Examining Our Data\n",
        "  - Priors\n",
        "  - Training & Tensorflow implemenation\n",
        "    - Constructing a probabilistic model for the data (observed ellipcities o the galaxies) given the positions of the dark matter halos\n",
        "    - Using Bayes' rule to get the posterior distribution of the halo positions, i.e. to use the data to guess wherre the dark matter halos might be\n",
        "  - References"
      ]
    },
    {
      "cell_type": "markdown",
      "metadata": {
        "id": "4g7yzaiTEHY6"
      },
      "source": [
        "## Loss Functions"
      ]
    },
    {
      "cell_type": "code",
      "metadata": {
        "colab": {
          "base_uri": "https://localhost:8080/"
        },
        "id": "_WlZktnIE-aF",
        "outputId": "5a8fccec-cd34-4766-f4d3-abf459bca5fc"
      },
      "source": [
        "!pip3 install -U pip\n",
        "!pip3 uninstall -y tensorflow tensorflow-probability\n",
        "!pip3 install -U jax tfp-nightly[jax]\n",
        "\n",
        "!pip3 install -q wget"
      ],
      "execution_count": 1,
      "outputs": [
        {
          "output_type": "stream",
          "text": [
            "Collecting pip\n",
            "\u001b[?25l  Downloading https://files.pythonhosted.org/packages/47/ca/f0d790b6e18b3a6f3bd5e80c2ee4edbb5807286c21cdd0862ca933f751dd/pip-21.1.3-py3-none-any.whl (1.5MB)\n",
            "\u001b[K     |████████████████████████████████| 1.6MB 4.1MB/s \n",
            "\u001b[?25hInstalling collected packages: pip\n",
            "  Found existing installation: pip 19.3.1\n",
            "    Uninstalling pip-19.3.1:\n",
            "      Successfully uninstalled pip-19.3.1\n",
            "Successfully installed pip-21.1.3\n",
            "Found existing installation: tensorflow 2.5.0\n",
            "Uninstalling tensorflow-2.5.0:\n",
            "  Successfully uninstalled tensorflow-2.5.0\n",
            "Found existing installation: tensorflow-probability 0.13.0\n",
            "Uninstalling tensorflow-probability-0.13.0:\n",
            "  Successfully uninstalled tensorflow-probability-0.13.0\n",
            "\u001b[33mWARNING: Running pip as the 'root' user can result in broken permissions and conflicting behaviour with the system package manager. It is recommended to use a virtual environment instead: https://pip.pypa.io/warnings/venv\u001b[0m\n",
            "Requirement already satisfied: jax in /usr/local/lib/python3.7/dist-packages (0.2.13)\n",
            "Collecting jax\n",
            "  Downloading jax-0.2.17.tar.gz (693 kB)\n",
            "\u001b[K     |████████████████████████████████| 693 kB 4.3 MB/s \n",
            "\u001b[?25hCollecting tfp-nightly[jax]\n",
            "  Downloading tfp_nightly-0.14.0.dev20210630-py2.py3-none-any.whl (5.5 MB)\n",
            "\u001b[K     |████████████████████████████████| 5.5 MB 11.6 MB/s \n",
            "\u001b[?25hRequirement already satisfied: numpy>=1.17 in /usr/local/lib/python3.7/dist-packages (from jax) (1.19.5)\n",
            "Requirement already satisfied: absl-py in /usr/local/lib/python3.7/dist-packages (from jax) (0.12.0)\n",
            "Requirement already satisfied: opt_einsum in /usr/local/lib/python3.7/dist-packages (from jax) (3.3.0)\n",
            "Requirement already satisfied: six in /usr/local/lib/python3.7/dist-packages (from absl-py->jax) (1.15.0)\n",
            "Requirement already satisfied: dm-tree in /usr/local/lib/python3.7/dist-packages (from tfp-nightly[jax]) (0.1.6)\n",
            "Requirement already satisfied: cloudpickle>=1.3 in /usr/local/lib/python3.7/dist-packages (from tfp-nightly[jax]) (1.3.0)\n",
            "Requirement already satisfied: decorator in /usr/local/lib/python3.7/dist-packages (from tfp-nightly[jax]) (4.4.2)\n",
            "Requirement already satisfied: gast>=0.3.2 in /usr/local/lib/python3.7/dist-packages (from tfp-nightly[jax]) (0.4.0)\n",
            "Requirement already satisfied: jaxlib in /usr/local/lib/python3.7/dist-packages (from tfp-nightly[jax]) (0.1.66+cuda110)\n",
            "Requirement already satisfied: scipy in /usr/local/lib/python3.7/dist-packages (from jaxlib->tfp-nightly[jax]) (1.4.1)\n",
            "Requirement already satisfied: flatbuffers in /usr/local/lib/python3.7/dist-packages (from jaxlib->tfp-nightly[jax]) (1.12)\n",
            "Building wheels for collected packages: jax\n",
            "  Building wheel for jax (setup.py) ... \u001b[?25l\u001b[?25hdone\n",
            "  Created wheel for jax: filename=jax-0.2.17-py3-none-any.whl size=797307 sha256=3702199d15a0f615f26ca5d69444e99ec2366554289b2a8503fdbd594030ab31\n",
            "  Stored in directory: /root/.cache/pip/wheels/ab/97/b8/d5732f229a9069d28dee175ebcd36d61569e8fc10a34aafb4d\n",
            "Successfully built jax\n",
            "Installing collected packages: tfp-nightly, jax\n",
            "  Attempting uninstall: jax\n",
            "    Found existing installation: jax 0.2.13\n",
            "    Uninstalling jax-0.2.13:\n",
            "      Successfully uninstalled jax-0.2.13\n",
            "Successfully installed jax-0.2.17 tfp-nightly-0.14.0.dev20210630\n",
            "\u001b[33mWARNING: Running pip as the 'root' user can result in broken permissions and conflicting behaviour with the system package manager. It is recommended to use a virtual environment instead: https://pip.pypa.io/warnings/venv\u001b[0m\n",
            "  Building wheel for wget (setup.py) ... \u001b[?25l\u001b[?25hdone\n",
            "\u001b[33mWARNING: Running pip as the 'root' user can result in broken permissions and conflicting behaviour with the system package manager. It is recommended to use a virtual environment instead: https://pip.pypa.io/warnings/venv\u001b[0m\n"
          ],
          "name": "stdout"
        }
      ]
    },
    {
      "cell_type": "code",
      "metadata": {
        "id": "8ZBkOe7soqtz"
      },
      "source": [
        "\"\"\"\n",
        "The book uses a custom matplotlibrc file, which provides the unique styles for\n",
        "matplotlib plots. If executing this book, and you wish to use the book's\n",
        "styling, provided are two options:\n",
        "    1. Overwrite your own matplotlibrc file with the rc-file provided in the\n",
        "       book's styles/ dir. See http://matplotlib.org/users/customizing.html\n",
        "    2. Also in the styles is  bmh_matplotlibrc.json file. This can be used to\n",
        "       update the styles in only this notebook. Try running the following code:\n",
        "\n",
        "        import json\n",
        "        s = json.load(open(\"../styles/bmh_matplotlibrc.json\"))\n",
        "        matplotlib.rcParams.update(s)\n",
        "\"\"\"\n",
        "from jax import random\n",
        "import jax.numpy as np\n",
        "from jax.numpy import (\n",
        "    int32 as i32,\n",
        "    float32 as f32)\n",
        "from tensorflow_probability.substrates import jax as tfp\n",
        "tfd = tfp.distributions\n",
        "Binomial, Exponential, Independent, Normal, Poisson, Uniform = \\\n",
        "    tfd.Binomial, tfd.Exponential, tfd.Independent, tfd.Normal, tfd.Poisson, tfd.Uniform\n",
        "tfb = tfp.bijectors\n",
        "\n",
        "from scipy.optimize import fmin\n",
        "\n",
        "from IPython.core.pylabtools import figsize\n",
        "import matplotlib.pyplot as plt\n",
        "import seaborn as sns\n",
        "\n",
        "import wget\n",
        "\n",
        "plt.style.use('fivethirtyeight')\n",
        "\n",
        "%config InlineBackend.figure_format = 'retina'\n",
        "\n",
        "%matplotlib inline\n",
        "\n",
        "sns.set_context('notebook')\n",
        "\n",
        "TFColor = [\n",
        "    '#F15854',\n",
        "    '#5DA5DA',\n",
        "    '#FAA43A',\n",
        "    '#60BD68',\n",
        "    '#F17CB0',\n",
        "    '#B2912F',\n",
        "    '#B276B2',\n",
        "    '#DECF3F',\n",
        "    '#4D4D4D']"
      ],
      "execution_count": 2,
      "outputs": []
    },
    {
      "cell_type": "markdown",
      "metadata": {
        "id": "MIClIB5Dz0Mt"
      },
      "source": [
        "### Would you rather lose an arm or a leg?\n",
        "\n",
        "Statisticians can be a sour bunch. Instead of considering their winnings, they only measure how much they have lost. In fact, they consider their wins as *negative losses*. But what's interesting is *how they measure their losses.*\n",
        "\n",
        "For example, consider the following example:\n",
        "\n",
        ">   A meteorologist is predicting the probability of a possible hurricane striking his city. He estimates, with 95% confidence, that the probability of it *not* striking is between 99% - 100%. He is very happy with his precision and advises the city that a major evacuation is unnecessary. Unfortunately, the hurricane does strike and the city is flooded. \n",
        "\n",
        "This stylised example shows the flaw in using a pure accuracy metric to measure outcomes. Using a measure that emphasises estimation accuracy, while an appealing and *objective* thing to do, misses the point of why you are even performing the statistical inference in the first place: results of inference. The author Nassim Taleb of *The Black Swan* and *Antifragility* stresses the importance of the *payoffs* of decisions, *not the accuracy*. Taleb distills this quite succinctly: \"I would rather be vaguely right than very wrong.\"  "
      ]
    },
    {
      "cell_type": "markdown",
      "metadata": {
        "id": "bvbT7rFEzwpw"
      },
      "source": [
        "## Loss Functions\n",
        "\n",
        "We introduce what statisticians and decision theorists call *loss functions*. A loss function is a function of the true parameter, and an estimate of that parameter\n",
        "\n",
        "$$ L( \\theta, \\hat{\\theta} ) = f( \\theta, \\hat{\\theta} )$$\n",
        "\n",
        "The important point of loss functions is that it measures how *bad* our current estimate is: the larger the loss, the worse the estimate is according to the loss function. A simple, and very common, example of a loss function is the *squared-error loss*:\n",
        "\n",
        "$$ L( \\theta, \\hat{\\theta} ) = ( \\theta -  \\hat{\\theta} )^2$$\n",
        "\n",
        "The squared-error loss function is used in estimators like linear regression, UMVUEs and many areas of machine learning. We can also consider an asymmetric squared-error loss function, something like:\n",
        "\n",
        "$$ L( \\theta, \\hat{\\theta} ) = \\begin{cases} ( \\theta -  \\hat{\\theta} )^2 & \\hat{\\theta} \\lt \\theta \\\\\\\\ c( \\theta -  \\hat{\\theta} )^2 & \\hat{\\theta} \\ge \\theta, \\;\\; 0\\lt c \\lt 1 \\end{cases}$$\n",
        "\n",
        "\n",
        "which represents that estimating a value larger than the true estimate is preferable to estimating a value below. A situation where this might be useful is in estimating web traffic for the next month, where an over-estimated outlook is preferred so as to avoid an underallocation of server resources. \n",
        "\n",
        "A negative property about the squared-error loss is that it puts a disproportionate emphasis on large outliers. This is because the loss increases quadratically, and not linearly, as the estimate moves away. That is, the penalty of being three units away is much less than being five units away, but the penalty is not much greater than being one unit away, though in both cases the magnitude of difference is the same:\n",
        "\n",
        "$$ \\frac{1^2}{3^2} \\lt \\frac{3^2}{5^2}, \\;\\; \\text{although} \\;\\; 3-1 = 5-3 $$\n",
        "\n",
        "This loss function imposes that large errors are *very* bad. A more *robust* loss function that increases linearly with the difference is the *absolute-loss*\n",
        "\n",
        "$$ L( \\theta, \\hat{\\theta} ) = | \\theta -  \\hat{\\theta} | $$\n",
        "\n",
        "Other popular loss functions include:\n",
        "\n",
        "-  $L( \\theta, \\hat{\\theta} ) = \\mathbb{1}_{ \\hat{\\theta} \\neq \\theta }$ is the zero-one loss often used in machine learning classification algorithms.\n",
        "-  $L( \\theta, \\hat{\\theta} ) = -\\theta\\log( \\hat{\\theta} ) - (1- \\theta)\\log( 1 - \\hat{\\theta} ), \\; \\; \\theta \\in {0,1}, \\; \\hat{\\theta} \\in [0,1]$, called the *log-loss*, also used in machine learning. \n",
        "\n",
        "Historically, loss functions have been motivated from 1) mathematical convenience, and 2) they are robust to application, i.e., they are objective measures of loss. The first reason has really held back the full breadth of loss functions. With computers being agnostic to mathematical convenience, we are free to design our own loss functions, which we take full advantage of later in this Chapter.\n",
        "\n",
        "With respect to the second point, the above loss functions are indeed objective, in that they are most often a function of the difference between estimate and true parameter, independent of signage or payoff of choosing that estimate. This last point, its independence of payoff, causes quite pathological results though. Consider our hurricane example above: the statistician equivalently predicted that the probability of the hurricane striking was between 0% to 1%. But if he had ignored being precise and instead focused on outcomes (99% chance of no flood, 1% chance of flood), he might have advised differently. \n",
        "\n",
        "By shifting our focus from trying to be incredibly precise about parameter estimation to focusing on the outcomes of our parameter estimation, we can customise our estimates to be optimised for our application. This requires us to design new loss functions that reflect our goals and outcomes. Some examples of more interesting loss functions:\n",
        "\n",
        "\n",
        "- $L( \\theta, \\hat{\\theta} ) = \\frac{ | \\theta - \\hat{\\theta} | }{ \\theta(1-\\theta) }, \\; \\; \\hat{\\theta}, \\theta \\in [0,1]$ emphasises an estimate closer to 0 or 1 since if the true value $\\theta$ is near 0 or 1, the loss will be *very* large unless $\\hat{\\theta}$ is similarly close to 0 or 1. \n",
        "This loss function might be used by a political pundit whose job requires him or her to give confident \"Yes/No\" answers. This loss reflects that if the true parameter is close to 1 (for example, if a political outcome is very likely to occur), he or she would want to strongly agree as not to look like a sceptic. \n",
        "\n",
        "-  $L( \\theta, \\hat{\\theta} ) =  1 - \\exp \\left( -(\\theta -  \\hat{\\theta} )^2 \\right)$ is bounded between 0 and 1 and reflects that the user is indifferent to sufficiently-far-away estimates. It is similar to the zero-one loss above, but not quite as penalising to estimates that are close to the true parameter. \n",
        "-  Complicated non-linear loss functions can be programmed: \n",
        "```python\n",
        "        def loss(true_value, estimate):\n",
        "            if estimate * true_value > 0:\n",
        "                return abs(estimate - true_value)\n",
        "            else:\n",
        "               return abs(estimate) * (estimate - true_value)**2\n",
        "```\n",
        "\n",
        "\n",
        "-  Another example is from the book *The Signal and The Noise*. Weather forecasters have an interesting loss function for their predictions.\n",
        "\n",
        "\n",
        ">  People notice one type of mistake &mdash; the failure to predict rain &mdash; more than other, false alarms. If it rains when it isn't supposed to, they curse the weatherman for ruining their picnic, whereas an unexpectedly sunny day is taken as a serendipitous bonus.\n",
        "\n",
        ">  [The Weather Channel's bias] is limited to slightly exaggerating the probability of rain when it is unlikely to occur &mdash; saying there is a 20 percent change when they know it is really a 5 or 10 percent chance &mdash; covering their butts in the case of an unexpected sprinkle.\n",
        "\n",
        "\n",
        "As you can see, loss functions can be used for good and evil: with great power, comes great &mdash; well you know.\n"
      ]
    },
    {
      "cell_type": "markdown",
      "metadata": {
        "id": "13afsKrzzqup"
      },
      "source": [
        "##  Loss functions in the real world\n",
        "\n",
        "So far we have been under the unrealistic assumption that we know the true parameter. Of course if we knew the true parameter, bothering to guess an estimate is pointless. Hence a loss function is really only practical when the true parameter is unknown. \n",
        "\n",
        "In Bayesian inference, we have a mindset that the unknown parameters are really random variables with prior and posterior distributions. Concerning the posterior distribution, a value drawn from it is a *possible* realisation of what the true parameter could be. Given that realisation, we can compute a loss associated with an estimate. As we have a whole distribution of what the unknown parameter could be (the posterior), we should be more interested in computing the *expected loss* given an estimate. This expected loss is a better estimate of the true loss than comparing the given loss from only a single sample from the posterior.\n",
        "\n",
        "First it will be useful to explain a *Bayesian point estimate*. The systems and machinery present in the modern world are not built to accept posterior distributions as input. It is also rude to hand someone over a distribution when all they asked for was an estimate. In the course of an individual's day, when faced with uncertainty we still act by distilling our uncertainty down to a single action. Similarly, we need to distill our posterior distribution down to a single value (or vector in the multivariate case). If the value is chosen intelligently, we can avoid the flaw of frequentist methodologies that mask the uncertainty and provide a more informative result. The value chosen, if from a Bayesian posterior, is a Bayesian point estimate. \n",
        "\n",
        "Suppose $P(\\theta | X)$ is the posterior distribution of $\\theta$ after observing data $X$, then the following function is understandable as the *expected loss of choosing estimate $\\hat{\\theta}$ to estimate $\\theta$*:\n",
        "\n",
        "$$ l(\\hat{\\theta} ) = E_{\\theta}\\left[L(\\theta, \\hat{\\theta}) \\right] $$\n",
        "\n",
        "This is also known as the *risk* of estimate $\\hat{\\theta}$. The subscript $\\theta$ under the expectation symbol is used to denote that $\\theta$ is the unknown (random) variable in the expectation, something that at first can be difficult to consider.\n",
        "\n",
        "We spent all of last chapter discussing how to approximate expected values. Given $N$ samples $\\theta_i,\\; i=1,...,N$ from the posterior distribution, and a loss function $L$, we can approximate the expected loss of using estimate $\\hat{\\theta}$ by the Law of Large Numbers:\n",
        "\n",
        "$$\\frac{1}{N} \\sum_{i=1}^N L(\\theta_i, \\hat{\\theta} ) \\approx E_{\\theta}\\left[L(\\theta, \\hat{\\theta}) \\right]  = l(\\hat{\\theta}) $$\n",
        "\n",
        "Notice that measuring your loss via an *expected value* uses more information from the distribution than the MAP estimate which, if you recall, will only find the maximum value of the distribution and ignore the shape of the distribution. Ignoring information can over-expose yourself to tail risks, like the unlikely hurricane, and leaves your estimate ignorant of how ignorant you really are about the parameter.\n",
        "\n",
        "Similarly, compare this with frequentist methods, that traditionally only aim to minimise the error, and do not consider the *loss associated with the result of that error*. Compound this with the fact that frequentist methods are almost guaranteed to never be absolutely accurate. Bayesian point estimates fix this by planning ahead: your estimate is going to be wrong, you might as well err on the right side of wrong."
      ]
    },
    {
      "cell_type": "markdown",
      "metadata": {
        "id": "lfuxjSXhoqty"
      },
      "source": [
        "## Example: Optimising for the *Showcase* on *The Price is Right*\n",
        "\n",
        "Bless you if you are ever chosen as a contestant on the Price is Right, for here we will show you how to optimise your final price on the *Showcase*. For those who forget the rules:\n",
        "\n",
        "\n",
        "1. Two contestants compete in *The Showcase*. \n",
        "2. Each contestant is shown a unique suite of prizes.\n",
        "3. After the viewing, the contestants are asked to bid on the price for their unique suite of prizes.\n",
        "4. If a bid price is over the actual price, the bid's owner is disqualified from winning.\n",
        "5. If a bid price is under the true price by less than $250, the winner is awarded both prizes.\n",
        "\n",
        "The difficulty in the game is balancing your uncertainty in the prices, keeping your bid low enough so as not to bid over, and trying to bid close to the price.\n",
        "\n",
        "Suppose we have recorded the *Showcases* from previous *The Price is Right* episodes and have *prior* beliefs about what distribution the true price follows. For simplicity, suppose it follows a Normal:\n",
        "\n",
        "\n",
        "$$\\text{True Price} \\sim \\text{Normal}(\\mu_p, \\sigma_p )$$\n",
        "\n",
        "\n",
        "In a later chapter, we will actually use *real Price is Right Showcase data* to form the historical prior, but this requires some advanced Tensorflow use so we will not use it here. For now, we will assume $\\mu_p = 35 000$ and $\\sigma_p = 7500$.\n",
        "\n",
        "We need a model of how we should be playing the *Showcase*. For each prize in the prize suite, we have an idea of what it might cost, but this guess could differ significantly from the true price. (Couple this with increased pressure being onstage and you can see why some bids are so wildly off). Let's suppose your beliefs about the prices of prizes also follow Normal distributions:\n",
        "\n",
        "$$ \\text{Prize}_i \\sim \\text{Normal}(\\mu_i, \\sigma_i ),\\;\\; i=1,2$$\n",
        "\n",
        "This is really why Bayesian analysis is great: we can specify what we think a fair price is through the $\\mu_i$ parameter, and express uncertainty of our guess in the $\\sigma_i$ parameter. \n",
        "\n",
        "We'll assume two prizes per suite for brevity, but this can be extended to any number. \n",
        "The true price of the prize suite is then given by $\\text{Prize}_1 + \\text{Prize}_2 + \\epsilon$, \n",
        "where $\\epsilon$ is some error term.\n",
        "\n",
        "We are interested in the updated $\\text{True Price}$ given we have observed both prizes and have belief distributions about them. We can perform this using Tensorflow Probability. \n",
        "\n",
        "Lets make some values concrete. Suppose there are two prizes in the observed prize suite: \n",
        "\n",
        "1. A trip to wonderful Toronto, Canada! \n",
        "2. A lovely new snowblower!\n",
        "\n",
        "We have some guesses about the true prices of these objects, but we are also pretty uncertain about them. I can express this uncertainty through the parameters of the Normals:\n",
        "\n",
        "\n",
        "\\begin{align*}\n",
        "\\text{snowblower} &\\sim \\text{Normal}(3 000, 500 ) \\\\\n",
        "\\text{Toronto} &\\sim \\text{Normal}(12 000, 3000 ) \\\\\n",
        "\\end{align*}\n",
        "\n",
        "For example, I believe that the true price of the trip to Toronto is 12 000 dollars, and that there is a 68.2% chance the price falls 1 standard deviation away from this, i.e. my confidence is that there is a 68.2% chance the trip is in [9 000, 15 000].\n",
        "\n",
        "We can create some TensorFlow code to perform inference on the true price of the suite. "
      ]
    },
    {
      "cell_type": "code",
      "metadata": {
        "id": "kOSDAQY9oqt5",
        "colab": {
          "base_uri": "https://localhost:8080/",
          "height": 659
        },
        "outputId": "1a4f9778-45ae-416a-bfff-48b4e6685cff"
      },
      "source": [
        "plt.figure(figsize(12.5, 11))\n",
        "\n",
        "plt.subplot(311)\n",
        "x = np.linspace(start = 0., stop = 60000., num = 250)\n",
        "\n",
        "historical_prices = Normal(loc = 35000., scale = 7500.).prob(x)\n",
        "snowblower_price_guesses = Normal(loc = 3000., scale = 500.).prob(x)\n",
        "trip_price_guess = Normal(loc = 12000., scale = 3000.).prob(x)\n",
        "\n",
        "sp1 = plt.fill_between(x, 0, historical_prices, color=TFColor[3], lw=3, \n",
        "                       alpha=.6, label=\"Historical total prices\")\n",
        "    \n",
        "p1 = plt.Rectangle((0, 0), 1, 1, fc=sp1.get_facecolor()[0])\n",
        "plt.legend([p1], [sp1.get_label()])\n",
        "\n",
        "plt.subplot(312)\n",
        "sp2 = plt.fill_between(x, 0, snowblower_price_guesses, color=TFColor[0], \n",
        "                       lw=3, alpha=.6, label=\"Snowblower price guess\")\n",
        "    \n",
        "p2 = plt.Rectangle((0, 0), 1, 1, fc=sp2.get_facecolor()[0])\n",
        "plt.legend([p2], [sp2.get_label()])\n",
        "\n",
        "plt.subplot(313)\n",
        "sp3 = plt.fill_between(x, 0, trip_price_guess, color=TFColor[6], lw=3, \n",
        "                       alpha=.6, label=\"Trip price guess\")\n",
        "p3 = plt.Rectangle((0, 0), 1, 1, fc=sp3.get_facecolor()[0])\n",
        "plt.legend([p3], [sp3.get_label()]);"
      ],
      "execution_count": 4,
      "outputs": [
        {
          "output_type": "display_data",
          "data": {
            "image/png": "[encoded data removed]",
            "text/plain": [
              "<Figure size 900x792 with 3 Axes>"
            ]
          },
          "metadata": {
            "tags": [],
            "image/png": {
              "width": 859,
              "height": 642
            },
            "needs_background": "light"
          }
        }
      ]
    },
    {
      "cell_type": "code",
      "metadata": {
        "id": "w3JI54U8oqt8"
      },
      "source": [
        "data_loc = [3000., 12000.]\n",
        "data_scale = [500., 3000.]\n",
        "\n",
        "loc_prior = 35000.\n",
        "scale_prior = 7500.\n",
        "    \n",
        "def posterior_log_prob(true_price, prize_1, prize_2):\n",
        "    \"\"\"Our posterior log probability, as a function of states\n",
        "    \n",
        "    Args:\n",
        "      true_price_: scalar of true price estimate, taken from state\n",
        "      prize_1: scalar of prize 1 estimate, to be added to the  prize 1 \n",
        "        estimate, taken from state\n",
        "      prize_2: scalar of prize 2 estimate, to be added to the prize 1 \n",
        "        estimate, taken from state\n",
        "    Returns: \n",
        "      Scalar sum of log probabilities\n",
        "    Closure over: data_loc, data_scale, loc_prior, scale_prior\n",
        "    \"\"\"\n",
        "    rv_true_price = Normal(loc = loc_prior, scale = scale_prior)\n",
        "    rv_prize_1 = Normal(loc = data_loc[0], scale = data_scale[0])\n",
        "    rv_prize_2 = Normal(loc = data_loc[1], scale = data_scale[1])\n",
        "    price_estimate = prize_1 + prize_2\n",
        "    rv_error = Normal(loc = price_estimate, scale = 3000.)\n",
        "    \n",
        "    return (\n",
        "          rv_true_price.log_prob(true_price)\n",
        "        + rv_prize_1.log_prob(prize_1)\n",
        "        + rv_prize_2.log_prob(prize_2)\n",
        "        + rv_error.log_prob(true_price))"
      ],
      "execution_count": 5,
      "outputs": []
    },
    {
      "cell_type": "code",
      "metadata": {
        "id": "3aI85hTgn6lU",
        "colab": {
          "base_uri": "https://localhost:8080/"
        },
        "outputId": "6bb76ed9-a9a5-40ac-edb1-330031b93957"
      },
      "source": [
        "num_results = 50000\n",
        "num_burnin_steps = 10000\n",
        "\n",
        "(true_price, prize_1, prize_2), kernel_results = tfp.mcmc.sample_chain(\n",
        "    num_results = num_results,\n",
        "    num_burnin_steps = num_burnin_steps,\n",
        "    current_state = [\n",
        "        np.full((1,), 20000.),\n",
        "        np.full((1,), 3000.),\n",
        "        np.full((1,), 12000.)],\n",
        "    kernel = tfp.mcmc.RandomWalkMetropolis(\n",
        "        # Specify a new callable that has the appropriate step size\n",
        "        new_state_fn = tfp.mcmc.random_walk_normal_fn(scale = 1000.),\n",
        "        target_log_prob_fn = posterior_log_prob),\n",
        "    parallel_iterations = 1,\n",
        "    seed = random.PRNGKey(0))\n",
        "\n",
        "posterior_price_predictive_samples = true_price[:, 0]\n",
        "\n",
        "# Performing computations\n",
        "# Can take up to 2 minutes in Graph Mode\n",
        "\n",
        "#  For metropolis hastings the acceptance probability should be around 0.234.\n",
        "#  See https://arxiv.org/pdf/1011.6217.pdf \n",
        "# print(\"Acceptance rate:\", np.mean(kernel_results.inner_results.inner_results.is_accepted))\n",
        "# print(\"Final step size:\", kernel_results.new_step_size[-100:].mean())\n",
        "\n",
        "print(\"posterior_price_predictive_sample trace:\\n   \", posterior_price_predictive_samples)"
      ],
      "execution_count": 6,
      "outputs": [
        {
          "output_type": "stream",
          "text": [
            "/usr/local/lib/python3.7/dist-packages/tensorflow_probability/substrates/jax/mcmc/sample.py:352: UserWarning: Tracing all kernel results by default is deprecated. Set the `trace_fn` argument to None (the future default value) or an explicit callback that traces the values you are interested in.\n",
            "  warnings.warn('Tracing all kernel results by default is deprecated. Set '\n"
          ],
          "name": "stderr"
        },
        {
          "output_type": "stream",
          "text": [
            "posterior_price_predictive_sample trace:\n",
            "    [22002.537 22892.533 22892.533 ... 24248.465 23760.043 23760.043]\n"
          ],
          "name": "stdout"
        }
      ]
    },
    {
      "cell_type": "code",
      "metadata": {
        "id": "j_jDroqFETWA",
        "colab": {
          "base_uri": "https://localhost:8080/",
          "height": 283
        },
        "outputId": "5a496d59-8969-4789-c54b-8780e3d83278"
      },
      "source": [
        "plt.figure(figsize(12.5, 4))\n",
        "prices = np.linspace(start = 5000., stop = 40000., num = 35000)\n",
        "prior = tfd.Normal(loc = 35000., scale = 7500.).prob(prices)\n",
        "\n",
        "plt.plot(prices, prior, c='k', lw=2,\n",
        "         label=\"Prior dist. of suite price\")\n",
        "\n",
        "hist = plt.hist(posterior_price_predictive_samples, bins=35, histtype='stepfilled')\n",
        "plt.title(\"Posterior of the true price estimate\")\n",
        "plt.vlines(loc_prior, 0, 1.1 * np.max(hist[0]), label=\"Prior's mean\",\n",
        "           linestyles='--')\n",
        "plt.vlines(np.mean(posterior_price_predictive_samples), 0, 1.1 * np.max(hist[0]),\n",
        "           label=\"Posterior's mean\", linestyles='-.')\n",
        "plt.legend(loc='upper left');"
      ],
      "execution_count": 7,
      "outputs": [
        {
          "output_type": "display_data",
          "data": {
            "image/png": "[encoded data removed]",
            "text/plain": [
              "<Figure size 900x288 with 1 Axes>"
            ]
          },
          "metadata": {
            "tags": [],
            "image/png": {
              "width": 835,
              "height": 266
            },
            "needs_background": "light"
          }
        }
      ]
    },
    {
      "cell_type": "markdown",
      "metadata": {
        "id": "yZDvbxrMoquG"
      },
      "source": [
        "Notice that because of our two observed prizes and subsequent guesses (including uncertainty about those guesses), we shifted our mean price estimate down about $15 000 dollars from the previous mean price.\n",
        "\n",
        "A frequentist, seeing the two prizes and having the same beliefs about their prices, would bid $\\mu_1 + \\mu_2 = 35000$, regardless of any uncertainty. Meanwhile, the *naive Bayesian* would simply pick the mean of the posterior distribution. But we have more information about our eventual outcomes; we should incorporate this into our bid. We will use the loss function above to find the *best* bid (*best* according to our loss).\n",
        "\n",
        "What might a contestant's loss function look like? I would think it would look something like:\n",
        "\n",
        "```python\n",
        "def showcase_loss(guess, true_price, risk=80000):\n",
        "    if true_price < guess:\n",
        "        return risk\n",
        "    elif abs(true_price - guess) <= 250:\n",
        "        return -2 * np.abs(true_price)\n",
        "    else:\n",
        "        return np.abs(true_price - guess - 250)\n",
        "```\n",
        "\n",
        "where `risk` is a parameter that defines of how bad it is if your guess is over the true price. A lower `risk` means that you are more comfortable with the idea of going over. If we do bid under and the difference is less than $250, we receive both prizes (modeled here as receiving twice the original prize). Otherwise, when we bid under the `true_price` we want to be as close as possible, hence the `else` loss is a increasing function of the distance between the guess and true price."
      ]
    },
    {
      "cell_type": "code",
      "metadata": {
        "id": "tIRbeW9aFLL8",
        "colab": {
          "base_uri": "https://localhost:8080/",
          "height": 619
        },
        "outputId": "7760b0de-27f8-4105-b3da-8efb563b6296"
      },
      "source": [
        "def showdown_loss(guess, size, true_price, risk = 80000):\n",
        "    \"\"\"Stock Loss function.\n",
        "\n",
        "    Args:\n",
        "        guess: float32 Tensor, representing a range of guesses for the price, or one guess\n",
        "        size: int size of guess\n",
        "        true_price: float32 Tensor of size 50000 x num_guesses, representing the \n",
        "            prices from the HMC sampling, broadcast to each of the num_guesses guesses           \n",
        "        risk: a scalar value representing a penalizer for a score going over\n",
        "            (lower risk indicates more comfort with the price going over)\n",
        "\n",
        "    Returns:\n",
        "        loss: tensor of shape (true_price.shape,guess.shape), returning the loss function per definition in accompanying text\n",
        "    \"\"\"\n",
        "    true_price = np.transpose(np.broadcast_to(true_price, (size, true_price.shape[0])))\n",
        "    risk = np.broadcast_to(np.array(risk, dtype = f32), true_price.shape)\n",
        "    return np.where(true_price < guess,\n",
        "                    risk,\n",
        "                    np.where(np.abs(true_price - guess) <= 1,\n",
        "                             -2 * np.abs(true_price),\n",
        "                             np.abs(true_price - guess - 250)))\n",
        "       \n",
        "num_guesses = 70\n",
        "num_risks = 6\n",
        "guesses = np.linspace(5000., 50000., num = num_guesses) \n",
        "risks = np.linspace(30000, 150000, num = num_risks)\n",
        "results_cache = np.zeros((num_risks, num_guesses))\n",
        "\n",
        "def expected_loss(guess, size, risk):\n",
        "    return np.mean(\n",
        "        showdown_loss(guess, size, posterior_price_predictive_samples, risk),\n",
        "        axis = 0)\n",
        "\n",
        "risk_num = 0\n",
        "for risk in risks:\n",
        "    results = expected_loss(guesses, num_guesses, risk)\n",
        "    plt.plot(guesses, results, label=str(risk))\n",
        "    results_cache[risk_num, :] = results\n",
        "    risk_num += 1\n",
        "plt.title(\"Expected loss of different guesses, \\nvarious risk-levels of overestimating\")\n",
        "plt.legend(loc='upper left', title=\"Risk parameter\")\n",
        "plt.xlabel(\"Price bid\")\n",
        "plt.ylabel(\"Expected loss\")\n",
        "plt.xlim(7000, 30000)\n",
        "plt.ylim(-1000, 80000);"
      ],
      "execution_count": 8,
      "outputs": [
        {
          "output_type": "error",
          "ename": "TypeError",
          "evalue": "ignored",
          "traceback": [
            "\u001b[0;31m---------------------------------------------------------------------------\u001b[0m",
            "\u001b[0;31mTypeError\u001b[0m                                 Traceback (most recent call last)",
            "\u001b[0;32m<ipython-input-8-004b3b1a6a7a>\u001b[0m in \u001b[0;36m<module>\u001b[0;34m()\u001b[0m\n\u001b[1;32m     36\u001b[0m     \u001b[0mresults\u001b[0m \u001b[0;34m=\u001b[0m \u001b[0mexpected_loss\u001b[0m\u001b[0;34m(\u001b[0m\u001b[0mguesses\u001b[0m\u001b[0;34m,\u001b[0m \u001b[0mnum_guesses\u001b[0m\u001b[0;34m,\u001b[0m \u001b[0mrisk\u001b[0m\u001b[0;34m)\u001b[0m\u001b[0;34m\u001b[0m\u001b[0;34m\u001b[0m\u001b[0m\n\u001b[1;32m     37\u001b[0m     \u001b[0mplt\u001b[0m\u001b[0;34m.\u001b[0m\u001b[0mplot\u001b[0m\u001b[0;34m(\u001b[0m\u001b[0mguesses\u001b[0m\u001b[0;34m,\u001b[0m \u001b[0mresults\u001b[0m\u001b[0;34m,\u001b[0m \u001b[0mlabel\u001b[0m\u001b[0;34m=\u001b[0m\u001b[0mstr\u001b[0m\u001b[0;34m(\u001b[0m\u001b[0mrisk\u001b[0m\u001b[0;34m)\u001b[0m\u001b[0;34m)\u001b[0m\u001b[0;34m\u001b[0m\u001b[0;34m\u001b[0m\u001b[0m\n\u001b[0;32m---> 38\u001b[0;31m     \u001b[0mresults_cache\u001b[0m\u001b[0;34m[\u001b[0m\u001b[0mrisk_num\u001b[0m\u001b[0;34m,\u001b[0m \u001b[0;34m:\u001b[0m\u001b[0;34m]\u001b[0m \u001b[0;34m=\u001b[0m \u001b[0mresults\u001b[0m\u001b[0;34m\u001b[0m\u001b[0;34m\u001b[0m\u001b[0m\n\u001b[0m\u001b[1;32m     39\u001b[0m     \u001b[0mrisk_num\u001b[0m \u001b[0;34m+=\u001b[0m \u001b[0;36m1\u001b[0m\u001b[0;34m\u001b[0m\u001b[0;34m\u001b[0m\u001b[0m\n\u001b[1;32m     40\u001b[0m \u001b[0mplt\u001b[0m\u001b[0;34m.\u001b[0m\u001b[0mtitle\u001b[0m\u001b[0;34m(\u001b[0m\u001b[0;34m\"Expected loss of different guesses, \\nvarious risk-levels of overestimating\"\u001b[0m\u001b[0;34m)\u001b[0m\u001b[0;34m\u001b[0m\u001b[0;34m\u001b[0m\u001b[0m\n",
            "\u001b[0;32m/usr/local/lib/python3.7/dist-packages/jax/_src/numpy/lax_numpy.py\u001b[0m in \u001b[0;36m_unimplemented_setitem\u001b[0;34m(self, i, x)\u001b[0m\n\u001b[1;32m   5877\u001b[0m          \u001b[0;34m\"immutable; perhaps you want jax.ops.index_update or \"\u001b[0m\u001b[0;34m\u001b[0m\u001b[0;34m\u001b[0m\u001b[0m\n\u001b[1;32m   5878\u001b[0m          \"jax.ops.index_add instead?\")\n\u001b[0;32m-> 5879\u001b[0;31m   \u001b[0;32mraise\u001b[0m \u001b[0mTypeError\u001b[0m\u001b[0;34m(\u001b[0m\u001b[0mmsg\u001b[0m\u001b[0;34m.\u001b[0m\u001b[0mformat\u001b[0m\u001b[0;34m(\u001b[0m\u001b[0mtype\u001b[0m\u001b[0;34m(\u001b[0m\u001b[0mself\u001b[0m\u001b[0;34m)\u001b[0m\u001b[0;34m)\u001b[0m\u001b[0;34m)\u001b[0m\u001b[0;34m\u001b[0m\u001b[0;34m\u001b[0m\u001b[0m\n\u001b[0m\u001b[1;32m   5880\u001b[0m \u001b[0;34m\u001b[0m\u001b[0m\n\u001b[1;32m   5881\u001b[0m \u001b[0;32mdef\u001b[0m \u001b[0m_operator_round\u001b[0m\u001b[0;34m(\u001b[0m\u001b[0mnumber\u001b[0m\u001b[0;34m,\u001b[0m \u001b[0mndigits\u001b[0m\u001b[0;34m=\u001b[0m\u001b[0;32mNone\u001b[0m\u001b[0;34m)\u001b[0m\u001b[0;34m:\u001b[0m\u001b[0;34m\u001b[0m\u001b[0;34m\u001b[0m\u001b[0m\n",
            "\u001b[0;31mTypeError\u001b[0m: '<class 'jaxlib.xla_extension.DeviceArray'>' object does not support item assignment. JAX arrays are immutable; perhaps you want jax.ops.index_update or jax.ops.index_add instead?"
          ]
        },
        {
          "output_type": "display_data",
          "data": {
            "image/png": "[encoded data removed]",
            "text/plain": [
              "<Figure size 900x288 with 1 Axes>"
            ]
          },
          "metadata": {
            "tags": [],
            "image/png": {
              "width": 842,
              "height": 251
            },
            "needs_background": "light"
          }
        }
      ]
    },
    {
      "cell_type": "markdown",
      "metadata": {
        "id": "4zWmZhrFoquH"
      },
      "source": [
        "For every possible bid, we calculate the *expected loss* associated with that bid. We vary the `risk` parameter to see how it affects our loss:"
      ]
    },
    {
      "cell_type": "markdown",
      "metadata": {
        "id": "yNi7TZ2PoquL"
      },
      "source": [
        "### Minimising our losses\n",
        "\n",
        "It would be wise to choose the estimate that minimises our expected loss. This corresponds to the minimum point on each of the curves above. More formally, we would like to minimise our expected loss by finding the solution to\n",
        "\n",
        "$$ \\text{arg} \\min_{\\hat{\\theta}} E_{\\theta}\\left[ L(\\theta, \\hat{\\theta}) \\right] $$\n",
        "\n",
        "The minimum of the expected loss is called the *Bayes action*. \n",
        "\n",
        "We'll compute the minimum loss for the *Showcase* example above:"
      ]
    },
    {
      "cell_type": "code",
      "metadata": {
        "id": "7MwzwYAltIhY"
      },
      "source": [
        "ax = plt.subplot(111)\n",
        "\n",
        "risk_num = 0\n",
        "\n",
        "for _p in risks:  \n",
        "    color = next(ax._get_lines.prop_cycler)\n",
        "    results = results_cache[risk_num, :]\n",
        "    value = tf.Variable(15000., trainable=True)\n",
        "\n",
        "    loss = -expected_loss(value, 1, tf.constant(_p, dtype = f32))\n",
        "    optimizer = tf.optimizers.Adam(10)\n",
        "    opt_min = optimizer.minimize(loss, var_list=[value])\n",
        "    min_losses = []\n",
        "    min_values = []\n",
        "    for i in range(500):\n",
        "        min_losses.append(loss)\n",
        "        min_values.append(value)\n",
        "    min_losses = np.asarray(min_losses)\n",
        "    min_values = np.asarray(min_values)\n",
        "    min_results = min_values[np.argmax(min_losses)]\n",
        "    plt.plot(guesses, results , color= color['color'])\n",
        "    plt.scatter(min_results, 0, s=60,\n",
        "                color=color['color'], label=str(_p))\n",
        "    plt.vlines((min_results), 0, 120000, color= color['color'], linestyles='--')\n",
        "    print(f\"minimum at risk {_p}: {min_results_:.2f}\")\n",
        "    risk_num_+= 1\n",
        "                                    \n",
        "plt.title(\"Expected loss & Bayes actions of different guesses, \\n \\\n",
        "various risk-levels of overestimating\")\n",
        "plt.legend(loc=\"upper left\", scatterpoints=1, title=\"Bayes action at risk:\")\n",
        "plt.xlabel(\"Price guess\")\n",
        "plt.ylabel(\"Expected loss\")\n",
        "plt.xlim(7000, 30000)\n",
        "plt.ylim(-1000, 80000);\n"
      ],
      "execution_count": null,
      "outputs": []
    },
    {
      "cell_type": "markdown",
      "metadata": {
        "id": "f_J0GQqAoquO"
      },
      "source": [
        "As intuition suggests, as we decrease the risk threshold (care about overbidding less), we increase our bid, willing to edge closer to the true price. It is interesting how far away our optimised loss is from the posterior mean, which was about 20 000. \n",
        "\n",
        "Suffice to say, in higher dimensions being able to eyeball the minimum expected loss is impossible. \n"
      ]
    },
    {
      "cell_type": "markdown",
      "metadata": {
        "id": "9LykAt1JoquO"
      },
      "source": [
        "### Shortcuts\n",
        "\n",
        "For some loss functions, the Bayes action is known in closed form. We list some of them below:\n",
        "\n",
        "-  If using the mean-squared loss, the Bayes action is the mean of the posterior distribution, i.e. the value \n",
        "$$ E_{\\theta}\\left[ \\theta \\right] $$\n",
        "\n",
        ">  minimises $E_{\\theta}\\left[ (\\theta - \\hat{\\theta})^2 \\right]$. Computationally this requires us to calculate the average of the posterior samples [See chapter 4 on The Law of Large Numbers]\n",
        "\n",
        "-  Whereas the *median* of the posterior distribution minimises the expected absolute-loss. The sample median of the posterior samples is an appropriate and very accurate approximation to the true median.\n",
        "\n",
        "-  In fact, it is possible to show that the MAP estimate is the solution to using a loss function that shrinks to the zero-one loss.\n",
        "\n",
        "\n",
        "Maybe it is clear now why the first-introduced loss functions are used most often in the mathematics of Bayesian inference: no complicated optimisations are necessary. Luckily, we have machines to do the complications for us. "
      ]
    },
    {
      "cell_type": "markdown",
      "metadata": {
        "id": "i8noiGrAoquO"
      },
      "source": [
        "## Machine Learning via Bayesian Methods\n",
        "\n",
        "Whereas frequentist methods strive to achieve the best precision about all possible parameters, machine learning cares to achieve the best *prediction* among all possible parameters. Of course, one way to achieve accurate predictions is to aim for accurate predictions, but often your prediction measure and what frequentist methods are optimising for are very different. \n",
        "\n",
        "For example, least-squares linear regression is the most simple active machine learning algorithm. I say active as it engages in some learning, whereas predicting the sample mean is technically *simpler*, but is learning very little if anything. The loss that determines the coefficients of the regressors is a squared-error loss. On the other hand, if your prediction loss function (or score function, which is the negative loss) is not a squared-error, like AUC, ROC, precision, etc., your least-squares line will not be optimal for the prediction loss function. This can lead to prediction results that are suboptimal. \n",
        "\n",
        "Finding Bayes actions is equivalent to finding parameters that optimise *not parameter accuracy* but an arbitrary performance measure, however we wish to define performance (loss functions, AUC, ROC, precision/recall etc.).\n",
        "\n",
        "The next two examples demonstrate these ideas. The first example is a linear model where we can choose to predict using the least-squares loss or a novel, outcome-sensitive loss. \n",
        "\n",
        "The second example is adapted from a Kaggle data science project. The loss function associated with our predictions is incredibly complicated. "
      ]
    },
    {
      "cell_type": "markdown",
      "metadata": {
        "id": "mhqQdIx3ofeh"
      },
      "source": [
        "# Example: Financial prediction\n",
        "\n",
        "\n",
        "Suppose the future return of a stock price is very small, say 0.01 (or 1%). We have a model that predicts the stock's future price, and our profit and loss is directly tied to us acting on the prediction.  How should we measure the loss associated with the model's predictions, and subsequent future predictions? A squared-error loss is agnostic to the signage and would penalise a prediction of -0.01 equally as bad a prediction of 0.03:\n",
        "\n",
        "$$ (0.01 - (-0.01))^2 = (0.01 - 0.03)^2 = 0.004$$\n",
        "\n",
        "If you had made a bet based on your model's prediction, you would have earned money with a prediction of 0.03, and lost money with a prediction of -0.01, yet our loss did not capture this. We need a better loss that takes into account the *sign* of the prediction and true value. We design a new loss that is better for financial applications below:"
      ]
    },
    {
      "cell_type": "code",
      "metadata": {
        "id": "_fMRPjosoquR"
      },
      "source": [
        "plt.figure(figsize(12.5, 6.5))\n",
        "\n",
        "def stock_loss(true_return, yhat, alpha = 100.):\n",
        "    \"\"\"Stock Loss function\n",
        "    \n",
        "    Args:\n",
        "      true_return: float32 Tensor representing the true stock return\n",
        "      yhat: float32\n",
        "      alpha: float32\n",
        "      \n",
        "    Returns:\n",
        "      float: absolute value of the difference\n",
        "      between `true_return` and `yhat`\n",
        "    \"\"\"\n",
        "    if true_return * yhat < 0:\n",
        "        # opposite signs, not good\n",
        "        return alpha * yhat ** 2 - np.sign(true_return) * yhat \\\n",
        "            + np.abs(true_return)\n",
        "    else:\n",
        "        return np.abs(true_return - yhat)\n",
        "\n",
        "\n",
        "true_value_0 = .05\n",
        "true_value_1 = -.02\n",
        "pred = np.linspace(-.04, .12, num = 75)\n",
        "\n",
        "plt.plot(pred, [stock_loss(true_value_0, p) for p in pred],\n",
        "         label=\"Loss associated with\\n prediction if true value = 0.05\", lw=3)\n",
        "plt.vlines(0, 0, .25, linestyles='--')\n",
        "plt.xlabel('Prediction')\n",
        "plt.ylabel('Loss')\n",
        "plt.xlim(-.04, .12)\n",
        "plt.ylim(0, .25)\n",
        "\n",
        "true_value = -.02\n",
        "plt.plot(pred, [stock_loss(true_value_1, p) for p in pred], alpha=.6,\n",
        "         label=\"Loss associated with\\n prediction if true value = -0.02\", lw=3)\n",
        "plt.legend()\n",
        "plt.title(\"Stock returns loss if true value = 0.05, -0.02\");"
      ],
      "execution_count": null,
      "outputs": []
    },
    {
      "cell_type": "markdown",
      "metadata": {
        "id": "HOeAHc5ToquT"
      },
      "source": [
        "Note the change in the shape of the loss as the prediction crosses zero. This loss reflects that the user really does not want to guess the wrong sign, especially be wrong *and* a large magnitude. \n",
        "\n",
        "Why would the user care about the magnitude? Why is the loss not 0 for predicting the correct sign? Surely, if the return is 0.01 and we bet millions we will still be (very) happy.\n",
        "\n",
        "Financial institutions treat downside risk, as in predicting a lot on the wrong side, and upside risk, as in predicting a lot on the right side, similarly. Both are seen as risky behaviour and discouraged. Hence why we have an increasing loss as we move further away from the true price. (With less extreme loss in the direction of the correct sign.)\n",
        "\n",
        "We will perform a regression on a trading signal that we believe predicts future returns well. Our dataset is artificial, as most financial data is not even close to linear. Below, we plot the data along with the least-squares line."
      ]
    },
    {
      "cell_type": "code",
      "metadata": {
        "id": "PaDyigdCy85d"
      },
      "source": [
        "# Code for creating artificial 'dummy' data\n",
        "# This is a common strategy for testing our models\n",
        "# before applying it to real-world data\n",
        "\n",
        "num_data = 100\n",
        "X_data = .025 * Normal(loc = 0., scale=1.).sample(sample_shape = (num_data,))\n",
        "Y_data = .5 * X_data + .01 * Normal(loc = 0., scale = 1.).sample(sample_shape = (num_data,))\n",
        "\n",
        "tf_var_data = tf.nn.moments(X_data, axes = 0)[1]\n",
        "covar = tfp.stats.covariance(X_data, Y_data, sample_axis = 0, event_axis = None)\n",
        "ls_coef = covar / tf_var_data\n",
        "\n",
        "ls_intercept = np.mean(Y_data) - ls_coef * np.mean(X_data)\n",
        "\n",
        "plt.figure(figsize(12.5, 7))\n",
        "plt.scatter(X_data, Y_data, c='k')\n",
        "plt.xlabel('Trading signal')\n",
        "plt.ylabel('Returns')\n",
        "plt.title(\"Empirical returns vs trading signal\")\n",
        "plt.plot(X_data, ls_coef * X_data + ls_intercept, label=\"Least-squares line\")\n",
        "plt.xlim(np.min(X_data), np.max(X_data))\n",
        "plt.ylim(np.min(Y_data), np.max(Y_data))\n",
        "plt.legend(loc='upper left');"
      ],
      "execution_count": null,
      "outputs": []
    },
    {
      "cell_type": "markdown",
      "metadata": {
        "id": "uxusMfftoquW"
      },
      "source": [
        "We perform a simple Bayesian linear regression on this dataset. We look for a model like:\n",
        "\n",
        "$$ R = \\alpha + \\beta x + \\epsilon$$\n",
        "\n",
        "where $\\alpha, \\beta$ are our unknown parameters and $\\epsilon \\sim \\text{Normal}(0, 1/\\tau)$. The most common priors on $\\beta$ and $\\alpha$ are Normal priors. We will also assign a prior on $\\tau$, so that $\\sigma = 1/\\sqrt{\\tau}$ is uniform over 0 to 100 (equivalently then $\\tau = 1/\\text{Uniform}(0, 100)^2$)."
      ]
    },
    {
      "cell_type": "code",
      "metadata": {
        "id": "QeBL-LhtoquX"
      },
      "source": [
        "obs_stdev = np.sqrt(\n",
        "    np.mean(tf.math.squared_difference(Y_data, np.mean(Y_data, axis = 0)),\n",
        "            axis = 0))\n",
        "\n",
        "# Define the log probability of the bayesian regression function\n",
        "def finance_posterior_log_prob(X_data, Y_data, alpha, beta, sigma):\n",
        "    \"\"\"Posterior log probability, as a function of states\n",
        "    \n",
        "    Args:\n",
        "      alpha_: scalar, taken from state of the HMC\n",
        "      beta_: scalar, taken from state of the HMC\n",
        "      sigma_: scalar, the standard deviation of , taken from state of the HMC\n",
        "    Returns: \n",
        "      Scalar sum of log probabilities\n",
        "    Closure over: Y_data, X_data\n",
        "    \"\"\"\n",
        "    rv_alpha = Normal(loc = 0., scale = 100.)\n",
        "    rv_beta = Normal(loc = 0., scale = 100.)\n",
        "    rv_std = Uniform(low = 0., high = 100.)\n",
        "    mean = alpha + beta * X_data\n",
        "    rv_observed = Normal(loc = mean, scale = sigma)\n",
        "    \n",
        "    return (\n",
        "          rv_alpha.log_prob(alpha) \n",
        "        + rv_beta.log_prob(beta) \n",
        "        + rv_std.log_prob(sigma)\n",
        "        + np.sum(rv_observed.log_prob(Y_data)))"
      ],
      "execution_count": null,
      "outputs": []
    },
    {
      "cell_type": "code",
      "metadata": {
        "id": "YIH8NhDHoquZ"
      },
      "source": [
        "num_results = 5000\n",
        "num_burnin_steps = 1000\n",
        "\n",
        "# Set the chain's start state.\n",
        "initial_chain_state = [\n",
        "    1. * np.ones(()),  # TODO f32\n",
        "    .01 * np.ones(()),  # TODO f32\n",
        "    obs_stdev * np.ones(())]  # TODO f32\n",
        "\n",
        "# Since HMC operates over unconstrained space, we need to transform the\n",
        "# samples so they live in real-space.\n",
        "# Beta and sigma are 100x and 10x of alpha, approximately, so apply Affine scalar bijector\n",
        "# to multiply the unconstrained beta and sigma by 100x and 10x to get back to \n",
        "# the problem space\n",
        "unconstraining_bijectors = [\n",
        "    tfb.Identity(),  # alpha\n",
        "    tfb.AffineScalar(100.),  # beta\n",
        "    tfb.AffineScalar(10.)]  # sigma\n",
        "\n",
        "# Define a closure over the joint_log_prob\n",
        "def unnormalised_posterior_log_prob(*args):\n",
        "    return finance_posterior_log_prob(X_data, Y_data, *args)\n",
        "\n",
        "# Initialise the step_size (it will be automatically adapted.)\n",
        "step_size = tf.Variable(\n",
        "    initial_value = tf.constant(.5, dtype = f32),\n",
        "    trainable = False,\n",
        "    name = 'step_size')\n",
        "\n",
        "# Define the HMC\n",
        "kernel = tfp.mcmc.TransformedTransitionKernel(\n",
        "    inner_kernel = tfp.mcmc.HamiltonianMonteCarlo(\n",
        "        target_log_prob_fn = unnormalised_posterior_log_prob,\n",
        "        num_leapfrog_steps = 2,\n",
        "        step_size = step_size,\n",
        "        state_gradients_are_stopped = True),\n",
        "    bijector = unconstraining_bijectors)\n",
        "\n",
        "kernel = tfp.mcmc.SimpleStepSizeAdaptation(\n",
        "    inner_kernel = kernel,\n",
        "    num_adaptation_steps = int(num_burnin_steps * .8))\n",
        "\n",
        "# Sample from the chain\n",
        "(alpha,  beta,  sigma), kernel_results = tfp.mcmc.sample_chain(\n",
        "    num_results = num_results,\n",
        "    num_burnin_steps = num_burnin_steps,\n",
        "    current_state = initial_chain_state,\n",
        "    kernel = kernel)\n",
        "\n",
        "# performing computations\n",
        "# can take up to about 4 mins in graph mode\n",
        "# print(\"Acceptance rate:\", np.mean(kernel_results.inner_results.inner_results.is_accepted))\n",
        "# print(\"Final step size:\", kernel_results.new_step_size[-100:].mean())"
      ],
      "execution_count": null,
      "outputs": []
    },
    {
      "cell_type": "code",
      "metadata": {
        "id": "jFFZDRcLoVBY"
      },
      "source": [
        "# Plotting the Posterior Samples\n",
        "plt.figure(figsize=(15, 3))\n",
        "plt.plot(np.arange(num_results), sigma, color=TFColor[6])\n",
        "plt.title('HMC sigma (σ) convergence progression', fontsize=14)\n",
        "\n",
        "plt.figure(figsize=(15, 3))\n",
        "plt.plot(np.arange(num_results), beta, color=TFColor[0])\n",
        "plt.title('HMC beta (β) convergence progression', fontsize=14)\n",
        "\n",
        "plt.figure(figsize=(15, 3))\n",
        "plt.plot(np.arange(num_results), alpha, color=TFColor[3])\n",
        "plt.title('HMC alpha (α) convergence progression', fontsize=14)"
      ],
      "execution_count": null,
      "outputs": []
    },
    {
      "cell_type": "code",
      "metadata": {
        "id": "j013lhwnoUxt"
      },
      "source": [
        "# Plotting the Posterior Samples\n",
        "\n",
        "plt.figure(figsize=(15, 12))\n",
        "plt.subplot(3, 2, 1)\n",
        "plt.hist(sigma, \n",
        "         bins=100, color=TFColor[6], alpha=.8)\n",
        "plt.ylabel('Frequency')\n",
        "plt.title('Posterior std (σ) samples', fontsize=14)\n",
        "plt.subplot(3, 2, 2)\n",
        "plt.plot(np.arange(num_results), \n",
        "         sigma, color=TFColor[6], alpha=.8)\n",
        "plt.ylabel('Sample Value')\n",
        "plt.title('Posterior std (σ) samples', fontsize=14)\n",
        "\n",
        "plt.subplot(3, 2, 3)\n",
        "plt.hist(beta, \n",
        "         bins=100, color=TFColor[0], alpha=.8)\n",
        "plt.ylabel('Frequency')\n",
        "plt.title('Posterior beta (β) samples', fontsize=14)\n",
        "plt.subplot(3, 2, 4)\n",
        "plt.plot(np.arange(num_results), \n",
        "         beta, color=TFColor[0], alpha=.8)\n",
        "plt.ylabel('Sample Value')\n",
        "plt.title('Posterior beta (β) samples', fontsize=14)\n",
        "\n",
        "plt.subplot(3, 2, 5)\n",
        "plt.hist(alpha, bins=100, \n",
        "         color=TFColor[3], alpha=.8)\n",
        "plt.ylabel('Frequency')\n",
        "plt.title('Posterior alpha (α) samples', fontsize=14)\n",
        "plt.subplot(3, 2, 6)\n",
        "plt.plot(np.arange(num_results), alpha, \n",
        "         color=TFColor[3], alpha=.8)\n",
        "plt.ylabel('Sample Value')\n",
        "plt.title('Posterior alpha (α) samples', fontsize=14)\n",
        "\n",
        "# KDE Plots\n",
        "plt.figure(figsize=(15,9))\n",
        "plt.subplot(2, 2, 1)\n",
        "ax1 = sns.kdeplot(sigma, \n",
        "                  shade=True, color=TFColor[6], bw=.000075)\n",
        "plt.ylabel('Probability density')\n",
        "plt.title('KDE plot for std (σ)', fontsize=14)\n",
        "plt.subplot(2, 2, 2)\n",
        "ax2 = sns.kdeplot(beta, \n",
        "                  shade=True, color=TFColor[0], bw=.0030)\n",
        "plt.ylabel('Probability density')\n",
        "plt.title('KDE plot for beta (β) samples', fontsize=14)\n",
        "plt.subplot(2, 2, 3)\n",
        "ax3 = sns.kdeplot(alpha, \n",
        "                  shade=True, color=TFColor[3], bw=.0001)\n",
        "plt.ylabel('Probability density')\n",
        "plt.title('KDE plot for alpha (α) samples', fontsize=14)"
      ],
      "execution_count": null,
      "outputs": []
    },
    {
      "cell_type": "markdown",
      "metadata": {
        "id": "gVuArwZcoquf"
      },
      "source": [
        "It appears the MCMC has converged so we may continue.\n",
        "\n",
        "For a specific trading signal, call it $x$, the distribution of possible returns has the form:\n",
        "\n",
        "$$ R_i(x) =  \\alpha_i + \\beta_ix + \\epsilon $$\n",
        "\n",
        "where $\\epsilon \\sim \\text{Normal}(0, 1/\\tau_i) $ and $i$ indexes our posterior samples. We wish to find the solution to \n",
        "\n",
        "$$ \\arg \\min_{r} E_{R(x)}\\left[ L(R(x), r) \\right] $$\n",
        "\n",
        "according to the loss given above. This $r$ is our Bayes action for trading signal $x$. Below we plot the Bayes action over different trading signals. What do you notice?\n"
      ]
    },
    {
      "cell_type": "code",
      "metadata": {
        "id": "kGKdj6B79Y4-"
      },
      "source": [
        "plt.figure(figsize(12.5, 6))\n",
        "\n",
        "def stock_loss(\n",
        "    price, pred, coef = 500):\n",
        "    \"\"\"Vectorised Stock Loss function\n",
        "    \n",
        "    Args:\n",
        "        price: A (<num_results>,) Tensor of prices (independent variable)\n",
        "        pred: A (1,) Tensor prediction based on the price\n",
        "        coef: Integer Tensor representing coeficient for Bayes action function\n",
        "    Returns:\n",
        "        sol: A (<num_results>,) array Tensor of data points for Bayes action solution minima\n",
        "    \"\"\"\n",
        "    sol = np.zeros_like(price)\n",
        "    ix = price * pred < 0\n",
        "    sol[ix] = coef * pred ** 2 - np.sign(price[ix]) * pred + abs(price[ix])\n",
        "    sol[~ix] = abs(price[~ix] - pred)\n",
        "    return sol\n",
        "\n",
        "N = sigma.shape[0]\n",
        "noise = sigma * Normal(loc = 0., scale = 1.).sample(N)\n",
        "\n",
        "possible_outcomes = lambda signal: alpha + beta * signal + noise\n",
        "\n",
        "opt_predictions = np.zeros(50)\n",
        "trading_signals = np.linspace(\n",
        "    start = np.min(X_data),\n",
        "    stop = np.max(X_data),\n",
        "    num = 50)\n",
        "for i, signal in enumerate(trading_signals):\n",
        "    _possible_outcomes = possible_outcomes(signal)\n",
        "    tomin = lambda pred: stock_loss(_possible_outcomes, pred).mean()\n",
        "    opt_predictions[i] = fmin(tomin, 0, disp=False)\n",
        "    \n",
        "plt.xlabel(\"Trading signal\")\n",
        "plt.ylabel(\"Prediction\")\n",
        "plt.title(\"Least-squares prediction vs. Bayes action prediction\")\n",
        "plt.plot(X_data, ls_coef * X_data + ls_intercept, label=\"Least-squares prediction\")\n",
        "plt.xlim(np.min(X_data), np.max(X_data))\n",
        "plt.plot(trading_signals, opt_predictions, label=\"Bayes action prediction\")\n",
        "plt.legend(loc='upper left');"
      ],
      "execution_count": null,
      "outputs": []
    },
    {
      "cell_type": "markdown",
      "metadata": {
        "id": "dDQHUSh8oquh"
      },
      "source": [
        "What is interesting about the above graph is that when the signal is near 0, and many of the possible  returns outcomes are possibly both positive and negative, our best (with respect to our loss) prediction is to predict close to 0, hence *take on no position*. Only when we are very confident do we enter into a position. I call this style of model a *sparse prediction*, where we feel uncomfortable with our uncertainty so choose not to act. (Compare with the least-squares prediction which will rarely, if ever, predict zero). \n",
        "\n",
        "A good sanity check that our model is still reasonable: as the signal becomes more and more extreme, and we feel more and more confident about the positive/negativeness of returns, our position converges with that of the least-squares line. \n",
        "\n",
        "The sparse-prediction model is not trying to *fit* the data the best (according to a *squared-error loss* definition of *fit*). That honor would go to the least-squares model. The sparse-prediction model is trying to find the best prediction *with respect to our `stock_loss`-defined loss*. We can turn this reasoning around: the least-squares model is not trying to *predict* the best (according to a *`stock-loss`* definition of *predict*). That honor would go the *sparse prediction* model. The least-squares model is trying to find the best fit of the data *with respect to the squared-error loss*."
      ]
    },
    {
      "cell_type": "markdown",
      "metadata": {
        "id": "yeH42zITtIGW"
      },
      "source": [
        "# Example: Kaggle contest on *Observing Dark World*\n",
        "\n",
        "\n",
        "A personal motivation for learning Bayesian methods was trying to piece together the winning solution to Kaggle's [*Observing Dark Worlds*](http://www.kaggle.com/c/DarkWorlds) contest. From the contest's website:\n",
        "\n",
        "\n",
        "\n",
        ">There is more to the Universe than meets the eye. Out in the cosmos exists a form of matter that outnumbers the stuff we can see by almost 7 to 1, and we don’t know what it is. What we do know is that it does not emit or absorb light, so we call it Dark Matter. Such a vast amount of aggregated matter does not go unnoticed. In fact we observe that this stuff aggregates and forms massive structures called Dark Matter Halos. Although dark, it warps and bends spacetime such that any light from a background galaxy which passes close to the Dark Matter will have its path altered and changed. This bending causes the galaxy to appear as an ellipse in the sky.\n",
        "\n",
        "<img src=\"http://timsalimans.com/wp-content/uploads/2012/12/dm.jpg\">\n",
        "\n",
        "\n",
        "The contest required predictions about where dark matter was likely to be. The winner, [Tim Salimans](http://timsalimans.com/), used Bayesian inference to find the best locations for the halos (interestingly, the second-place winner also used Bayesian inference). With Tim's permission, we provided his solution [1] here:\n",
        "\n",
        "1. Construct a prior distribution for the halo positions $p(x)$, i.e. formulate our expectations about the halo positions before looking at the data.\n",
        "2. Construct a probabilistic model for the data (observed ellipticities of the galaxies) given the positions of the dark matter halos: $p(e | x)$.\n",
        "3. Use Bayes’ rule to get the posterior distribution of the halo positions, i.e. use to the data to guess where the dark matter halos might be.\n",
        "4. Minimise the expected loss with respect to the posterior distribution over the predictions for the halo positions: $\\hat{x} = \\arg \\min_{\\text{prediction} } E_{p(x|e)}[ L( \\text{prediction}, x) ]$ , i.e. tune our predictions to be as good as possible for the given error metric.\n"
      ]
    },
    {
      "cell_type": "markdown",
      "metadata": {
        "id": "innhxnSNJhZu"
      },
      "source": [
        "The loss function in this problem is very complicated. For the very determined, the loss function is contained in the file DarkWorldsMetric.py in the parent folder. Though I suggest not reading it all, suffice to say the loss function is about 160 lines of code &mdash; not something that can be written down in a single mathematical line. The loss function attempts to measure the accuracy of prediction, in a Euclidean distance sense, such that no shift-bias is present. More details can be found on the metric's [main page](http://www.kaggle.com/c/DarkWorlds/details/evaluation). \n",
        "\n",
        "We will attempt to implement Tim's winning solution using [Tensorflow Probability](https://medium.com/tensorflow/introducing-tensorflow-probability-dca4c304e245) and our knowledge of loss functions."
      ]
    },
    {
      "cell_type": "code",
      "metadata": {
        "id": "hUVLtGVpIS6s"
      },
      "source": [
        "# Downloading the zip file containing the Galaxy Data\n",
        "url1 = 'https://github.com/CamDavidsonPilon/Probabilistic-Programming-and-Bayesian-Methods-for-Hackers/blob/master/Chapter5_LossFunctions/data.zip?raw=true'\n",
        "filename1 = wget.download(url1)\n",
        "filename1"
      ],
      "execution_count": null,
      "outputs": []
    },
    {
      "cell_type": "code",
      "metadata": {
        "id": "ORWxu0qjBHiS"
      },
      "source": [
        "!unzip -q data.zip -d data"
      ],
      "execution_count": null,
      "outputs": []
    },
    {
      "cell_type": "markdown",
      "metadata": {
        "id": "JnYd2IbTKLNg"
      },
      "source": [
        "We also want to import the data files and Loss functions specific to this Kaggle Competition. You can download the files directly from the [Observing Dark Worlds competition's Data page](https://www.kaggle.com/c/DarkWorlds/data) or, if you already have a Kaggle account, install the [Kaggle API](https://github.com/Kaggle/kaggle-api) and run the following terminal command:\n",
        "\n",
        "```\n",
        "kaggle competitions download -c DarkWorlds\n",
        "```\n",
        "\n",
        "And once the competition information is available locally, we can simply unzip the data."
      ]
    },
    {
      "cell_type": "markdown",
      "metadata": {
        "id": "l36JzQ3wKWzK"
      },
      "source": [
        "\n",
        "One last thing to set up is the function we use for plotting galaxies from the files, which we define here:\n",
        "\n",
        "#### Defining our galaxy-plotting function"
      ]
    },
    {
      "cell_type": "code",
      "metadata": {
        "id": "C1KzXzbjKbmd"
      },
      "source": [
        "def draw_sky(galaxies):\n",
        "    \"\"\"From a given file of galaxy data, \n",
        "    plots the shapes and positions of galaxies.\n",
        "    \n",
        "    Args:\n",
        "      galaxies: 4-column, float32 Numpy array containing x-coordinates, y-coordinates,\n",
        "        and the two axes of ellipcity.\n",
        "    Returns:\n",
        "      fig: image of galaxy plot\n",
        "    \"\"\"\n",
        "    size_multiplier = 45\n",
        "    fig = plt.figure(figsize=(10, 10))\n",
        "    ax = fig.add_subplot(111, aspect='equal')\n",
        "    n = galaxies.shape[0]\n",
        "    for i in range(n):\n",
        "        g = galaxies[i, :]\n",
        "        x, y = g[0], g[1]\n",
        "        d = np.sqrt(g[2] ** 2 + g[3] ** 2)\n",
        "        a = 1.0 / (1 - d)\n",
        "        b = 1.0 / (1 + d)\n",
        "        theta = np.degrees(np.arctan2(g[3], g[2]) * 0.5)\n",
        "        \n",
        "        ax.add_patch(Ellipse(xy=(x, y), width=size_multiplier * a, height=size_multiplier * b, angle=theta))\n",
        "    ax.autoscale_view(tight=True)\n",
        "    \n",
        "    return fig"
      ],
      "execution_count": null,
      "outputs": []
    },
    {
      "cell_type": "markdown",
      "metadata": {
        "id": "Ds4g4NTmKsFU"
      },
      "source": [
        "### Examining Our Data\n",
        "\n",
        "The dataset is actually 300 separate files, each representing a sky. In each file, or sky, are between 300 and 720 galaxies. Each galaxy has an $x$ and $y$ position associated with it, ranging from 0 to 4200, and measures of ellipticity: $e_1$ and $e_2$. Information about what these measures mean can be found [here](https://www.kaggle.com/c/DarkWorlds/details/an-introduction-to-ellipticity), but for our purposes it does not matter besides for visualization purposes. Thus a typical sky might look like the following:"
      ]
    },
    {
      "cell_type": "code",
      "metadata": {
        "id": "V6ltTec8K6ve"
      },
      "source": [
        "num_sky = 3  # choose a file/sky to examine\n",
        "data = np.genfromtxt(f'data/Train_Skies/Train_Skies/Training_Sky{num_sky}.csv',\n",
        "                      dtype = f32,\n",
        "                      skip_header = 1,\n",
        "                      delimiter = ',',\n",
        "                      usecols = [1, 2, 3, 4])\n",
        "              # It's handy to specify the data type beforehand\n",
        "\n",
        "galaxy_positions = np.array(data[:, :2], dtype = f32)\n",
        "gal_ellipticities = np.array(data[:, 2:], dtype = f32)\n",
        "ellipticity_mean = np.mean(data[:, 2:], axis = 0)\n",
        "ellipticity_stddev = np.std(data[:, 2:], axis = 0)\n",
        "num_galaxies = np.array(galaxy_positions).shape[0]\n",
        "\n",
        "print(f\"Data on galaxies in sky {num_sky}.\")\n",
        "print(\"position_x, position_y, e_1, e_2 \")\n",
        "print(data[:3])\n",
        "print(\"Number of Galaxies: \", num_galaxies)\n",
        "print(\"e_1 & e_2 mean: \", ellipticity_mean)\n",
        "print(\"e_1 & e_2 std_dev: \", ellipticity_stddev)"
      ],
      "execution_count": null,
      "outputs": []
    },
    {
      "cell_type": "markdown",
      "metadata": {
        "id": "021sa-vWK7XK"
      },
      "source": [
        "Nice, as we can see above we have the data organized into columns according to their x and y coordinates, and the degrees of elipticity along each axis of the galaxies. If we want to reference the positions directly, we can use the following:"
      ]
    },
    {
      "cell_type": "code",
      "metadata": {
        "id": "4UKLxWPnuUz8"
      },
      "source": [
        "fig = draw_sky(data)\n",
        "plt.title(f\"Galaxy positions and ellipcities of sky {num_sky}.\")\n",
        "plt.xlabel(\"x-position\")\n",
        "plt.ylabel(\"y-position\");"
      ],
      "execution_count": null,
      "outputs": []
    },
    {
      "cell_type": "markdown",
      "metadata": {
        "id": "5hIExuMFLI0O"
      },
      "source": [
        "\n",
        "...beautiful!\n",
        "\n",
        "\n",
        "### Priors\n",
        "\n",
        "Each sky has one, two or three dark matter halos in it. Tim's solution details that his prior distribution of halo positions was uniform, i.e.\n",
        "$$\n",
        "\\begin{align}\n",
        "& x_i \\sim \\text{Uniform}( 0, 4200)\\\\\n",
        "& y_i \\sim \\text{Uniform}( 0, 4200), \\;\\; i=1,2,3\\\\\n",
        "\\end{align}\n",
        "$$\n",
        "Tim and other competitors noted that most skies had one large halo and other halos, if present, were much smaller. Larger halos, having more mass, will influence the surrounding galaxies more. He decided that the large halos would have a mass distributed as a *log*-uniform random variable between 40 and 180 i.e.\n",
        "\n",
        "$$  m_{\\text{large} } = \\log \\text{Uniform}( 40, 180 ) $$\n",
        "\n",
        "and in Tensorflow Probability, \n",
        "\n",
        "```python\n",
        "# Log-Uniform Distribution\n",
        "mass_large = TransformedDistribution(\n",
        "    distribution = Uniform(low = 40.0, high = 180.0),\n",
        "    bijector = tfb.Exp())\n",
        "```\n",
        "\n",
        "(This is what we mean when we say *log*-uniform.) For smaller galaxies, Tim set the mass to be the logarithm of 20. Why did Tim not create a prior for the smaller mass, nor treat it as a unknown? I believe this decision was made to speed up convergence of the algorithm. This is not too restrictive, as by construction the smaller halos have less influence on the galaxies.\n",
        "\n",
        "Tim logically assumed that the ellipticity of each galaxy is dependent on the position of the halos, the distance between the galaxy and halo, and the mass of the halos. Thus the vector of ellipticity of each galaxy, $\\mathbf{e}_i$, are *children* variables of the vector of halo positions $(\\mathbf{x},\\mathbf{y})$, distance (which we will formalize), and halo masses.\n",
        "\n",
        "Tim conceived a relationship to connect positions and ellipticity by reading literature and forum posts. He supposed the following was a reasonable relationship:\n",
        "\n",
        "$$ e_i | ( \\mathbf{x}, \\mathbf{y} ) \\sim \\text{Normal}( \\sum_{j = \\text{halo positions} }d_{i,j} m_j f( r_{i,j} ), \\sigma^2 ) $$\n",
        "\n",
        "where $d_{i,j}$ is the *tangential direction* (the direction in which halo $j$ bends the light of galaxy $i$), $m_j$ is the mass of halo $j$, $f(r_{i,j})$ is a *decreasing function* of the Euclidean distance between halo $j$ and galaxy $i$. \n",
        "\n",
        "The variance, or $\\sigma^2$, was simply estimated to be 0.05 from eyeballing the data. This means the Standard deviation (SD) of the measurement of $e_i$ for the full range of $i$ works out to approximately 0.223607......\n",
        "\n",
        "Tim's function $f$ was defined:\n",
        "\n",
        "$$ f( r_{i,j} ) = \\frac{1}{\\min( r_{i,j}, 240 ) } $$\n",
        "\n",
        "for large halos, and for small halos\n",
        "\n",
        "$$ f( r_{i,j} ) = \\frac{1}{\\min( r_{i,j}, 70 ) } $$\n",
        "\n",
        "This fully bridges our observations and unknown. This model is incredibly simple, and Tim mentions this simplicity was purposefully designed: it prevents the model from overfitting.  \n"
      ]
    },
    {
      "cell_type": "markdown",
      "metadata": {
        "id": "OVhlxdf1xr-4"
      },
      "source": [
        "### Training & Tensorflow implementation\n",
        "\n",
        "For each sky, we run our Bayesian model to find the posteriors for the halo positions &mdash; we ignore the (known) halo position. This is slightly different than perhaps traditional approaches to Kaggle competitions, where this model uses no data from other skies nor the known halo location. That does not mean other data are not necessary &mdash; in fact, the model was created by comparing different skies. \n",
        "\n",
        "***Constructing a prior distribution for the halo positions $p(x)$, i.e. formulate our expectations about the halo positions before looking at the data.***\n",
        "\n",
        "When constructing our prior and likelihood distributions, we're going to use these to set up a loss function that is very similar to that of a [Variational Auto Encoder](https://github.com/tensorflow/probability/blob/master/tensorflow_probability/examples/vae.py) (although a much lower-dimensional one)."
      ]
    },
    {
      "cell_type": "code",
      "metadata": {
        "id": "nCCZEsmRyak7"
      },
      "source": [
        "def euclidean_distance(x, y):\n",
        "    \"\"\"Calculates the euclidian distance between point x and poin y.\n",
        "    \n",
        "    Args:\n",
        "      x: a Tensorflow tensor for element-wise\n",
        "      calculation\n",
        "      y: a Tensorflow tensor for element-wise\n",
        "      calculation\n",
        "    Returns: \n",
        "      a Tensor containing the euclidian \n",
        "      distance between x and y\n",
        "    \"\"\"\n",
        "    return np.sqrt(np.sum(tf.squared_difference(x, y), axis = 1))\n",
        "\n",
        "\n",
        "def f_distance(gxy_pos, halo_pos, c):\n",
        "    \"\"\"Provides our element-wise maximum as in NumPy, \n",
        "    but instead for TensorFlow tensors\n",
        "    \n",
        "    Args:\n",
        "      gxy_pos: a 2-d numpy array of observed galaxy\n",
        "        positions\n",
        "      halo_pos: a 2-d numpy array with halo positions\n",
        "      c: a scalar of shape order 0\n",
        "    Returns: \n",
        "      Maximum of either the uclidian distance of gxy_pos\n",
        "      & halo_pos, or the constant c.\n",
        "    \"\"\"\n",
        "    return tf.maximum(euclidean_distance(gxy_pos, halo_pos), c)[:, None]\n",
        "\n",
        "\n",
        "def tangential_distance(glxy_position, halo_position):\n",
        "    \"\"\"Calculates the tangential distance between coordinates glxy_position & halo_position.\n",
        "    \n",
        "    Args:\n",
        "      glxy_position: a 2-d numpy array of observed galaxy\n",
        "        positions\n",
        "      halo_position: a 2-d numpy array with halo positions\n",
        "    Returns: \n",
        "      vectors with direction of dominant halo.\n",
        "    \"\"\"\n",
        "    \n",
        "    x_delta, y_delta = tf.unstack(\n",
        "        glxy_position - halo_position, num=2, axis=-1)\n",
        "    angle = 2. * np.atan(y_delta / x_delta)\n",
        "    return tf.stack([-np.cos(angle), -np.sin(angle)], axis=-1)"
      ],
      "execution_count": null,
      "outputs": []
    },
    {
      "cell_type": "code",
      "metadata": {
        "id": "OPJ9YE9-LVrN"
      },
      "source": [
        "def posterior_log_prob(mass_large, halo_pos):\n",
        "    \"\"\"Posterior log probability, as a function of states\n",
        "    Closure over: data\n",
        "    \n",
        "    Args:\n",
        "      mass_large: scalar of halo mass, taken from state\n",
        "      halo_pos: tensor of halo position(s), taken from state\n",
        "    Returns: \n",
        "      Scalar sum of log probabilities\n",
        "    \"\"\"\n",
        "    rv_mass_large = Uniform(low = 40., high = 180.)    \n",
        "    \n",
        "    # Set the random size of the halo's mass (the big halo for now)\n",
        "    # We use Independent to change the batch and event shapes\n",
        "    rv_halo_pos = Independent(\n",
        "        Uniform(low = (0., 0.), high = (4200., 4200.)),\n",
        "        reinterpreted_batch_ndims = 1)\n",
        "    ellpty_mvn_loc = (mass_large\n",
        "                      / f_distance(data[:, :2], halo_pos, 240.)\n",
        "                      * tangential_distance(data[:, :2], halo_pos))\n",
        "    ellpty = tfd.MultivariateNormalDiag(\n",
        "        loc = ellpty_mvn_loc, \n",
        "        scale_diag = (0.223607, 0.223607))\n",
        "    \n",
        "    return (np.sum(ellpty.log_prob(data[:, 2:]), axis = 0) + \n",
        "            rv_halo_pos.log_prob(halo_pos) + \n",
        "            rv_mass_large.log_prob(mass_large))"
      ],
      "execution_count": null,
      "outputs": []
    },
    {
      "cell_type": "markdown",
      "metadata": {
        "id": "svjLrY2sLdQW"
      },
      "source": [
        "Let's go onto the next part:\n",
        "\n",
        "***Constructing a probabilistic model for the data (observed ellipticities of the galaxies) given the positions of the dark matter halos: $p(e | x)$***\n",
        "\n",
        "Given data, we use a Metropolis Random Walk (MRW) Markov chain Monte Carlo method to calculate the precise posterior distribution over the model's parameters. It is possible to use Hamiltoniam Monte Carlo (HMC) for problems like this, but Metropolis is more appropriate for this case due to its comparative simplicity.\n",
        "\n",
        "Tim's model gives us an approximate posterior to start with. That is, we asume the posterior must be proportional to the normal distribution of distances inferred from galaxy ellipcities.\n"
      ]
    },
    {
      "cell_type": "code",
      "metadata": {
        "id": "yKp1CAxlxr-_"
      },
      "source": [
        "# Infer the posterior distribution\n",
        "\n",
        "num_results = 10000\n",
        "num_burnin_steps = 5000\n",
        "\n",
        "# Set the chain's start state\n",
        "initial_chain_state = [\n",
        "    np.fill((1,), 80.),\n",
        "    np.fill((1, 2), 2100.)]\n",
        "\n",
        "# Since HMC operates over unconstrained space, we need to transform the\n",
        "# samples so they live in real-space.\n",
        "unconstraining_bijectors = [\n",
        "    tfb.Identity(),\n",
        "    tfb.Identity()]\n",
        "\n",
        "# Define a closure over our joint_log_prob\n",
        "unnormalised_posterior_log_prob = lambda *args: posterior_log_prob(*args)\n",
        "\n",
        "# Initialise the step_size (it will be automatically adapted.)\n",
        "step_size = tf.Variable(\n",
        "    initial_value = tf.constant(.06, dtype = f32),\n",
        "    trainable = False,\n",
        "    name = 'step_size')\n",
        "\n",
        "kernel = tfp.mcmc.HamiltonianMonteCarlo(\n",
        "        target_log_prob_fn = unnormalised_posterior_log_prob,\n",
        "        num_leapfrog_steps = 6,\n",
        "        step_size = step_size)\n",
        "\n",
        "kernel = tfp.mcmc.TransformedTransitionKernel(\n",
        "    inner_kernel = kernel,\n",
        "    bijector = unconstraining_bijectors)\n",
        "\n",
        "kernel = tfp.mcmc.SimpleStepSizeAdaptation(\n",
        "    inner_kernel = kernel,\n",
        "    num_adaptation_steps = int(num_burnin_steps * .8))\n",
        "\n",
        "# Sampling from the chain\n",
        "(mass_large, posterior_predictive_samples), kernel_results = tfp.mcmc.sample_chain(\n",
        "    num_results = num_results,\n",
        "    num_burnin_steps = num_burnin_steps,\n",
        "    current_state = initial_chain_state,\n",
        "    kernel = kernel)"
      ],
      "execution_count": null,
      "outputs": []
    },
    {
      "cell_type": "markdown",
      "metadata": {
        "id": "Xpl5Lw0tZmWx"
      },
      "source": [
        "We new have the setup for our probabilistic model. We can now go onto the third step:\n",
        "\n",
        "\n",
        "#### Using Bayes’ rule to get the posterior distribution of the halo positions, i.e. use to the data to guess where the dark matter halos might be.\n",
        "\n",
        "We're going to take the results of the outputs of the Markov chain, take the mean and standard deviation, and then use those to create a lower-dimensional multivariate normal distribution of halo distributions. This will be our posterior predictive distribution.\n",
        "\n",
        "First, we can create the convenience functions to set up our session"
      ]
    },
    {
      "cell_type": "code",
      "metadata": {
        "id": "fI4tDYE5xr_K"
      },
      "source": [
        "# print(\"Acceptance rate:\", np.mean(kernel_results.inner_results.inner_results.is_accepted))\n",
        "# print(\"Final step size:\", kernel_results.new_step_size[-100:].mean())\n",
        "print(\"posterior_predictive_samples value:\\n\", posterior_predictive_samples)"
      ],
      "execution_count": null,
      "outputs": []
    },
    {
      "cell_type": "markdown",
      "metadata": {
        "id": "Ak2DGvKmLqyv"
      },
      "source": [
        "Below we plot a \"heatmap\" of the posterior predictive distribution. (Which is just a scatter plot of the posterior, but we can visualise it as a heatmap.)"
      ]
    },
    {
      "cell_type": "code",
      "metadata": {
        "id": "-5HddB8d1A7X"
      },
      "source": [
        "t = posterior_predictive_samples.reshape(num_results, 2)\n",
        "fig = draw_sky(data)\n",
        "plt.title(f\"Galaxy positions and ellipcities of sky {num_sky}.\")\n",
        "plt.xlabel('x-position')\n",
        "plt.ylabel('y-position')\n",
        "plt.scatter(t[:, 0], t[:, 1], alpha=.015, c='#F15854')  # Red\n",
        "plt.xlim(0, 4200)\n",
        "plt.ylim(0, 4200);"
      ],
      "execution_count": null,
      "outputs": []
    },
    {
      "cell_type": "markdown",
      "metadata": {
        "id": "LCk0Wd5SL2Ah"
      },
      "source": [
        "The most probable position reveals itself like a lethal wound.\n",
        "\n",
        "Associated with each sky is another data point, located in `./data/Training_halos.csv` that holds the locations of up to three dark matter halos contained in the sky. For example, the night sky we trained on has halo locations:"
      ]
    },
    {
      "cell_type": "code",
      "metadata": {
        "id": "xSnboDWINzs9"
      },
      "source": [
        "halo_data = np.genfromtxt('data/Training_halos.csv', \n",
        "                          delimiter = ',',\n",
        "                          usecols = [1, 2, 3, 4, 5, 6, 7, 8, 9],\n",
        "                          skip_header = 1)\n",
        "print(halo_data[num_sky])"
      ],
      "execution_count": null,
      "outputs": []
    },
    {
      "cell_type": "markdown",
      "metadata": {
        "id": "HIccg51VN1bp"
      },
      "source": [
        "The third and fourth column represent the true x and y position of the halo. It appears that the Bayesian method has located the halo within a tight vicinity."
      ]
    },
    {
      "cell_type": "code",
      "metadata": {
        "id": "zpRSL5sZ1ZdY"
      },
      "source": [
        "fig = draw_sky(data)\n",
        "plt.title(f\"Galaxy positions and ellipcities of sky {num_sky}.\")\n",
        "plt.xlabel(\"x-position\")\n",
        "plt.ylabel(\"y-position\")\n",
        "plt.scatter(t[:, 0], t[:, 1], alpha=.015, c='#F15854') # Red\n",
        "plt.scatter(halo_data[num_sky - 1][3], halo_data[num_sky - 1][4], \n",
        "            label=\"True halo position\",\n",
        "            c='k', s=70)\n",
        "plt.legend(scatterpoints=1, loc='lower left')\n",
        "plt.xlim(0, 4200)\n",
        "plt.ylim(0, 4200);\n",
        "\n",
        "print(\"True halo location:\", halo_data[num_sky][3], halo_data[num_sky][4])"
      ],
      "execution_count": null,
      "outputs": []
    },
    {
      "cell_type": "markdown",
      "metadata": {
        "id": "4qTGj4xGMD3o"
      },
      "source": [
        "Perfect. Our next step is to use the loss function to optimise our location. A naive strategy would be to simply choose the mean:"
      ]
    },
    {
      "cell_type": "code",
      "metadata": {
        "id": "Nh9yUghy1dkp"
      },
      "source": [
        "mean_posterior = t.mean(axis = 0).reshape(1, 2)\n",
        "print(f\"Mean posterior: \\n {mean_posterior[0]}\")"
      ],
      "execution_count": null,
      "outputs": []
    },
    {
      "cell_type": "markdown",
      "metadata": {
        "id": "bmdi8Oiz0tJd"
      },
      "source": [
        "but we also want to determine how good this mean score is. We can use the [DarkWorldsMetric.py](https://github.com/CamDavidsonPilon/Probabilistic-Programming-and-Bayesian-Methods-for-Hackers/blob/master/Chapter5_LossFunctions/DarkWorldsMetric.py) script to judge that."
      ]
    },
    {
      "cell_type": "code",
      "metadata": {
        "id": "EhqC4ZzxVbba"
      },
      "source": [
        "url = 'https://raw.githubusercontent.com/CamDavidsonPilon/Probabilistic-Programming-and-Bayesian-Methods-for-Hackers/master/Chapter5_LossFunctions/DarkWorldsMetric.py'\n",
        "filename = wget.download(url)\n",
        "filename"
      ],
      "execution_count": null,
      "outputs": []
    },
    {
      "cell_type": "code",
      "metadata": {
        "id": "rh_R7W5l1hGD"
      },
      "source": [
        "from DarkWorldsMetric import main_score\n",
        "\n",
        "halo_data_sub = halo_data[num_sky - 1]\n",
        "\n",
        "nhalo_all  = halo_data_sub[0].reshape(1, 1)\n",
        "x_true_all = halo_data_sub[3].reshape(1, 1)\n",
        "y_true_all = halo_data_sub[4].reshape(1, 1)\n",
        "x_ref_all  = halo_data_sub[1].reshape(1, 1)\n",
        "y_ref_all  = halo_data_sub[2].reshape(1, 1)\n",
        "sky_prediction = mean_posterior\n",
        "\n",
        "print(\"Using the mean:\", sky_prediction[0])\n",
        "main_score(nhalo_all, x_true_all, y_true_all,\n",
        "           x_ref_all, y_ref_all, sky_prediction)\n",
        "\n",
        "# What's a bad score?\n",
        "random_guess = tfd.Independent(\n",
        "    tfd.Uniform(low = (0., 0.), high = (4200., 4200.)),\n",
        "    reinterpreted_batch_ndims = 1).sample()\n",
        "\n",
        "print(\"\\n Using a random location:\", random_guess[0])\n",
        "main_score(nhalo_all, x_true_all, y_true_all,\n",
        "            x_ref_all, y_ref_all, random_guess)"
      ],
      "execution_count": null,
      "outputs": []
    },
    {
      "cell_type": "markdown",
      "metadata": {
        "id": "9JgVnP8jOui8"
      },
      "source": [
        "This is a good guess, it is not very far from the true location, but it ignores the loss function that was provided to us. We also need to extend our code to allow for up to two additional, *smaller* halos: Let's create a function for automatizing our Tensorflow workflow from before. \n",
        "\n",
        "First let's reset our Tensorflow Graph and import the new dataset:\n"
      ]
    },
    {
      "cell_type": "code",
      "metadata": {
        "id": "BrpRo49n1yyZ"
      },
      "source": [
        "num_sky = 215  # Choosing a file/sky to examine\n",
        "data = np.genfromtxt(f'data/Train_Skies/Train_Skies/Training_Sky{num_sky}.csv',\n",
        "                     dtype = f32,  # It's handy to specify the data type beforehand\n",
        "                     skip_header = 1,\n",
        "                     delimiter = ',',\n",
        "                     usecols = [1, 2, 3, 4])\n",
        "\n",
        "galaxy_positions = np.array(data[:, :2], dtype = f32)\n",
        "gal_ellipticities = np.array(data[:, 2:], dtype = f32)\n",
        "ellipticity_mean = np.mean(data[:, 2:], axis = 0)\n",
        "ellipticity_stddev = np.std(data[:, 2:], axis = 0)\n",
        "num_galaxies = np.array(galaxy_positions).shape[0]\n",
        "\n",
        "print(f\"Data on galaxies in sky {num_sky}.\")\n",
        "print(\"position_x, position_y, e_1, e_2\")\n",
        "print(data[:3])\n",
        "print(\"Number of Galaxies:\", num_galaxies)\n",
        "print(\"e_1 & e_2 mean:\", ellipticity_mean)\n",
        "print(\"e_1 & e_2 std_dev:\", ellipticity_stddev)\n"
      ],
      "execution_count": null,
      "outputs": []
    },
    {
      "cell_type": "code",
      "metadata": {
        "id": "lQB0dpy81p6f"
      },
      "source": [
        "def multi_posterior_log_prob(mass_large, halo_pos):\n",
        "    \"\"\"Our modified posterior log probability, as a function of states\n",
        "    Closure over: data\n",
        "    \n",
        "    Args:\n",
        "      mass_large: scalar of halo mass, taken from state\n",
        "      halo_pos: tensor of halo position(s), taken from state\n",
        "    Closure over: \n",
        "      data\n",
        "    Returns: \n",
        "      Scalar sum of log probabilities\n",
        "    \"\"\"\n",
        "    # Set the random size of the halo's mass (we have multiple)\n",
        "    rv_mass_large = tfd.Uniform(low = 40., high = 180.)    \n",
        "    rv_mass_small_0 = 20.\n",
        "    rv_mass_small_1 = 20.\n",
        "             \n",
        "    # Set the initial prior positions of the halos, \n",
        "    # these are a set of 2-d Uniform distributions\n",
        "\n",
        "    rv_halo_pos = tfd.Independent(\n",
        "        tfd.Uniform(\n",
        "            low = tf.cast(\n",
        "                np.reshape(\n",
        "                    np.tile([0., 0.], num_halos_inum_sky),\n",
        "                    (num_halos_inum_sky, 2)),\n",
        "                f32),\n",
        "            high = tf.cast(\n",
        "                np.reshape(\n",
        "                    np.tile([4200., 4200.], num_halos_inum_sky),\n",
        "                    (num_halos_inum_sky, 2)),\n",
        "                f32)),\n",
        "        einterpreted_batch_ndims = 1)  # Notice this size\n",
        "      \n",
        "    fdist_constants = np.array([240., 70., 70.])\n",
        "       \n",
        "    # For our calculations of ellipcity derived from halo position, we derive means based\n",
        "    # on the sum of the means of forces from multiple halos\n",
        "\n",
        "    mean_sum = 0\n",
        "    mean_sum += (mass_large[0] / f_distance(data[:, :2], halo_pos[0, :], fdist_constants[0]) *\n",
        "        tangential_distance(data[:, :2], halo_pos[0, :]))\n",
        "    mean_sum += (rv_mass_small_0 / f_distance(data[:, :2], halo_pos[1, :], fdist_constants[1]) *\n",
        "        tangential_distance(data[:,:2], halo_pos[1, :]))\n",
        "    mean_sum += (rv_mass_small_1 / f_distance(data[:, :2], halo_pos[2, :], fdist_constants[2]) *\n",
        "        tangential_distance(data[:, :2], halo_pos[2, :]))\n",
        "        \n",
        "    ellpty = tfd.MultivariateNormalDiag(\n",
        "        loc = (mean_sum,),\n",
        "        scale_diag = (0.223607, 0.223607))\n",
        "\n",
        "    return (np.sum(ellpty.log_prob(data[:, 2:]), axis = 0) + \n",
        "            rv_halo_pos.log_prob(tf.cast(halo_pos[0, :], f32))[0] + \n",
        "            rv_halo_pos.log_prob(tf.cast(halo_pos[1, :], f32))[1] +\n",
        "            rv_halo_pos.log_prob(tf.cast(halo_pos[2, :], f32))[2] + \n",
        "            rv_mass_large.log_prob(tf.cast(mass_large[0][0], f32)))\n"
      ],
      "execution_count": null,
      "outputs": []
    },
    {
      "cell_type": "code",
      "metadata": {
        "id": "IsfBD04hxr_y",
        "cellView": "code"
      },
      "source": [
        "# Inferring the posterior distribution\n",
        "num_results = 5000\n",
        "num_burnin_steps = 1000\n",
        "num_leapfrog_steps = 6\n",
        "    \n",
        "# We have three halos in the sky instead of one\n",
        "num_halos_inum_sky = 3\n",
        "\n",
        "# Set the chain's start state\n",
        "initial_chain_state = [\n",
        "    tf.constant([80., 20., 20.],\n",
        "                shape = (num_halos_inum_sky, 1), \n",
        "                dtype = f32),\n",
        "    tf.constant([1000., 500., 2100., 1500., 3500., 4000.], \n",
        "                shape = (num_halos_inum_sky, 2), \n",
        "                dtype = f32)]\n",
        "\n",
        "# Since HMC operates over unconstrained space, we need to transform the\n",
        "# samples so they live in real-space.\n",
        "unconstraining_bijectors = [\n",
        "    tfb.Identity(),\n",
        "    tfb.Identity()]\n",
        "\n",
        "# Define a closure over our joint_log_prob\n",
        "unnormalised_posterior_log_prob = lambda *args: multi_posterior_log_prob( *args)\n",
        "\n",
        "# Initialise the step_size (it will be automatically adapted)\n",
        "step_size = tf.Varible(\n",
        "    initial_value = tf.constant(.6, dtype = f32),\n",
        "    trainable = False,\n",
        "    name = 'step_size')\n",
        "\n",
        "# Define the HMC\n",
        "kernel=tfp.mcmc.TransformedTransitionKernel(\n",
        "    inner_kernel = tfp.mcmc.HamiltonianMonteCarlo(\n",
        "        target_log_prob_fn = unnormalised_posterior_log_prob,\n",
        "        num_leapfrog_steps = num_leapfrog_steps,\n",
        "        step_size = step_size,\n",
        "        state_gradients_are_stopped = True),\n",
        "    bijector = unconstraining_bijectors)\n",
        "\n",
        "kernel = tfp.mcmc.SimpleStepSizeAdaptation(\n",
        "    inner_kernel = kernel,\n",
        "    num_adaptation_steps = int(num_burnin_steps * .8))\n",
        "\n",
        "# Sampling from the chain\n",
        "(mass_large, halo_pos), kernel_results = tfp.mcmc.sample_chain(\n",
        "    num_results = num_results,\n",
        "    num_burnin_steps = num_burnin_steps,\n",
        "    current_state = initial_chain_state,\n",
        "    kernel = kernel)"
      ],
      "execution_count": null,
      "outputs": []
    },
    {
      "cell_type": "code",
      "metadata": {
        "id": "QMn0V1Zj4qhc"
      },
      "source": [
        "large_halo_pos = halo_pos[:,0]\n",
        "small1_halo_pos = halo_pos[:,1]\n",
        "small2_halo_pos = halo_pos[:,2]\n",
        "\n",
        "# print(\"Acceptance rate:\", np.mean(kernel_results.inner_results.inner_results.is_accepted))\n",
        "# print(\"Final step size:\", kernel_results.new_step_size[-100:].mean())"
      ],
      "execution_count": null,
      "outputs": []
    },
    {
      "cell_type": "code",
      "metadata": {
        "id": "AOh30jd719rq"
      },
      "source": [
        "fig = draw_sky(data)\n",
        "plt.title(f\"Galaxy positions and ellipcities of sky {num_sky}.\")\n",
        "plt.xlabel(\"x-position\")\n",
        "plt.ylabel(\"y-position\")\n",
        "\n",
        "# Hex for red, purple, and yellow-orange\n",
        "colors = ['#F15854', '#B276B2', '#FAA43A']\n",
        "\n",
        "t1 = large_halo_pos\n",
        "t2 = small1_halo_pos\n",
        "t3 = small2_halo_pos\n",
        "\n",
        "plt.scatter(t1[:,0], t1[:,1], alpha=.015, c=colors[0])\n",
        "plt.scatter(t2[:,0], t2[:,1], alpha=.015, c=colors[1])\n",
        "plt.scatter(t3[:,0], t3[:,1], alpha=.015, c=colors[2])\n",
        "    \n",
        "for i in range(3):\n",
        "    plt.scatter(halo_data[num_sky - 1][3 + 2 * i],\n",
        "                halo_data[num_sky - 1][4 + 2 * i], \n",
        "                label=\"True halo position\", c='k', s=90)\n",
        "    \n",
        "# plt.legend(scatterpoints = 1)\n",
        "plt.xlim(0, 4200)\n",
        "plt.ylim(0, 4200);"
      ],
      "execution_count": null,
      "outputs": []
    },
    {
      "cell_type": "markdown",
      "metadata": {
        "id": "1kfhERKKPdp-"
      },
      "source": [
        "This looks pretty good, though it took a long time for the system to (sort of) converge. Our optimisation step would look something like this:"
      ]
    },
    {
      "cell_type": "code",
      "metadata": {
        "id": "q23126YI2CQ5"
      },
      "source": [
        "from DarkWorldsMetric import main_score\n",
        "\n",
        "halo_data_sub = halo_data[num_sky - 1]\n",
        "\n",
        "\n",
        "halo_lar_mean = np.mean(large_halo_pos, axis = 0)\n",
        "halo_sm1_mean = np.mean(small1_halo_pos, axis = 0) \n",
        "halo_sm2_mean = np.mean(small2_halo_pos, axis = 0)\n",
        "\n",
        "mean_posterior = [np.concatenate([halo_lar_mean, halo_sm1_mean, halo_sm2_mean_])]\n",
        "\n",
        "nhalo_all  = halo_data_sub[0].reshape(1, 1)\n",
        "x_true_all = halo_data_sub[3].reshape(1, 1)\n",
        "y_true_all = halo_data_sub[4].reshape(1, 1)\n",
        "x_ref_all  = halo_data_sub[3].reshape(1, 1)\n",
        "y_ref_all  = halo_data_sub[4].reshape(1, 1)\n",
        "sky_prediction1 = mean_posterior[0][:2]\n",
        "sky_prediction2 = mean_posterior[0][2:4]\n",
        "sky_prediction3 = mean_posterior[0][4:]\n",
        "\n",
        "print(\"Using the means:\",\n",
        "      sky_prediction1, \n",
        "      sky_prediction2, \n",
        "      sky_prediction3)\n",
        "main_score([1], x_true_all, y_true_all,\n",
        "           x_ref_all, y_ref_all, [sky_prediction3])\n",
        "\n",
        "# what's a bad score?\n",
        "print(\"\\n\")\n",
        "random_guess = np.random.randint(0, 4200, size = (1, 2))\n",
        "print(\"Using a random location:\", random_guess[0])\n",
        "main_score([1], x_true_all, y_true_all,\n",
        "           x_ref_all, y_ref_all, random_guess)\n"
      ],
      "execution_count": null,
      "outputs": []
    },
    {
      "cell_type": "markdown",
      "metadata": {
        "id": "8DC8sam2Q65-"
      },
      "source": [
        "## References\n",
        "[1] Antifragile: Things That Gain from Disorder. New York: Random House. 2012. ISBN 978-1-4000-6782-4.\n",
        "\n",
        "[2]  [Tim Saliman's solution to the Dark World's Contest](http://www.timsalimans.com/observing-dark-worlds)\n",
        "\n",
        "[3] Silver, Nate. The Signal and the Noise: Why So Many Predictions Fail — but Some Don't. 1. Penguin Press HC, The, 2012. Print."
      ]
    }
  ]
}