{
  "nbformat": 4,
  "nbformat_minor": 0,
  "metadata": {
    "colab": {
      "name": "Chapter 6",
      "provenance": [],
      "collapsed_sections": [
        "NVFx5oT5h30M"
      ],
      "include_colab_link": true
    },
    "kernelspec": {
      "display_name": "Python 3",
      "language": "python",
      "name": "python3"
    },
    "language_info": {
      "codemirror_mode": {
        "name": "ipython",
        "version": 3
      },
      "file_extension": ".py",
      "mimetype": "text/x-python",
      "name": "python",
      "nbconvert_exporter": "python",
      "pygments_lexer": "ipython3",
      "version": "3.6.7"
    }
  },
  "cells": [
    {
      "cell_type": "markdown",
      "metadata": {
        "id": "view-in-github",
        "colab_type": "text"
      },
      "source": [
        "<a href=\"https://colab.research.google.com/github/rnarkk/PPBMH/blob/main/Chapter_6.ipynb\" target=\"_parent\"><img src=\"https://colab.research.google.com/assets/colab-badge.svg\" alt=\"Open In Colab\"/></a>"
      ]
    },
    {
      "cell_type": "markdown",
      "metadata": {
        "id": "NFaKtWALh3zH"
      },
      "source": [
        "# Probabilistic Programming and Bayesian Methods for Hackers Chapter  6\n",
        "\n",
        "<table class = \"tfo-notebook-buttons\" align = \"left\">\n",
        "  <td>\n",
        "    <a target = \"_blank\" href = \"https://colab.research.google.com/github/CamDavidsonPilon/Probabilistic-Programming-and-Bayesian-Methods-for-Hackers/blob/master/Chapter6_Priorities/Ch6_Priors_TFP.ipynb\"><img height = \"32px\" src = \"https://colab.research.google.com/img/colab_favicon.ico\" />Run in Google Colab</a>\n",
        "  </td>\n",
        "  <td>\n",
        "    <a target = \"_blank\" href = \"https://github.com/CamDavidsonPilon/Probabilistic-Programming-and-Bayesian-Methods-for-Hackers/blob/master/Chapter6_Priorities/Ch6_Priors_TFP.ipynb\"><img src = \"https://www.tensorflow.org/images/GitHub-Mark-32px.png\" />View source on GitHub</a>\n",
        "  </td>\n",
        "</table>\n",
        "<br>\n",
        "<br>\n",
        "<br>\n",
        "\n",
        "Original content ([this Jupyter notebook](https://nbviewer.jupyter.org/github/CamDavidsonPilon/Probabilistic-Programming-and-Bayesian-Methods-for-Hackers/blob/master/Chapter6_Priorities/Ch6_Priors_PyMC2.ipynb)) created by Cam Davidson-Pilon ([`@Cmrn_DP`](https://twitter.com/Cmrn_DP))\n",
        "\n",
        "Ported to [Tensorflow Probability](https://www.tensorflow.org/probability/) by Matthew McAteer ([`@MatthewMcAteer0`](https://twitter.com/MatthewMcAteer0)), with help from Bryan Seybold, Mike Shwe ([`@mikeshwe`](https://twitter.com/mikeshwe)), Josh Dillon, and the rest of the TFP team at  Google ([`tfprobability@tensorflow.org`](mailto:tfprobability@tensorflow.org)).\n",
        "\n",
        "Welcome to Bayesian Methods for Hackers. The full Github repository is available at [github/Probabilistic-Programming-and-Bayesian-Methods-for-Hackers](https://github.com/CamDavidsonPilon/Probabilistic-Programming-and-Bayesian-Methods-for-Hackers). The other chapters can be found on the project's [homepage](https://camdavidsonpilon.github.io/Probabilistic-Programming-and-Bayesian-Methods-for-Hackers/). We hope you enjoy the book, and we encourage any contributions!\n",
        "\n",
        "---\n",
        "### Table of Contents\n",
        "- Getting our priorities straight\n",
        "  - Subjective vs Objective priors\n",
        "    - Subjective Priors\n",
        "  - Decisions, decisions...\n",
        "  - Empirical Bayes\n",
        "- Useful priors to know about\n",
        "  - The Gamma distribution\n",
        "  - The Wishart distribution\n",
        "  - The Beta distribution\n",
        "- Example: Bayesian Multi-Armed Bandits\n",
        "  - Applications\n",
        "  - A Proposed Solution\n",
        "  - A Measure of Good\n",
        "  - Extending the algorithm\n",
        "- Eliciting expert prior\n",
        "  - Trial roulette method\n",
        "  - Example: Stock Returns\n",
        "  - Protips for the Wishart distribution\n",
        "- Conjugate Priors\n",
        "- Jeffreys Priors\n",
        "- Effect of ther prior as N increases\n",
        "  - Bayesian perspective of Penalized Linear Regressions\n",
        "    - References\n",
        "\n",
        "---\n",
        "\n",
        "This chapter of [Bayesian Methods for Hackers](https://github.com/CamDavidsonPilon/Probabilistic-Programming-and-Bayesian-Methods-for-Hackers) focuses on the most debated and discussed part of Bayesian methodologies: how to choose an appropriate prior distribution. We also present how the prior's influence changes as our dataset increases, and an interesting relationship between priors and penalties on linear regression."
      ]
    },
    {
      "cell_type": "code",
      "metadata": {
        "colab": {
          "base_uri": "https://localhost:8080/"
        },
        "id": "wMG5WDzvFD8q",
        "outputId": "09f203c9-f396-4bbb-bd7f-86151e33494f"
      },
      "source": [
        "!pip3 install -Uq pip\n",
        "!pip3 uninstall -yq tensorflow tensorflow-probability\n",
        "!pip3 install -Uq jax oryx tfp-nightly[jax]\n",
        "\n",
        "!pip3 install -q praw wget"
      ],
      "execution_count": null,
      "outputs": [
        {
          "output_type": "stream",
          "name": "stdout",
          "text": [
            "\u001b[33mWARNING: Running pip as the 'root' user can result in broken permissions and conflicting behaviour with the system package manager. It is recommended to use a virtual environment instead: https://pip.pypa.io/warnings/venv\u001b[0m\u001b[33m\n",
            "\u001b[0m\u001b[33mWARNING: Skipping tensorflow as it is not installed.\u001b[0m\u001b[33m\n",
            "\u001b[0m\u001b[33mWARNING: Skipping tensorflow-probability as it is not installed.\u001b[0m\u001b[33m\n",
            "\u001b[0m\u001b[33mWARNING: Running pip as the 'root' user can result in broken permissions and conflicting behaviour with the system package manager. It is recommended to use a virtual environment instead: https://pip.pypa.io/warnings/venv\u001b[0m\u001b[33m\n",
            "\u001b[0m"
          ]
        }
      ]
    },
    {
      "cell_type": "code",
      "metadata": {
        "id": "YRorv1tNh3zJ"
      },
      "source": [
        "\"\"\"\n",
        "The book uses a custom matplotlibrc file, which provides the unique styles for\n",
        "matplotlib plots. If executing this book, and you wish to use the book's\n",
        "styling, provided are two options:\n",
        "    1. Overwrite your own matplotlibrc file with the rc-file provided in the\n",
        "       book's styles/ dir. See http://matplotlib.org/users/customizing.html\n",
        "    2. Also in the styles is  bmh_matplotlibrc.json file. This can be used to\n",
        "       update the styles in only this notebook. Try running the following code:\n",
        "\n",
        "        import json\n",
        "        s = json.load(open(\"../styles/bmh_matplotlibrc.json\"))\n",
        "        matplotlib.rcParams.update(s)\n",
        "\"\"\"\n",
        "from jax import lax, nn, random\n",
        "from jax.numpy import *\n",
        "from jax.numpy import int32 as i32, float32 as f32\n",
        "from oryx import bijectors as tfb\n",
        "from oryx.distributions import (\n",
        "    Beta, Binomial, Exponential, Gamma, MultivariateNormalDiag, MultivariateNormalTriL, Normal, Poisson, Uniform, WishartTriL\n",
        ")\n",
        "from tensorflow_probability.substrates import jax as tfp\n",
        "\n",
        "from IPython.core.pylabtools import figsize\n",
        "import matplotlib.pyplot as plt\n",
        "import matplotlib.axes as axes;\n",
        "from matplotlib.patches import Ellipse\n",
        "import seaborn as sns\n",
        "\n",
        "import wget\n",
        "\n",
        "plt.style.use('fivethirtyeight')\n",
        "\n",
        "%config InlineBackend.figure_format = 'retina'\n",
        "\n",
        "%matplotlib inline\n",
        "\n",
        "sns.set_context('notebook')\n",
        "\n",
        "TFColor = [\n",
        "    '#F15854',\n",
        "    '#5DA5DA',\n",
        "    '#FAA43A',\n",
        "    '#60BD68',\n",
        "    '#F17CB0',\n",
        "    '#B2912F',\n",
        "    '#B276B2',\n",
        "    '#DECF3F',\n",
        "    '#4D4D4D']"
      ],
      "execution_count": null,
      "outputs": []
    },
    {
      "cell_type": "markdown",
      "metadata": {
        "id": "48d58kVDh3zI"
      },
      "source": [
        "## Getting our priorities straight\n",
        "\n",
        "\n",
        "Up until now, we have mostly ignored our choice of priors. This is unfortunate as we can be very expressive with our priors, but we also must be careful about choosing them. This is especially true if we want to be objective, that is, not to express any personal beliefs in the priors. \n"
      ]
    },
    {
      "cell_type": "markdown",
      "metadata": {
        "id": "Cxl9I5wvB4oQ"
      },
      "source": [
        "### Subjective vs Objective priors\n",
        "\n",
        "Bayesian priors can be classified into two classes: *objective* priors, which aim to allow the data to influence the posterior the most, and *subjective* priors, which allow the practitioner to express his or her views into the prior. \n",
        "\n",
        "What is an example of an objective prior? We have seen some already, including the *flat* prior, which is a uniform distribution over the entire possible range of the unknown. Using a flat prior implies that we give each possible value an equal weighting. Choosing this type of prior is invoking what is called \"The Principle of Indifference\", literally we have no prior reason to favour one value over another. Calling a flat prior over a restricted space an objective prior is not correct, though it seems similar. If we know $p$ in a Binomial model is greater than 0.5, then $\\text{Uniform}(0.5,1)$ is not an objective prior (since we have used prior knowledge) even though it is 'flat' over [0.5, 1]. The flat prior must be flat along the *entire* range of possibilities. \n",
        "\n",
        "Aside from the flat prior, other examples of objective priors are less obvious, but they contain important characteristics that reflect objectivity. For now, it should be said that *rarely* is a objective prior *truly* objective. We will see this later."
      ]
    },
    {
      "cell_type": "markdown",
      "metadata": {
        "id": "X5YKEsldB1Tz"
      },
      "source": [
        "#### Subjective Priors\n",
        "\n",
        "On the other hand, if we added more probability mass to certain areas of the prior, and less elsewhere, we are biasing our inference towards the unknowns existing in the former area. This is known as a subjective, or *informative* prior. In the figure below, the subjective prior reflects a belief that the unknown likely lives around 0.5, and not around the extremes. The objective prior is insensitive to this."
      ]
    },
    {
      "cell_type": "code",
      "metadata": {
        "id": "Ip59tSbbpVG-"
      },
      "source": [
        "plt.figure(figsize(12.5, 7))\n",
        "\n",
        "colors = [TFColor[1], TFColor[2], TFColor[3], TFColor[4]]\n",
        "\n",
        "x = linspace(0., 1., 50)\n",
        "obj_prior_0 = Beta(1., 1.).prob(x)\n",
        "subj_prior_0 = Beta(10., 10.).prob(x)\n",
        "subj_prior_1 = 2 * ones(25)\n",
        "\n",
        "p = plt.plot(x, obj_prior_0, \n",
        "    label = \"An objective prior \\n(uninformative, \\\"Principle of Indifference\\\")\")\n",
        "plt.fill_between(x, 0, obj_prior_0, color = p[0].get_color(), alpha = 0.3)\n",
        "\n",
        "p = plt.plot(x, subj_prior_0,\n",
        "             label = \"A subjective prior \\n(informative)\")\n",
        "plt.fill_between(x, 0, subj_prior_0, color = p[0].get_color(), alpha = 0.3)\n",
        "\n",
        "p = plt.plot(x[25:], subj_prior_1, \n",
        "             label = \"Another subjective prior\")\n",
        "plt.fill_between(x[25:], 0, 2, color = p[0].get_color(), alpha = 0.3)\n",
        "\n",
        "plt.ylim(0,4)\n",
        "\n",
        "plt.ylim(0, 4)\n",
        "leg = plt.legend(loc = \"upper left\")\n",
        "leg.get_frame().set_alpha(0.4)\n",
        "plt.title(\"Comparing objective vs. subjective priors for an unknown probability\");"
      ],
      "execution_count": null,
      "outputs": []
    },
    {
      "cell_type": "markdown",
      "metadata": {
        "id": "ds1NsX9ah3zO"
      },
      "source": [
        "The choice of a subjective prior does not always imply that we are using the practitioner's subjective opinion: more often the subjective prior was once a posterior to a previous problem, and now the practitioner is updating this posterior with new data. A subjective prior can also be used to inject *domain knowledge* of the problem into the model. We will see examples of these two situations later."
      ]
    },
    {
      "cell_type": "markdown",
      "metadata": {
        "id": "s5rHtoNqh3zP"
      },
      "source": [
        "### Decision, decisions...\n",
        "\n",
        "The choice, either *objective* or *subjective* mostly depends on the problem being solved, but there are a few cases where one is preferred over the other. In instances of scientific research, the choice of an objective prior is obvious. This eliminates any biases in the results, and two researchers who might have differing prior opinions would feel an objective prior is fair. Consider a more extreme situation:\n",
        "\n",
        "> A tobacco company publishes a report with a Bayesian methodology that retreated 60 years of medical research on tobacco use. Would you believe the results? Unlikely. The researchers probably chose a subjective prior that too strongly biased results in their favor.\n",
        "\n",
        "Unfortunately, choosing an objective prior is not as simple as selecting a flat prior, and even today the problem is still not completely solved. The problem with naively choosing the uniform prior is that pathological issues can arise. Some of these issues are pedantic, but we delay more serious issues to the Appendix of this Chapter."
      ]
    },
    {
      "cell_type": "markdown",
      "metadata": {
        "id": "RoP5bOuSh3zP"
      },
      "source": [
        "We must remember that choosing a prior, whether subjective or objective, is still part of the modeling process. To quote Gelman [5]:\n",
        "\n",
        ">... after the model has been fit, one should look at the posterior distribution\n",
        "and see if it makes sense. If the posterior distribution does not make sense, this implies\n",
        "that additional prior knowledge is available that has not been included in the model,\n",
        "and that contradicts the assumptions of the prior distribution that has been used. It is\n",
        "then appropriate to go back and alter the prior distribution to be more consistent with\n",
        "this external knowledge.\n",
        "\n",
        "If the posterior does not make sense, then clearly one had an idea what the posterior *should* look like (not what one *hopes* it looks like), implying that the current prior does not contain all the prior information and should be updated. At this point, we can discard the current prior and choose a more reflective one.\n",
        "\n",
        "Gelman [4] suggests that using a uniform distribution with large bounds is often a good choice for objective priors. Although, one should be wary about using Uniform objective priors with large bounds, as they can assign too large of a prior probability to non-intuitive points. Ask yourself: do you really think the unknown could be incredibly large? Often quantities are naturally biased towards 0. A Normal random variable with large variance (small precision) might be a better choice, or an Exponential with a fat tail in the strictly positive (or negative) case. \n",
        "\n",
        "If using a particularly subjective prior, it is your responsibility to be able to explain the choice of that prior, else you are no better than the tobacco company's guilty parties. "
      ]
    },
    {
      "cell_type": "markdown",
      "metadata": {
        "id": "DD_MDbroh3zQ"
      },
      "source": [
        "### Empirical Bayes\n",
        "\n",
        "While not a true Bayesian method, *empirical Bayes* is a trick that combines frequentist and Bayesian inference. As mentioned previously, for (almost) every inference problem there is a Bayesian method and a frequentist method. The significant difference between the two is that Bayesian methods have a prior distribution, with hyperparameters $\\alpha$, while empirical methods do not have any notion of a prior. Empirical Bayes combines the two methods by using frequentist methods to select $\\alpha$, and then proceeds with Bayesian methods on the original problem. \n",
        "\n",
        "A very simple example follows: suppose we wish to estimate the parameter $\\mu$ of a Normal distribution, with $\\sigma = 5$. Since $\\mu$ could range over the whole real line, we can use a Normal distribution as a prior for $\\mu$. How to select the prior's hyperparameters, denoted ($\\mu_p, \\sigma_p^2$)? The $\\sigma_p^2$ parameter can be chosen to reflect the uncertainty we have. For $\\mu_p$, we have two options:\n",
        "\n",
        "**Option 1**: Empirical Bayes suggests using the empirical sample mean, which will center the prior around the observed empirical mean:\n",
        "\n",
        "$$ \\mu_p = \\frac{1}{N} \\sum_{i = 0}^N X_i $$\n",
        "\n",
        "**Option 2**: Traditional Bayesian inference suggests using prior knowledge, or a more objective prior (zero mean and fat standard deviation).\n",
        "\n",
        "Empirical Bayes can be argued as being semi-objective, since while the choice of prior model is ours (hence subjective), the parameters are solely determined by the data.\n",
        "\n",
        "Personally, I feel that Empirical Bayes is *double-counting* the data. That is, we are using the data twice: once in the prior, which will influence our results towards the observed data, and again in the inferential engine of MCMC. This double-counting will understate our true uncertainty. To minimise this double-counting, I would only suggest using Empirical Bayes when you have *lots* of observations, else the prior will have too strong of an influence. I would also recommend, if possible, to maintain high uncertainty (either by setting a large $\\sigma_p^2$ or equivalent.)\n",
        "\n",
        "Empirical Bayes also violates a theoretical axiom in Bayesian inference. The textbook Bayesian algorithm of:\n",
        "\n",
        ">*prior* $\\Rightarrow$ *observed data* $\\Rightarrow$ *posterior* \n",
        "\n",
        "is violated by Empirical Bayes, which instead uses \n",
        "\n",
        ">*observed data* $\\Rightarrow$ *prior* $\\Rightarrow$ *observed data* $\\Rightarrow$ *posterior*\n",
        "\n",
        "Ideally, all priors should be specified *before* we observe the data, so that the data does not influence our prior opinions (see the volumes of research by Daniel Kahneman *et. al* about [anchoring](http://en.wikipedia.org/wiki/Anchoring_and_adjustment))."
      ]
    },
    {
      "cell_type": "markdown",
      "metadata": {
        "id": "zby_E57oBuH5"
      },
      "source": [
        "## Useful priors to know about"
      ]
    },
    {
      "cell_type": "markdown",
      "metadata": {
        "id": "8pQLkxcih3zQ"
      },
      "source": [
        "### The Gamma distribution\n",
        "\n",
        "A Gamma random variable, denoted $X \\sim \\text{Gamma}(\\alpha, \\beta)$, is a random variable over the positive real numbers. It is in fact a generalisation of the Exponential random variable, that is:\n",
        "\n",
        "$$ \\text{Exponential}(\\beta) = \\text{Gamma}(1, \\beta) $$\n",
        "\n",
        "This additional parameter allows the probability density function to have more flexibility, hence allowing the practitioner to express his or her subjective priors more accurately. The density function for a $\\text{Gamma}(\\alpha, \\beta)$ random variable is:\n",
        "\n",
        "$$ f(x \\mid \\alpha, \\beta) = \\frac{\\beta^{\\alpha}x^{\\alpha-1}e^{-\\beta x}}{\\Gamma(\\alpha)} $$\n",
        "\n",
        "where $\\Gamma(\\alpha)$ is the [Gamma function](http://en.wikipedia.org/wiki/Gamma_function), and for differing values of $(\\alpha, \\beta)$ looks like:"
      ]
    },
    {
      "cell_type": "code",
      "metadata": {
        "id": "rUXIzxfFh3zR"
      },
      "source": [
        "parameters = [(1., .5), (9., 2.), (3., .5), (7., .5)]\n",
        "x = linspace(0.001, 20., 150)\n",
        "\n",
        "plt.figure(figsize(12.5, 7))\n",
        "for alpha, beta in parameters:\n",
        "    y = Gamma(alpha, beta).prob(x)\n",
        "    lines = plt.plot(x, y, label = f'({alpha:.1f}, {beta:.1f})', lw = 3)\n",
        "    plt.fill_between(x, 0, y, alpha = .2, color = lines[0].get_color())\n",
        "    plt.autoscale(tight = True)\n",
        "\n",
        "plt.legend(title = r\"($\\alpha, \\beta$)\");"
      ],
      "execution_count": null,
      "outputs": []
    },
    {
      "cell_type": "markdown",
      "metadata": {
        "id": "8Af9T7Oph3zT"
      },
      "source": [
        "### The Wishart distribution\n",
        "\n",
        "Until now, we have only seen random variables that are scalars. Of course, we can also have *random matrices*! Specifically, the Wishart distribution is a distribution over all [positive semi-definite matrices](http://en.wikipedia.org/wiki/Positive-definite_matrix). Why is this useful to have in our arsenal? (Proper) covariance matrices are positive-definite, hence the Wishart is an appropriate prior for covariance matrices. We can't really visualise a distribution of matrices, so I'll plot some realisations from the $5 \\times 5$ (above) and $20 \\times 20$ (below) Wishart distribution:"
      ]
    },
    {
      "cell_type": "code",
      "metadata": {
        "id": "3y8PyXdfJ5F7"
      },
      "source": [
        "n = 4\n",
        "print(\"Output of the eye function \\n(a commonly used function with Wishart Distributions): \\n\", eye(n))\n",
        "\n",
        "plt.figure(figsize(12.5, 7))\n",
        "for i in range(10):\n",
        "    ax = plt.subplot(2, 5, i + 1)\n",
        "    if i >= 5:\n",
        "        n = 15\n",
        "    wishart_matrices = WishartTriL(\n",
        "        df = n + 1,\n",
        "        scale_tril = eye(n)).sample(seed = random.PRNGKey(0))\n",
        "    plt.imshow(wishart_matrices, \n",
        "               interpolation = 'none', \n",
        "               cmap = 'hot')\n",
        "    ax.axis('off')\n",
        "\n",
        "plt.suptitle(\"Random matrices from a Wishart Distribution\");"
      ],
      "execution_count": null,
      "outputs": []
    },
    {
      "cell_type": "markdown",
      "metadata": {
        "id": "fdT3MMLOh3zW"
      },
      "source": [
        "One thing to notice is the symmetry of these matrices. The Wishart distribution can be a little troubling to deal with, but we will use it in an example later."
      ]
    },
    {
      "cell_type": "markdown",
      "metadata": {
        "id": "t_shyPsXh3zX"
      },
      "source": [
        "### The Beta distribution\n",
        "\n",
        "You may have seen the term `beta` in previous code in this book. Often, I was implementing a Beta distribution. The Beta distribution is very useful in Bayesian statistics. A random variable $X$ has a $\\text{Beta}$ distribution, with parameters $(\\alpha, \\beta)$, if its density function is:\n",
        "\n",
        "$$f_X(x | \\alpha, \\beta ) = \\frac{ x^{\\alpha - 1}(1-x)^{ \\beta - 1 } }{B(\\alpha, \\beta) }, α, β > 0$$\n",
        "\n",
        "where $B$ is the [Beta function](http://en.wikipedia.org/wiki/Beta_function) (hence the name). The random variable $X$ is only allowed in [0,1], making the Beta distribution a popular distribution for decimal values, probabilities and proportions. The values of $\\alpha$ and $\\beta$, both positive values, provide great flexibility in the shape of the distribution. Below we plot some distributions:"
      ]
    },
    {
      "cell_type": "code",
      "metadata": {
        "id": "0VSxcnhuOtrK"
      },
      "source": [
        "params = [(2., 5.), (1., 1.), (.5, .5), (5., 5.), (20., 4.), (5., 1.)]\n",
        "x = linspace(.01, .99, 100)\n",
        "\n",
        "plt.figure(figsize(12.5, 7))\n",
        "for α, β in params:\n",
        "    y = Beta(α, β).prob(x)\n",
        "    lines = plt.plot(x, y, label = f\"({α:.1f}, {β:.1f})\", lw = 3)\n",
        "    plt.fill_between(x, 0, y, alpha = .2, color = lines[0].get_color())\n",
        "    plt.autoscale(tight = True)\n",
        "plt.ylim(0)\n",
        "plt.legend(title = r\"($\\alpha, \\beta$)\");"
      ],
      "execution_count": null,
      "outputs": []
    },
    {
      "cell_type": "markdown",
      "metadata": {
        "id": "4LaufPdOh3za"
      },
      "source": [
        "One thing I'd like the reader to notice is the presence of the flat distribution above, specified by parameters $(1,1)$. This is the Uniform distribution. Hence the Beta distribution is a generalisation of the Uniform distribution, something we will revisit many times.\n",
        "\n",
        "There is an interesting connection between the Beta distribution and the Binomial distribution. Suppose we are interested in some unknown proportion or probability $p$. We assign a $\\text{Beta}(\\alpha, \\beta)$ prior to $p$. We observe some data generated by a Binomial process, say $X \\sim \\text{Binomial}(N, p)$, with $p$ still unknown. Then our posterior *is again a Beta distribution*, i.e. $p | X \\sim \\text{Beta}( \\alpha + X, \\beta + N -X )$. Succinctly, one can relate the two by \"a Beta prior with Binomial observations creates a Beta posterior\". This is a very useful property, both computationally and heuristically.\n",
        "\n",
        "In light of the above two paragraphs, if we start with a $\\text{Beta}(1,1)$ prior on $p$ (which is a Uniform), observe data $X \\sim \\text{Binomial}(N, p)$, then our posterior is $\\text{Beta}(1 + X, 1 + N - X)$. \n"
      ]
    },
    {
      "cell_type": "markdown",
      "metadata": {
        "id": "Z1Jkp2odh3za"
      },
      "source": [
        "## Example: Bayesian Multi-Armed Bandits\n",
        "*Adapted from an example by Ted Dunning of MapR Technologies*\n",
        "\n",
        "> Suppose you are faced with $N$ slot machines (colourfully called multi-armed bandits). Each bandit has an unknown probability of distributing a prize (assume for now the prizes are the same for each bandit, only the probabilities differ). Some bandits are very generous, others not so much. Of course, you don't know what these probabilities are. By only choosing one bandit per round, our task is devise a strategy to maximize our winnings.\n",
        "\n",
        "Of course, if we knew the bandit with the largest probability, then always picking this bandit would yield the maximum winnings. So our task can be phrased as \"Find the best bandit, and as quickly as possible\". \n",
        "\n",
        "The task is complicated by the stochastic nature of the bandits. A suboptimal bandit can return many winnings, purely by chance, which would make us believe that it is a very profitable bandit. Similarly, the best bandit can return many duds. Should we keep trying losers then, or give up? \n",
        "\n",
        "A more troublesome problem is, if we have found a bandit that returns *pretty good* results, do we keep drawing from it to maintain our *pretty good score*, or do we try other bandits in hopes of finding an *even-better* bandit? This is the exploration vs. exploitation dilemma.\n"
      ]
    },
    {
      "cell_type": "markdown",
      "metadata": {
        "id": "lg1gD8ILBjo-"
      },
      "source": [
        "### Applications\n",
        "\n",
        "\n",
        "The Multi-Armed Bandit problem at first seems very artificial, something only a mathematician would love, but that is only before we address some applications:\n",
        "\n",
        "- Internet display advertising: companies have a suite of potential ads they can display to visitors, but the company is not sure which ad strategy to follow to maximise sales. This is similar to A/B testing, but has the added advantage of naturally minimising strategies that do not work (and generalises to A/B/C/D... strategies)\n",
        "- Ecology: animals have a finite amount of energy to expend, and following certain behaviours has uncertain rewards. How does the animal maximise its fitness?\n",
        "- Finance: which stock option gives the highest return, under time-varying return profiles.\n",
        "- Clinical trials: a researcher would like to find the best treatment, out of many possible treatment, while minimising losses. \n",
        "- Psychology: how does punishment and reward affect our behaviour? How do humans learn?\n",
        "\n",
        "Many of these questions above are fundamental to the application's field.\n",
        "\n",
        "It turns out the *optimal solution* is incredibly difficult, and it took decades for an overall solution to develop. There are also many approximately-optimal solutions which are quite good. The one I wish to discuss is one of the few solutions that can scale incredibly well. The solution is known as *Bayesian Bandits*.\n"
      ]
    },
    {
      "cell_type": "markdown",
      "metadata": {
        "id": "TmgKDLEsBl51"
      },
      "source": [
        "### A Proposed Solution\n",
        "\n",
        "\n",
        "Any proposed strategy is called an *online algorithm* (not in the internet sense, but in the continuously-being-updated sense), and more specifically a reinforcement learning algorithm. The algorithm starts in an ignorant state, where it knows nothing, and begins to acquire data by testing the system. As it acquires data and results, it learns what the best and worst behaviours are (in this case, it learns which bandit is the best). With this in mind, perhaps we can add an additional application of the Multi-Armed Bandit problem:\n",
        "\n",
        "- Psychology: how does punishment and reward affect our behaviour? How do humans learn?\n",
        "\n",
        "\n",
        "The Bayesian solution begins by assuming priors on the probability of winning for each bandit. In our vignette we assumed complete ignorance of these probabilities. So a very natural prior is the flat prior over 0 to 1. The algorithm proceeds as follows:\n",
        "\n",
        "For each round:\n",
        "\n",
        "1. Sample a random variable $X_b$ from the prior of bandit $b$, for all $b$.\n",
        "2. Select the bandit with largest sample, i.e. select $B = \\text{argmax}\\;\\; X_b$.\n",
        "3. Observe the result of pulling bandit $B$, and update your prior on bandit $B$.\n",
        "4. Return to 1.\n",
        "\n",
        "That's it. Computationally, the algorithm involves sampling from $N$ distributions. Since the initial priors are $\\text{Beta}(\\alpha = 1,\\beta = 1)$ (a uniform distribution), and the observed result $X$ (a win or loss, encoded 1 and 0 respectfully) is Binomial, the posterior is a $\\text{Beta}(\\alpha = 1+X,\\beta = 1+1-X)$.\n",
        "\n",
        "To answer our question from before, this algorithm suggests that we should not discard losers, but we should pick them at a decreasing rate as we gather confidence that there exist *better* bandits. This follows because there is always a non-zero chance that a loser will achieve the status of $B$, but the probability of this event decreases as we play more rounds (see figure below).\n",
        "\n",
        "Below we implement Bayesian Bandits using two classes, `Bandits` that defines the slot machines, and `BayesianStrategy` which implements the above learning strategy."
      ]
    },
    {
      "cell_type": "code",
      "metadata": {
        "id": "ytA8EtbBh3zc"
      },
      "source": [
        "class Bandits:\n",
        "    \"\"\"This class represents N bandits machines.\n",
        "\n",
        "    parameters:\n",
        "        probs: a (n,) Numpy array of probabilities >0, <1.\n",
        "    methods:\n",
        "        pull(i): return the results, 0 or 1, of pulling the ith bandit.\n",
        "    \"\"\"\n",
        "    def __init__(self, probs):\n",
        "        self._probs = probs\n",
        "        self._uniform = Uniform(low = 0., high = 1.)\n",
        "        self.shape = self._probs.shape\n",
        "        self.dtype = probs.dtype\n",
        "    \n",
        "    def pull(self, arm):\n",
        "        return self._uniform.sample(self.shape[:-1]) < self._probs[..., arm]\n",
        "    \n",
        "    def optimal_arm(self):\n",
        "        return argmax(self._probs, axis = -1)"
      ],
      "execution_count": null,
      "outputs": []
    },
    {
      "cell_type": "code",
      "metadata": {
        "id": "8rWqI4Bc7b2A"
      },
      "source": [
        "class BayesianStrategy:\n",
        "    \"\"\"Implements a online, learning strategy to solve\n",
        "    the Multi-Armed Bandit problem.\n",
        "    \n",
        "    parameters:\n",
        "      bandits: a Bandit class with .pull method\n",
        "    \n",
        "    methods:\n",
        "      sample_bandits(n): sample and train on n pulls.\n",
        "    \"\"\"\n",
        "    \n",
        "    def __init__(self, bandits):\n",
        "        self.bandits = bandits\n",
        "        dtype = bandits.dtype\n",
        "        self.wins_var = tf.Variable(\n",
        "            initial_value = zeros(self.bandits.shape, dtype))\n",
        "        self.trials_var = tf.Variable(\n",
        "            initial_value = zeros(self.bandits.shape, dtype))\n",
        "      \n",
        "    def sample_bandits(self, n = 1):\n",
        "        return lax.while_loop(\n",
        "            cond = lambda *args: True,\n",
        "            body = self._one_trial,\n",
        "            loop_vars = (identity(self.wins_var),\n",
        "                         identity(self.trials_var)),\n",
        "            maximum_iterations = n,\n",
        "            parallel_iterations = 1)\n",
        "    \n",
        "    def make_posterior(self, wins, trials):\n",
        "        return Beta(concentration1 = 1. + wins,\n",
        "                    concentration0 = 1. + trials - wins)\n",
        "        \n",
        "    def _one_trial(self, wins, trials):\n",
        "        # Sample from the bandits's priors, and select the largest sample\n",
        "        rv_posterior_payout = self.make_posterior(wins, trials)\n",
        "        posterior_payout = rv_posterior_payout.sample()\n",
        "        choice = argmax(posterior_payout, axis = -1)\n",
        "\n",
        "        # Update trials\n",
        "        one_hot_choice = reshape(\n",
        "            nn.one_hot(\n",
        "                indices = reshape(choice, shape = (-1,)),\n",
        "                depth = self.bandits.shape[-1],\n",
        "                dtype = self.trials_var.dtype.base_dtype),\n",
        "            shape = wins.shape)\n",
        "        trials = self.trials_var.assign_add(one_hot_choice)\n",
        "\n",
        "        # Update wins\n",
        "        result = self.bandits.pull(choice)\n",
        "        update = where(result, one_hot_choice, zeros_like(one_hot_choice))\n",
        "        wins = self.wins_var.assign_add(update)\n",
        "\n",
        "        return wins, trials"
      ],
      "execution_count": null,
      "outputs": []
    },
    {
      "cell_type": "markdown",
      "metadata": {
        "id": "5pwDKmkah3zd"
      },
      "source": [
        "Below we visualise the learning of the Bayesian Bandit solution."
      ]
    },
    {
      "cell_type": "code",
      "metadata": {
        "id": "mNlSH9J-PgzB"
      },
      "source": [
        "hidden_prob = array([0.85, 0.60, 0.75])\n",
        "bandits = Bandits(hidden_prob)\n",
        "bayesian_strategy = BayesianStrategy(bandits)\n",
        "\n",
        "\n",
        "draw_samples = array([1, 1, 3, 10, 10, 25, 50, 100, 200, 600])\n",
        "\n",
        "\n",
        "def plot_priors(hidden_prob, wins, trials,\n",
        "                lw = 3, alpha = .2, plt_vlines = True):\n",
        "    for i in range(hidden_prob.shape[0]):\n",
        "        posterior_dists = linspace(.001, .999, 200)\n",
        "        y = Beta(concentration1 = (1 + wins[i]).astype(f32), \n",
        "                 concentration0 = (1 + trials[i] - wins[i]).astype(f32))\n",
        "        y_prob_i = y.prob(hidden_prob[i].astype(f32))\n",
        "        y_probs = y.prob(posterior_dists.astype(f32))\n",
        "        \n",
        "        p = plt.plot(posterior_dists, y_probs, lw = lw)\n",
        "        c = p[0].get_markeredgecolor()\n",
        "        plt.fill_between(posterior_dists, y_probs, 0, color = c, alpha = alpha, \n",
        "                         label = f\"underlying probability: {hidden_prob[i]:.2f}\")\n",
        "        if plt_vlines:\n",
        "            plt.vlines(hidden_prob[i], 0, y_prob_i,\n",
        "                    colors = c, linestyles = '--', lw = 2)\n",
        "        plt.autoscale(tight = True)\n",
        "        s = \"s\" * (N_pulls > 1)\n",
        "        plt.title(f\"Posteriors after {N_pulls} {s} pull\")\n",
        "        plt.autoscale(tight = True)\n",
        "    \n",
        "\n",
        "plt.figure(figsize(11.0, 12))\n",
        "for j, i in enumerate(draw_samples):\n",
        "    plt.subplot(5, 2, j + 1) \n",
        "    wins, trials = bayesian_strategy.sample_bandits(i)\n",
        "    N_pulls = int(draw_samples.cumsum()[j])\n",
        "    plot_priors(hidden_prob, wins = wins, trials = trials)\n",
        "    # plt.legend()\n",
        "    plt.autoscale(tight = True)\n",
        "plt.tight_layout()"
      ],
      "execution_count": null,
      "outputs": []
    },
    {
      "cell_type": "markdown",
      "metadata": {
        "id": "qkO2vdVHh3zh"
      },
      "source": [
        "Note that we don't really care how accurate we become about the inference of the hidden probabilities &mdash; for this problem we are more interested in choosing the best bandit (or more accurately, becoming *more confident* in choosing the best bandit). For this reason, the distribution of the red bandit is very wide (representing ignorance about what that hidden probability might be) but we are reasonably confident that it is not the best, so the algorithm chooses to ignore it.\n",
        "\n",
        "From the above, we can see that after 1000 pulls, the majority of the \"blue\" function leads the pack, hence we will almost always choose this arm. This is good, as this arm is indeed the best.\n",
        "\n",
        "Below is a D3 app that demonstrates our algorithm updating/learning three bandits.  The first figure are the raw counts of pulls and wins, and the second figure is a dynamically updating plot. I encourage you to try to guess which bandit is optimal, prior to revealing the true probabilities, by selecting the `arm buttons`."
      ]
    },
    {
      "cell_type": "code",
      "metadata": {
        "id": "q6YL7mvvQbKW"
      },
      "source": [
        "# Getting the HTML file for the simulated Bayesian Bandits\n",
        "url = 'https://raw.githubusercontent.com/CamDavidsonPilon/Probabilistic-Programming-and-Bayesian-Methods-for-Hackers/master/Chapter6_Priorities/BanditsD3.html'\n",
        "filename = wget.download(url)\n",
        "filename"
      ],
      "execution_count": null,
      "outputs": []
    },
    {
      "cell_type": "code",
      "metadata": {
        "id": "mcak8nERh3zh"
      },
      "source": [
        "from IPython.core.display import HTML\n",
        "\n",
        "# try executing the below command twice if the first time doesn't work\n",
        "HTML(filename = 'BanditsD3.html')"
      ],
      "execution_count": null,
      "outputs": []
    },
    {
      "cell_type": "markdown",
      "metadata": {
        "id": "aYfdd4jBh3zk"
      },
      "source": [
        "Deviations of the observed ratio from the highest probability is a measure of performance. For example, in the long run, we can attain the reward/pull ratio of the maximum bandit probability if we are optimal. Long-term realised ratios less than the maximum represent inefficiencies. (Realised ratios larger than the maximum probability is due to randomness, and will eventually fall below). \n",
        "\n",
        "### A Measure of *Good*\n",
        "\n",
        "We need a metric to calculate how well we are doing. Recall the absolute *best* we can do is to always pick the bandit with the largest probability of winning. Denote this best bandit's probability by $w_{opt}$. Our score should be relative to how well we would have done had we chosen the best bandit from the beginning. This motivates the *total regret* of a strategy, defined:\n",
        "$$\n",
        "\\begin{align}\n",
        "R_T & = \\sum_{i = 1}^{T} \\left( w_{opt} - w_{B(i)} \\right)\\\\\n",
        "& = Tw^* - \\sum_{i = 1}^{T} \\;  w_{B(i)} \n",
        "\\end{align}\n",
        "$$\n",
        "\n",
        "where $w_{B(i)}$ is the probability of a prize of the chosen bandit in the $i$ round. A total regret of 0 means the strategy is matching the best possible score. This is likely not possible, as initially our algorithm will often make the wrong choice.  Ideally, a strategy's total regret should flatten as it learns the best bandit. (Mathematically, we achieve $w_{B(i)} = w_{opt}$ often)\n",
        "\n",
        "\n",
        "Below we plot the total regret of this simulation, including the scores of some other strategies:\n",
        "\n",
        "1. Random: randomly choose a bandit to pull. If you can't beat this, just stop. \n",
        "2. Largest Bayesian credible bound: pick the bandit with the largest upper bound in its 95% credible region of the underlying probability. \n",
        "3. Bayes-UCB algorithm: pick the bandit with the largest *score*, where score is a dynamic quantile of the posterior (see [4] )\n",
        "4. Mean of posterior: choose the bandit with the largest posterior mean. This is what a human player (sans computer) would likely do. \n",
        "5. Largest proportion: pick the bandit with the current largest observed proportion of winning. \n",
        "\n",
        "The code for these are in the `other_strats.py`, where you can implement your own very easily.\n"
      ]
    },
    {
      "cell_type": "code",
      "metadata": {
        "id": "TTUtPs3gO6u3"
      },
      "source": [
        "# https://raw.githubusercontent.com/CamDavidsonPilon/Probabilistic-Programming-and-Bayesian-Methods-for-Hackers/master/Chapter6_Priorities/other_strats.py\n",
        "import scipy.stats as stats\n",
        "\n",
        "\n",
        "class GeneralBanditStrategy:\t\n",
        "    \"\"\"Implements an online, learning strategy to solve\n",
        "    the Multi-Armed Bandit problem.\n",
        "    \n",
        "    parameters:\n",
        "        bandits: a Bandit class with .pull method\n",
        "\t\tchoice_function: accepts a self argument (which gives access to all the variables), and \n",
        "\t\t\t\t\t\treturns and int between 0 and n-1\n",
        "    methods:\n",
        "        sample_bandits(n): sample and train on n pulls.\n",
        "    attributes:\n",
        "        N: the cumulative number of samples\n",
        "        choices: the historical choices as a (N,) array\n",
        "        bb_score: the historical score as a (N,) array\n",
        "\n",
        "    \"\"\"\n",
        "    def __init__(self, bandits, choice_function):\n",
        "        self.bandits = bandits\n",
        "        num_bandits = 1  # TODO What is this: len(self.bandits)\n",
        "        self.wins = zeros((num_bandits,))\n",
        "        self.trials = zeros((num_bandits,))\n",
        "        self.N = 0\n",
        "        self.choices = []\n",
        "        self.score = []\n",
        "        self.choice_function = choice_function\n",
        "\n",
        "    def sample_bandits(self, n = 1):\n",
        "        score = zeros(n)\n",
        "        choices = zeros(n)\n",
        "        \n",
        "        for k in range(n):\n",
        "            # Sample from the bandits's priors, and select the largest sample\n",
        "            choice = self.choice_function(self)\n",
        "            \n",
        "            # Sample the chosen bandit\n",
        "            result = self.bandits.pull(choice).astype(i32)  # bool -> i32\n",
        "            \n",
        "            # Update priors and score\n",
        "            self.wins[choice] += result\n",
        "            self.trials[choice] += 1\n",
        "            score[k] = result \n",
        "            self.N += 1\n",
        "            choices[k] = choice\n",
        "            \n",
        "        self.score = r_[self.score, score]\n",
        "        self.choices = r_[self.choices, choices]\n",
        "        return \n",
        "        \n",
        "\t\n",
        "def bayesian_bandit_choice(self):\n",
        "\treturn argmax(random.beta(1 + self.wins, 1 + self.trials - self.wins))\n",
        "    \n",
        "def max_mean(self):\n",
        "    \"\"\"pick the bandit with the current best observed proportion of winning \"\"\"\n",
        "    return argmax(self.wins / (self.trials + 1))\n",
        "\n",
        "def lower_credible_choice(self):\n",
        "    \"\"\"pick the bandit with the best LOWER BOUND. See chapter 5\"\"\"\n",
        "    def lb(a, b):\n",
        "        return a / (a + b) - 1.65 * sqrt((a * b) / ((a + b) ** 2 * (a + b + 1)))\n",
        "\n",
        "    a = self.wins + 1\n",
        "    b = self.trials - self.wins + 1\n",
        "    return argmax(lb(a, b))\n",
        "    \n",
        "def upper_credible_choice(self):\n",
        "    \"\"\"pick the bandit with the best LOWER BOUND. See chapter 5\"\"\"\n",
        "    def lb(a, b):\n",
        "        return a / (a + b) + 1.65 * sqrt((a * b) / ((a + b) ** 2 * (a + b + 1)))\n",
        "\n",
        "    a = self.wins + 1\n",
        "    b = self.trials - self.wins + 1\n",
        "    return argmax(lb(a, b))\n",
        "    \n",
        "def random_choice(self):\n",
        "    return random.randint(0, len(self.wins))\n",
        "    \n",
        "def ucb_bayes(self):\n",
        "\tC = 0\n",
        "\tn = 10000\n",
        "\talpha = 1 - 1. / ((self.N + 1))\n",
        "\treturn argmax(stats.beta.ppf(\n",
        "          alpha, 1 + self.wins, 1 + self.trials - self.wins))"
      ],
      "execution_count": null,
      "outputs": []
    },
    {
      "cell_type": "code",
      "metadata": {
        "id": "FNK3FQH8h3zk"
      },
      "source": [
        "# Create new strategies\n",
        "strategies = [bayesian_bandit_choice,\n",
        "              max_mean,\n",
        "              upper_credible_choice,\n",
        "              random_choice,\n",
        "              ucb_bayes]\n",
        "\n",
        "# Define a harder problem\n",
        "hidden_prob = array([.15, .2, .1, .05])\n",
        "bandits = Bandits(hidden_prob)\n",
        "\n",
        "def regret(probabilities, choices):\n",
        "    w_opt = max(probabilities)\n",
        "    return cumsum(w_opt - probabilities[choices.astype(i32)])\n",
        "\n",
        "plt.figure(figsize(12.5, 5))\n",
        "for i, strategy in enumerate(strategies):\n",
        "    strategy_ = GeneralBanditStrategy(bandits, strategy)\n",
        "    strategy_.sample_bandits(10000)  # Train 10000 times\n",
        "    regret_ = regret(hidden_prob, strategy_.choices)\n",
        "    label = strategy.__name__.replace('_', ' ').capitalize()\n",
        "    plt.plot(regret_, label = label, lw = 3)\n",
        "    \n",
        "plt.title(\"Total Regret of Bayesian Bandits Strategy vs. Random guessing\")\n",
        "plt.xlabel(\"Number of pulls\")\n",
        "plt.ylabel(\"Regret after $n$ pulls\");\n",
        "plt.legend(loc = 'upper left');"
      ],
      "execution_count": null,
      "outputs": []
    },
    {
      "cell_type": "markdown",
      "metadata": {
        "id": "NJB_1onah3zo"
      },
      "source": [
        "Like we wanted, Bayesian bandits and other strategies have decreasing rates of regret, representing we are achieving optimal choices. To be more scientific so as to remove any possible luck in the above simulation, we should instead look at the *expected total regret*:\n",
        "\n",
        "$$\\bar{R}_T = E[ R_T ] $$\n",
        "\n",
        "It can be shown that any *sub-optimal* strategy's expected total regret is bounded below logarithmically. Formally,\n",
        "\n",
        "$$ E[R_T] = \\Omega \\left( \\log(T) \\right) $$\n",
        "\n",
        "Thus, any strategy that matches logarithmic-growing regret is said to \"solve\" the Multi-Armed Bandit problem [3].\n",
        "\n",
        "Using the Law of Large Numbers, we can approximate Bayesian Bandit's expected total regret by performing the same experiment many times (500 times, to be fair):"
      ]
    },
    {
      "cell_type": "code",
      "metadata": {
        "id": "HyJfLEEbh3zo"
      },
      "source": [
        "# This can be slow so it's not recommended running it.\n",
        "# Estimated time for Graph Mode: 16 minutes.\n",
        "\n",
        "trials = 500\n",
        "expected_total_regret = zeros((10000, 3))\n",
        "\n",
        "for i, strategy in enumerate(strategies[:-2]):\n",
        "    for _ in range(trials):\n",
        "        general_strat = GeneralBanditStrategy(bandits, strategy)\n",
        "        general_strat.sample_bandits(10000)\n",
        "        _regret = regret(hidden_prob, general_strat.choices)\n",
        "        expected_total_regret[:, i] += _regret\n",
        "    label = strategy.__name__.replace('_', ' ').capitalize()\n",
        "    plt.plot(expected_total_regret[:, i] / trials, lw = 3, label = label)\n",
        "        \n",
        "plt.title(\"Expected total regret of multi-armed Bandit strategies\")\n",
        "plt.xlabel('Number of pulls')\n",
        "plt.ylabel('Exepected total regret \\n after $n$ pulls')\n",
        "plt.legend(loc = 'upper left')"
      ],
      "execution_count": null,
      "outputs": []
    },
    {
      "cell_type": "code",
      "metadata": {
        "id": "WCyPsXM-h3zr"
      },
      "source": [
        "# This cell is dependent on the previous one\n",
        "# If you didn't run the previous one, you don't have to run this one\n",
        "plt.figure()\n",
        "pl1, pl2, pl3 = plt.plot(expected_total_regret[:, [0, 1, 2]], lw = 3)\n",
        "\n",
        "plt.xscale('log')\n",
        "plt.legend([pl1, pl2, pl3], \n",
        "           [\"Upper Credible Bound\", \"Bayesian Bandit\", \"UCB-Bayes\"],\n",
        "            loc = 'upper left')\n",
        "plt.ylabel(r\"Exepected total regret after $\\log{n}$ pulls\")\n",
        "plt.title(r\"Log-scale of above\")\n",
        "plt.ylabel(r\"Exepected total regret after $\\log{n}$ pulls\")"
      ],
      "execution_count": null,
      "outputs": []
    },
    {
      "cell_type": "markdown",
      "metadata": {
        "id": "IbZ7ODFfh3zt"
      },
      "source": [
        "### Extending the algorithm \n",
        "\n",
        "\n",
        "Because of the Bayesian Bandits algorithm's simplicity, it is easy to extend. Some possibilities:\n",
        "\n",
        "- If interested in the *minimum* probability (eg: where prizes are a bad thing), simply choose $B = \\text{argmin} \\; X_b$ and proceed.\n",
        "\n",
        "- Adding learning rates: Suppose the underlying environment may change over time. Technically the standard Bayesian Bandit algorithm would self-update itself (awesome) by noting that what it thought was the best is starting to fail more often. We can motivate the algorithm to learn changing environments quicker by simply adding a *rate* term upon updating:\n",
        "\n",
        "        self.wins[choice] = rate * self.wins[choice] + result\n",
        "        self.trials[choice] = rate * self.trials[choice] + 1\n",
        "\n",
        "   If `rate < 1`, the algorithm will *forget* its previous wins quicker and there will be a downward  pressure towards ignorance. Conversely, setting `rate > 1` implies your algorithm will act more risky, and bet on earlier winners more often and be more resistant to changing environments. \n",
        "\n",
        "- Hierarchical algorithms: We can setup a Bayesian Bandit algorithm on top of smaller bandit algorithms. Suppose we have $N$ Bayesian Bandit models, each varying in some behavior (for example  different `rate` parameters, representing varying sensitivity to changing environments). On top of these $N$ models is another Bayesian Bandit learner that will select a sub-Bayesian Bandit. This chosen Bayesian Bandit will then make an internal choice as to which machine to pull. The super-Bayesian Bandit updates itself depending on whether the sub-Bayesian Bandit was correct or not. \n",
        "\n",
        "- Extending the rewards, denoted $y_a$ for bandit $a$, to random variables from a distribution $f_{y_a}(y)$ is straightforward. More generally, this problem can be rephrased as \"Find the bandit with the largest expected value\", as playing the bandit with the largest expected value is optimal. In the case above, $f_{y_a}$ was Bernoulli with probability $p_a$, hence the expected value for a bandit is equal to $p_a$, which is why it looks like we are aiming to maximise the probability of winning. If $f$ is not Bernoulli, and it is non-negative, which can be accomplished apriori by shifting the distribution (we assume we know $f$), then the algorithm behaves as before:\n",
        "\n",
        "   For each round, \n",
        "    \n",
        "   1. Sample a random variable $X_b$ from the prior of bandit $b$, for all $b$.\n",
        "   2. Select the bandit with largest sample, i.e. select bandit $B = \\text{argmax}\\;\\; X_b$.\n",
        "   3. Observe the result,$R \\sim f_{y_a}$, of pulling bandit $B$, and update your prior on bandit $B$.\n",
        "   4. Return to 1\n",
        "\n",
        "   The issue is in the sampling of $X_b$ drawing phase. With Beta priors and Bernoulli observations, we have a Beta posterior &mdash; this is easy to sample from. But now, with arbitrary distributions $f$, we have a non-trivial posterior. Sampling from these can be difficult.\n",
        "\n",
        "- There has been some interest in extending the Bayesian Bandit algorithm to commenting systems. Recall in Chapter 4, we developed a ranking algorithm based on the Bayesian lower-bound of the proportion of upvotes to total votes. One problem with this approach is that it will bias the top rankings towards older comments, since older comments naturally have more votes (and hence the lower-bound is tighter to the true proportion). This creates a positive feedback cycle where older comments gain more votes, hence are displayed more often, hence gain more votes, etc. This pushes any new, potentially better comments, towards the bottom. J. Neufeld proposes a system to remedy this that uses a Bayesian Bandit solution.\n",
        "\n",
        "His proposal is to consider each comment as a Bandit, with the number of pulls equal to the number of votes cast, and number of rewards as the number of upvotes, hence creating a $\\text{Beta}(1+U,1+D)$ posterior. As visitors visit the page, samples are drawn from each bandit/comment, but instead of displaying the comment with the $\\max$ sample, the comments are ranked according to the ranking of their respective samples. From J. Neufeld's blog [6]:\n",
        "\n",
        "   > [The] resulting ranking algorithm is quite straightforward, each new time the comments page is loaded, the score for each comment is sampled from a $\\text{Beta}(1+U,1+D)$, comments are then ranked by this score in descending order... This randomisation has a unique benefit in that even untouched comments $(U = 1,D = 0)$ have some chance of being seen even in threads with 5000+ comments (something that is not happening now), but, at the same time, the user is not likely to be inundated with rating these new comments. "
      ]
    },
    {
      "cell_type": "markdown",
      "metadata": {
        "id": "dz-kHC8qh3zt"
      },
      "source": [
        "Just for fun, though the colours explode, we watch the Bayesian Bandit algorithm learn 15 different options. "
      ]
    },
    {
      "cell_type": "code",
      "metadata": {
        "id": "MU7I5gGiFc6m"
      },
      "source": [
        "# # To avoid any conflicts with our 'other_strats.py' contents, we re-define our\n",
        "# TODO Bandits and BayesianStrategy can be conflicted to what is defined in 'other_strats.py'."
      ],
      "execution_count": null,
      "outputs": []
    },
    {
      "cell_type": "code",
      "metadata": {
        "id": "1Ftd1BZCh3zt"
      },
      "source": [
        "plt.figure(figsize(12.0, 8))\n",
        "\n",
        "hidden_prob = Beta(1., 13.).sample(sample_shape = (35,))\n",
        "print(hidden_prob)\n",
        "bandits = Bandits(hidden_prob)\n",
        "bayesian_strategy = BayesianStrategy(bandits)\n",
        "\n",
        "draw_samples = array([100, 200, 500, 1300])\n",
        "\n",
        "for j, i in enumerate(draw_samples):\n",
        "    plt.subplot(2, 2, j + 1) \n",
        "    wins, trials = bayesian_strategy.sample_bandits(i)\n",
        "    N_pulls = int(cumsum(draw_samples)[j])\n",
        "    plot_priors(hidden_prob, wins = wins, trials = trials,\n",
        "                lw = 2, alpha = 0.0, plt_vlines = False)\n",
        "    plt.xlim(0, 0.5)"
      ],
      "execution_count": null,
      "outputs": []
    },
    {
      "cell_type": "markdown",
      "metadata": {
        "id": "l1klOI7hDcOy"
      },
      "source": [
        "## Eliciting expert prior\n",
        "\n",
        "Specifying a subjective prior is how practitioners incorporate domain knowledge about the problem into our mathematical framework. Allowing domain knowledge is useful for many reasons:\n",
        "\n",
        "- Aids speeds of MCMC convergence. For example, if we know the unknown parameter is strictly positive, then we can restrict our attention there, hence saving time that would otherwise be spent exploring negative values.\n",
        "- More accurate inference. By weighing prior values near the true unknown value higher, we are narrowing our eventual inference (by making the posterior tighter around the unknown) \n",
        "- Express our uncertainty better. See the *Price is Right* problem in Chapter 5.\n",
        "\n",
        "plus many other reasons. Of course, practitioners of Bayesian methods are not experts in every field, so we must turn to domain experts to craft our priors. We must be careful with how we elicit these priors though. Some things to consider:\n",
        "\n",
        "1. From experience, I would avoid introducing Betas, Gammas, etc. to non-Bayesian practitioners. Furthermore, non-statisticians can get tripped up by how a continuous probability function can have a value exceeding one.\n",
        "\n",
        "2. Individuals often neglect the rare *tail-events* and put too much weight around the mean of distribution. \n",
        "\n",
        "3. Related to above is that almost always individuals will under-emphasize the uncertainty in their guesses.\n",
        "\n",
        "Eliciting priors from non-technical experts is especially difficult. Rather than introduce the notion of probability distributions, priors, etc. that may scare an expert, there is a much simpler solution. "
      ]
    },
    {
      "cell_type": "markdown",
      "metadata": {
        "id": "TW3MuT7ph3zw"
      },
      "source": [
        "\n",
        "\n",
        "### Trial roulette method \n",
        "\n",
        "\n",
        "The *trial roulette method* [7] focuses on building a prior distribution by placing counters (think casino chips) on what the expert thinks are possible outcomes. The expert is given $N$ counters (say $N = 20$) and is asked to place them on a pre-printed grid, with bins representing intervals.  Each column would represent their belief of the probability of getting the corresponding bin result. Each chip would represent an $\\frac{1}{N} = 0.05$ increase in the probability of the outcome being in that interval. For example [8]:\n",
        "\n",
        "> A student is asked to predict the mark in a future exam. The figure below shows a completed grid for the elicitation of a subjective probability distribution. The horizontal axis of the grid shows the possible bins (or mark intervals) that the student was asked to consider. The numbers in top row record the number of chips per bin. The completed grid (using a total of 20 chips) shows that the student believes there is a 30% chance that the mark will be between 60 and 64.9.\n",
        "\n",
        "\n",
        "From this, we can fit a distribution that captures the expert's choice. Some reasons in favour of using this technique are:\n",
        "\n",
        "1. Many questions about the shape of the expert's subjective probability distribution can be answered without the need to pose a long series of questions to the expert - the statistician can simply read off density above or below any given point, or that between any two points.\n",
        "\n",
        "2. During the elicitation process, the experts can move around the chips if unsatisfied with the way they placed them initially - thus they can be sure of the final result to be submitted.\n",
        "\n",
        "3. It forces the expert to be coherent in the set of probabilities that are provided. If all the chips are used, the probabilities must sum to one.\n",
        "\n",
        "4. Graphical methods seem to provide more accurate results, especially for participants with modest levels of statistical sophistication."
      ]
    },
    {
      "cell_type": "markdown",
      "metadata": {
        "id": "9amNroash3zw"
      },
      "source": [
        "### Example: Stock Returns\n",
        "\n",
        "\n",
        "Take note stock brokers: you're doing it wrong. When choosing which stocks to pick, an analyst will often look at the *daily return* of the stock. Suppose $S_t$ is the price of the stock on day $t$, then the daily return on day $t$ is :\n",
        "\n",
        "$$r_t = \\frac{ S_t - S_{t-1} }{ S_{t-1} } $$\n",
        "\n",
        "The *expected daily return* of a stock is denoted $\\mu = E[ r_t ]$. Obviously, stocks with high expected returns are desirable. Unfortunately, stock returns are so filled with noise that it is very hard to estimate this parameter. Furthermore, the parameter might change over time (consider the rises and falls of AAPL stock), hence it is unwise to use a large historical dataset. \n",
        "\n",
        "Historically, the expected return has been estimated by using the sample mean. This is a bad idea. As mentioned, the sample mean of a small sized dataset has enormous potential to be very wrong (again, see Chapter 4 for full details). Thus Bayesian inference is the correct procedure here, since we are able to see our uncertainty along with probable values.\n",
        "\n",
        "For this exercise, we will be examining the daily returns of the AAPL, GOOG, MSFT and AMZN. Before we pull in the data, suppose we ask our a stock fund manager (an expert in finance, but see [9] ), \n",
        "\n",
        "> What do you think the return profile looks like for each of these companies?\n",
        "\n",
        "Our stock broker, without needing to know the language of Normal distributions, or priors, or variances, etc. creates four distributions using the trial roulette method above. Suppose they look enough like Normals, so we fit Normals to them. They may look like: "
      ]
    },
    {
      "cell_type": "code",
      "metadata": {
        "id": "e2Ao0_kHFxgc"
      },
      "source": [
        "plt.figure(figsize(11., 7))\n",
        "colors = [TFColor[3], TFColor[0], TFColor[6], TFColor[2]]\n",
        "\n",
        "expert_prior_params = {'GOOG': (-.03, .04), \n",
        "                       'AAPL': (.05, .03), \n",
        "                       'AMZN': (.03, .02), \n",
        "                       'TSLA': (-.02, .01),}\n",
        "\n",
        "for i, (name, params) in enumerate(expert_prior_params.items()):\n",
        "    x = linspace(-.15, .15, 100)\n",
        "    plt.subplot(2, 2, i + 1)\n",
        "    y = Normal(loc = params[0], scale = params[1]).prob(x)\n",
        "    plt.fill_between(\n",
        "        x, 0, y,\n",
        "        color = colors[i],\n",
        "        linewidth = 2,\n",
        "        edgecolor = colors[i],\n",
        "        alpha = .6)\n",
        "    plt.title(f'{name} prior')\n",
        "    plt.vlines(\n",
        "        0, 0, max(y),\n",
        "        'k',\n",
        "        '--',\n",
        "        linewidth = .5)\n",
        "    plt.xlim(-.15, .15)\n",
        "plt.tight_layout()"
      ],
      "execution_count": null,
      "outputs": []
    },
    {
      "cell_type": "markdown",
      "metadata": {
        "id": "dEAv79VVh3zz"
      },
      "source": [
        "Note that these are subjective priors: the expert has a personal opinion on the stock returns of each of these companies, and is expressing them in a distribution. He's not wishful thinking -- he's introducing domain knowledge.\n",
        "\n",
        "In order to better model these returns, we should investigate the *covariance matrix* of the returns. For example, it would be unwise to invest in two stocks that are highly correlated, since they are likely to tank together (hence why fund managers suggest a diversification strategy). We will use the *Wishart distribution* for this, introduced earlier."
      ]
    },
    {
      "cell_type": "markdown",
      "metadata": {
        "id": "lQmwe9Agh3z0"
      },
      "source": [
        "Let's get some historical data for these stocks. We will use the covariance of the returns as a starting point for our Wishart random variable. This is not empirical bayes (as we will go over later) because we are only deciding the starting point, not influencing the parameters."
      ]
    },
    {
      "cell_type": "code",
      "metadata": {
        "id": "kQYQK919Hdbs"
      },
      "source": [
        "# @title External Stock Data\n",
        "import datetime\n",
        "import collections\n",
        "\n",
        "import pandas as pd\n",
        "import pandas_datareader.data as web\n",
        "\n",
        "n_observations = 100  # @param {type: \"slider\", min: 50, max: 200, step: 10}\n",
        "# @markdown We will truncate the the most recent 100 days by default.\n",
        "stock_1 = \"GOOG\"  # @param {type: \"string\"}\n",
        "stock_2 = \"AAPL\"  # @param {type: \"string\"}\n",
        "stock_3 = \"AMZN\"  # @param {type: \"string\"}\n",
        "stock_4 = \"TSLA\"  # @param {type: \"string\"}\n",
        "stocks = [stock_1, stock_2, stock_3, stock_4]\n",
        "\n",
        "start_date = \"2015-09-01\"  # @param {type: \"date\"}\n",
        "end_date = \"2018-04-27\"  # @param {type: \"date\"}\n",
        "\n",
        "CLOSE = 2\n",
        "\n",
        "stock_closes = pd.DataFrame()\n",
        "\n",
        "for stock in stocks:\n",
        "    stock_data = web.DataReader(stock, 'yahoo', start_date, end_date)\n",
        "    dates = stock_data.index.values\n",
        "    x = array(stock_data)\n",
        "    stock_series = pd.Series(x[1:, CLOSE].astype(float), name = stock)\n",
        "    stock_closes[stock] = stock_series\n",
        "    \n",
        "stock_closes = stock_closes[::-1]\n",
        "stock_returns = stock_closes.pct_change()[1:][-n_observations:]\n",
        "dates = dates[-n_observations:]\n",
        "stock_returns_obs = stock_returns.values.astype(dtype = float32)\n",
        "print (stock_returns[:10])"
      ],
      "execution_count": null,
      "outputs": []
    },
    {
      "cell_type": "markdown",
      "metadata": {
        "id": "8v4Jr5Psh3z6"
      },
      "source": [
        "And here let's form our basic model:"
      ]
    },
    {
      "cell_type": "code",
      "metadata": {
        "id": "rA2nnMW6Hx04"
      },
      "source": [
        "expert_prior_mu = array([x[0] for x in expert_prior_params.values()], dtype = f32)\n",
        "expert_prior_std = array([x[1] for x in expert_prior_params.values()], dtype = f32)\n",
        "\n",
        "true_mean = stock_returns.mean().astype(f32)\n",
        "print(\"Observed Mean Stock Returns: \\n\", true_mean, \"\\n\")\n",
        "true_covariance = stock_returns.cov().values.astype(f32)\n",
        "print(\"\\n Observed Stock Returns Covariance matrix: \\n\", true_covariance)"
      ],
      "execution_count": null,
      "outputs": []
    },
    {
      "cell_type": "markdown",
      "metadata": {
        "id": "ybjhB13Ch3z9"
      },
      "source": [
        "Here are the returns for our chosen stocks:"
      ]
    },
    {
      "cell_type": "code",
      "metadata": {
        "id": "wNEjA6F9GJoB"
      },
      "source": [
        "plt.figure(figsize(12.5, 4))\n",
        "\n",
        "cum_returns = cumprod(1 + stock_returns) - 1\n",
        "cum_returns.index = dates  # [::-1]\n",
        "cum_returns.plot()\n",
        "\n",
        "plt.legend(loc = 'upper left')\n",
        "plt.title(\"Return space\")\n",
        "plt.ylabel(\"Return of $1 on first date, x100%\");"
      ],
      "execution_count": null,
      "outputs": []
    },
    {
      "cell_type": "code",
      "metadata": {
        "id": "I0142HOhGZZC"
      },
      "source": [
        "plt.figure(figsize(11., 7))\n",
        "\n",
        "for i, stock in enumerate(stocks):\n",
        "    plt.subplot(2, 2, i + 1)\n",
        "    plt.hist(stock_returns[stock], bins = 20,\n",
        "             histtype = 'stepfilled',\n",
        "             color = colors[i], alpha = 0.7)\n",
        "    plt.title(stock + \" returns\")\n",
        "    plt.xlim(-0.15, 0.15)\n",
        "\n",
        "plt.tight_layout()\n",
        "plt.suptitle(\"Histogram of daily returns\", size = 14);"
      ],
      "execution_count": null,
      "outputs": []
    },
    {
      "cell_type": "markdown",
      "metadata": {
        "id": "XliwM2I0h30E"
      },
      "source": [
        "Below we perform the inference on the posterior mean return and posterior covariance matrix. "
      ]
    },
    {
      "cell_type": "code",
      "metadata": {
        "id": "Ox3yBj3DIAvX"
      },
      "source": [
        "def stock_joint_log_prob(observations, prior_mu, prior_scale_diag, loc, scale_tril):\n",
        "    \"\"\"MVN with priors: loc = Normal, covariance = Wishart.\n",
        "\n",
        "    Args:\n",
        "      observations: `[n, d]`-shaped `Tensor` representing Bayesian Gaussian\n",
        "        Mixture model draws. Each sample is a length-`d` vector.\n",
        "      prior_mu: Expert Prior Mu\n",
        "      prior_scale_diag: Expert Prior scale (diagonal)\n",
        "      loc: `[K, d]`-shaped `Tensor` representing the location parameter of the\n",
        "        `K` components.\n",
        "      scale_tril: `[K, d, d]`-shaped `Tensor` representing `K` lower\n",
        "        triangular `cholesky(Covariance)` matrices, each being sampled from\n",
        "        a Wishart distribution.\n",
        "\n",
        "    Returns:\n",
        "      log_prob: `Tensor` representing joint log-density over all inputs.\n",
        "    \"\"\"\n",
        "    rv_loc = MultivariateNormalDiag(loc = prior_mu,\n",
        "                                        scale_identity_multiplier = 1.)\n",
        "    rv_cov = WishartTriL(\n",
        "        df = 10,\n",
        "        # scale_tril = chol(diag(prior_scale_diag**2)) is equivalent to\n",
        "        scale_tril = tf.linalg.diag(prior_scale_diag),  \n",
        "        # For computational reasons, let's make all calcultions in Cholesky form.\n",
        "        input_output_cholesky = True)  \n",
        "    rv_observations = MultivariateNormalTriL(\n",
        "        loc = loc,\n",
        "        scale_tril = scale_tril)\n",
        "    return (\n",
        "          rv_loc.log_prob(loc)\n",
        "        + rv_cov.log_prob(scale_tril)\n",
        "        + sum(rv_observations.log_prob(observations), axis = -1))\n",
        "          "
      ],
      "execution_count": null,
      "outputs": []
    },
    {
      "cell_type": "code",
      "metadata": {
        "id": "bDmQXEN3h30E"
      },
      "source": [
        "num_results = 5000\n",
        "num_burnin_steps = 1000\n",
        "\n",
        "\n",
        "# Set the chain's start state\n",
        "initial_chain_state = [\n",
        "    expert_prior_mu,\n",
        "    tf.linalg.diag(expert_prior_std),\n",
        "]\n",
        "\n",
        "# Set the unconstraining bijectors.\n",
        "unconstraining_bijectors = [\n",
        "    tfb.Identity(),\n",
        "    # Maps between a positive-definite matrix and a numerically stabilised, \n",
        "    # lower-triangular form\n",
        "    tfb.ScaleTriL()]\n",
        "\n",
        "# Define a closure over our joint_log_prob.\n",
        "unnormalised_posterior_log_prob = lambda *args: stock_joint_log_prob(\n",
        "    stock_returns_obs, expert_prior_mu, expert_prior_std, *args)\n",
        "\n",
        "# Initialise the step_size (it will be automatically adapted.)\n",
        "step_size = tf.Variable(\n",
        "    initial_value = tf.constant(0.5, dtype = f32),\n",
        "    trainable = False,\n",
        "    name = 'stock_step_size')\n",
        "\n",
        "kernel = tfp.mcmc.TransformedTransitionKernel(\n",
        "    inner_kernel = tfp.mcmc.HamiltonianMonteCarlo(\n",
        "    target_log_prob_fn = unnormalised_posterior_log_prob,\n",
        "    num_leapfrog_steps = 2,\n",
        "    step_size = step_size,\n",
        "    state_gradients_are_stopped = True),\n",
        "    # Since HMC operates over unconstrained space, we need to transform\n",
        "    # the samples so they live in real-space.\n",
        "    bijector = unconstraining_bijectors)\n",
        "\n",
        "kernel = tfp.mcmc.SimpleStepSizeAdaptation(\n",
        "    inner_kernel = kernel,\n",
        "    num_adaptation_steps = int(num_burnin_steps * .8))\n",
        "\n",
        "\n",
        "# Sample from the chain.\n",
        "(stock_return_samples, chol_covariance_samples), kernel_results = tfp.mcmc.sample_chain(\n",
        "      num_results = num_results,\n",
        "      num_burnin_steps = num_burnin_steps,\n",
        "      current_state = initial_chain_state,\n",
        "      kernel = kernel)\n",
        "\n",
        "mean_chol_covariance = mean(chol_covariance_samples, axis = 0)\n",
        "\n",
        "print(\"Acceptance rate:\", mean(kernel_results.inner_results.inner_results.is_accepted))\n",
        "print(\"Final step size:\", kernel_results.new_step_size[-100:].mean())"
      ],
      "execution_count": null,
      "outputs": []
    },
    {
      "cell_type": "code",
      "metadata": {
        "id": "LYDbCkha2pAw"
      },
      "source": [
        "plt.figure(figsize(12.5, 4))\n",
        "\n",
        "# Examine the mean return first.\n",
        "# mean_return_samples_ is a 4-column data frame collected for each stock\n",
        "mu_samples = stock_return_samples\n",
        "\n",
        "for i in range(4):\n",
        "    plt.hist(\n",
        "        mu_samples[:, i],\n",
        "        alpha    = .8 - .05 * i,\n",
        "        bins     = 30,\n",
        "        histtype = 'stepfilled',\n",
        "        color    = colors[i],\n",
        "        normed   = True, \n",
        "        label    = str(stock_returns.columns[i]))\n",
        "\n",
        "plt.vlines(\n",
        "    mu_samples.mean(axis = 0), 0, 500,\n",
        "    linestyle = '--',\n",
        "    linewidth = .5)\n",
        "\n",
        "plt.title(r\"Posterior distribution of $\\mu$, daily stock returns\")\n",
        "plt.xlim(-.010, .010)\n",
        "plt.legend();"
      ],
      "execution_count": null,
      "outputs": []
    },
    {
      "cell_type": "markdown",
      "metadata": {
        "id": "2HfSPPBKh30I"
      },
      "source": [
        "(Plots like these are what inspired the book's cover.)\n",
        "\n",
        "What can we say about the results above? Clearly TSLA has been a strong performer because the distribution is mostly above zero. Similarly, most of the distribution of AMZN is negative, suggesting that its *true daily return* is negative.\n",
        "\n",
        "You may not have immediately noticed, but these variables are a whole order of magnitude *less* than our priors on them. For example, to put these on the same scale as the above prior distributions:"
      ]
    },
    {
      "cell_type": "code",
      "metadata": {
        "id": "ivxBl93vh30I"
      },
      "source": [
        "plt.figure(figsize(11.0, 7))\n",
        "\n",
        "for i in range(4):\n",
        "    plt.subplot(2, 2, i + 1)\n",
        "    plt.hist(\n",
        "        mu_samples_[:, i],\n",
        "        alpha    = 0.8 - 0.05 * i,\n",
        "        bins     = 30,\n",
        "        histtype = 'stepfilled',\n",
        "        normed   = True,\n",
        "        color    = olors[i],\n",
        "        label    = str(stock_returns.columns[i]))\n",
        "    plt.title(str(stock_returns.columns[i]))\n",
        "    plt.xlim(-.15, .15)\n",
        "    \n",
        "plt.suptitle(\"Posterior distribution of daily stock returns\")\n",
        "plt.tight_layout()"
      ],
      "execution_count": null,
      "outputs": []
    },
    {
      "cell_type": "markdown",
      "metadata": {
        "id": "HwOhEcsfh30J"
      },
      "source": [
        "Why did this occur? Recall how I mentioned that finance has a very very low signal to noise ratio. This implies an environment where inference is much more difficult. One should be careful about over-interpreting these results: notice (in the first figure) that each distribution is positive at 0, implying that the stock may return nothing. Furthermore, the subjective priors influenced the results. From the fund managers point of view, this is good as it reflects his updated beliefs about the stocks, whereas from a neutral viewpoint this can be too subjective of a result.  \n",
        "\n",
        "Below we show the posterior correlation matrix, and posterior standard deviations. An important caveat to know is that the Wishart distribution models the *covariance matrix* (although it can also be used to model the inverse covariance matrix). We also normalise the matrix to acquire the *correlation matrix*. Since we cannot plot hundreds of matrices effectively, we settle by summarising the posterior distribution of correlation matrices by showing the *mean posterior correlation matrix* (defined on line 2)."
      ]
    },
    {
      "cell_type": "code",
      "metadata": {
        "id": "eRN-k-VuVN5n"
      },
      "source": [
        "mean_covariance_matrix = matmul(mean_chol_covariance, mean_chol_covariance, adjoint_b = True)\n",
        "\n",
        "def cov2corr(A):\n",
        "    \"\"\"\n",
        "      A: covariance matrix input\n",
        "    Returns:\n",
        "      A: correlation matrix output\n",
        "    \"\"\"\n",
        "    d = sqrt(tf.matrix_diag_part(A))\n",
        "    A = transpose(transpose(A) / d) / d\n",
        "    return A\n",
        "\n",
        "\n",
        "plt.subplot(1, 2, 1)\n",
        "plt.imshow(cov2corr(mean_covariance_matrix),\n",
        "    interpolation = 'none', \n",
        "    cmap = 'hot') \n",
        "plt.xticks(arange(4.), stock_returns.columns)\n",
        "plt.yticks(arange(4.), stock_returns.columns)\n",
        "plt.colorbar(orientation = 'vertical')\n",
        "plt.title(\"(Mean posterior) correlation matrix\")\n",
        "\n",
        "plt.subplot(1, 2, 2)\n",
        "plt.bar(\n",
        "    arange(4.),\n",
        "    sqrt(tf.matrix_diag_part(mean_covariance_matrix)),\n",
        "    color = '#5DA5DA',\n",
        "    alpha = .7)\n",
        "plt.xticks(arange(4.), stock_returns.columns);\n",
        "plt.title(\"(mean posterior) standard deviations of daily stock returns\")\n",
        "\n",
        "plt.tight_layout();"
      ],
      "execution_count": null,
      "outputs": []
    },
    {
      "cell_type": "markdown",
      "metadata": {
        "id": "pU9pYDdyh30M"
      },
      "source": [
        "Looking at the above figures, we can say that likely TSLA has an above-average volatility (looking at the return graph this is quite clear). The correlation matrix shows that there are not strong correlations present, except perhaps GOOG and AMZN expressing a much higher correlation of about 0.80; if you look back a few cells at the original plot of the returns over time, you'll see how closely they follow each other.\n",
        "\n",
        "With this Bayesian analysis of the stock market, we can throw it into a Mean-Variance optimiser (which I cannot stress enough, do not use with frequentist point estimates) and find the minimum. This optimiser balances the tradeoff between a high return and high variance.\n",
        "\n",
        "$$ w_\\text{opt} = \\max_{w} \\frac{1}{N}\\left( \\sum_{i = 0}^N \\mu_i^T w - \\frac{\\lambda}{2}w^T\\Sigma_i w \\right)$$\n",
        "\n",
        "where $\\mu_i$ and $\\Sigma_i$ are the $i$th posterior estimate of the mean returns and the covariance matrix. This is another example of loss function optimisation."
      ]
    },
    {
      "cell_type": "markdown",
      "metadata": {
        "id": "NVFx5oT5h30M"
      },
      "source": [
        "### Protips for the Wishart distribution\n",
        "\n",
        "If you plan to be using the Wishart distribution, read on. Else, feel free to skip this. \n",
        "\n",
        "In the problem above, the Wishart distribution behaves pretty nicely. Unfortunately, this is rarely the case. The problem is that estimating an $NxN$ covariance matrix involves estimating $\\frac{1}{2}N(N-1)$ unknowns. This is a large number even for modest $N$. Personally, I've tried performing a similar simulation as above with $N = 23$ stocks, and ended up giving up considering that I was requesting my MCMC simulation to estimate at least $\\frac{1}{2}23*22 = 253$ additional unknowns (plus the other interesting unknowns in the problem). This is not easy for MCMC. Essentially, you are asking you MCMC to traverse 250+ dimensional space. And the problem seemed so innocent initially! Below are some tips, in order of supremacy:\n",
        "\n",
        "1. Use conjugancy if it applies. See section below.\n",
        "\n",
        "2. Use a good starting value. What might be a good starting value? Why, the data's sample covariance matrix is! Note that this is not empirical Bayes: we are not touching the prior's parameters, we are modifying the starting value of the MCMC. Due to numerical instability, it is best to truncate the floats in the sample covariance matrix down a few degrees of precision (e.g. while TFP holds up to instability and unsymmetrical matrices much better than higher-level tools like PyMC, it's stilll better to try and avoid them for the sake of model accuracy). \n",
        "\n",
        "3. Provide as much domain knowledge in the form of priors, if possible. I stress *if possible*. It is likely impossible to have an estimate about each $\\frac{1}{2}N(N-1)$ unknown. In this case, see number 4.\n",
        "\n",
        "4. Use empirical Bayes, i.e. use the sample covariance matrix as the prior's parameter.\n",
        "\n",
        "5. For problems where $N$ is very large, nothing is going to help. Instead, ask, do I really care about *every* correlation? Probably not. Further ask yourself, do I really really care about correlations? Possibly not. In finance, we can set an informal hierarchy of what we might be interested in the most: first a good estimate of $\\mu$, the variances along the diagonal of the covariance matrix are secondly important, and finally the correlations are least important. So, it might be better to ignore the $\\frac{1}{2}(N-1)(N-2)$ correlations and instead focus on the more important unknowns.\n",
        "\n",
        "**Another thing** to note is that Wishart distribution matrices are required to have certain mathematical characteristics that are very restrictive. This makes it so that it is impossible for MCMC methods to propose matrices that will be accepted in our sampling procedure. With our model here we sample the Bartlett decomposition of a Wishart distribution matrix and use that to calculate our samples for the covariance matrix (http://en.wikipedia.org/wiki/Wishart_distribution#Bartlett_decomposition)."
      ]
    },
    {
      "cell_type": "markdown",
      "metadata": {
        "id": "iRX-m7quh30M"
      },
      "source": [
        "## Conjugate Priors\n",
        "\n",
        "Recall that a $\\text{Beta}$ prior with $\\text{Binomial}$ data implies a $\\text{Beta}$ posterior. Graphically:\n",
        "\n",
        "$$ \\underbrace{\\text{Beta}}_{\\text{prior}} \\cdot \\overbrace{\\text{Binomial}}^{\\text{data}} = \\overbrace{\\text{Beta}}^{\\text{posterior} } $$ \n",
        "\n",
        "Notice the $\\text{Beta}$ on both sides of this equation (no, you cannot cancel them, this is not a *real* equation). This is a really useful property. It allows us to avoid using MCMC, since the posterior is known in closed form. Hence inference and analytics are easy to derive. This shortcut was the heart of the  Bayesian Bandit algorithm above. Fortunately, there is an entire family of distributions that have similar behaviour.  \n",
        "\n",
        "Suppose $X$ comes from, or is believed to come from, a well-known distribution, call it $f_{\\alpha}$, where $\\alpha$ are possibly unknown parameters of $f$. $f$ could be a Normal distribution, or Binomial distribution, etc. For particular distributions $f_{\\alpha}$, there may exist a prior distribution $p_{\\beta}$, such that:\n",
        "\n",
        "$$ \\overbrace{p_{\\beta}}^{\\text{prior}} \\cdot \\overbrace{f_{\\alpha}(X)}^{\\text{data}} = \\overbrace{p_{\\beta'}}^{\\text{posterior} } $$ \n",
        "\n",
        "where $\\beta'$ is a different set of parameters *but $p$ is the same distribution as the prior*. A prior $p$ that satisfies this relationship is called a *conjugate prior*. As I mentioned, they are useful computationally, as we can avoided approximate inference using MCMC and go directly to the posterior. This sounds great, right?\n",
        "\n",
        "Unfortunately, not quite. There are a few issues with conjugate priors.\n",
        "\n",
        "1. The conjugate prior is not objective. Hence only useful when a subjective prior is required. It is not guaranteed that the conjugate prior can accommodate the practitioner's subjective opinion.\n",
        "\n",
        "2. There typically exist conjugate priors for simple, one dimensional problems. For larger problems, involving more complicated structures, hope is lost to find a conjugate prior. For smaller models, Wikipedia has a nice [table of conjugate priors](http://en.wikipedia.org/wiki/Conjugate_prior#Table_of_conjugate_distributions).\n",
        "\n",
        "Really, conjugate priors are only useful for their mathematical convenience: it is simple to go from prior to posterior. I personally see conjugate priors as only a neat mathematical trick, and offer little insight into the problem at hand. "
      ]
    },
    {
      "cell_type": "markdown",
      "metadata": {
        "id": "boR5QieIh30N"
      },
      "source": [
        "## Jefferys Priors\n",
        "\n",
        "Earlier, we talked about objective priors rarely being *objective*. Partly what we mean by this is that we want a prior that doesn't bias our posterior estimates. The flat prior seems like a reasonable choice as it assigns equal probability to all values. \n",
        "\n",
        "But the flat prior is not transformation invariant. What does this mean? Suppose we have a random variable $\\textbf X$ from Bernoulli($\\theta$). We define the prior on $p(\\theta) = 1$. "
      ]
    },
    {
      "cell_type": "code",
      "metadata": {
        "id": "dAizKLxwh30N"
      },
      "source": [
        "plt.figure(figsize(12.5, 5))\n",
        "\n",
        "x = linspace(.000 ,1, 150)\n",
        "y = linspace(1., 1., 150)\n",
        "\n",
        "lines = plt.plot(x, y, color = TFColor[0], lw = 3)\n",
        "plt.fill_between(x, 0, y, alpha = .2, color = lines[0].get_color())\n",
        "plt.autoscale(tight = True)\n",
        "plt.ylim(0, 2);"
      ],
      "execution_count": null,
      "outputs": []
    },
    {
      "cell_type": "markdown",
      "metadata": {
        "id": "tfk_ynA6h30P"
      },
      "source": [
        "Now, let's transform $\\theta$ with the function $\\psi = \\log \\frac{\\theta}{1-\\theta}$. This is just a function to stretch $\\theta$ across the real line. Now how likely are different values of $\\psi$ under our transformation."
      ]
    },
    {
      "cell_type": "code",
      "metadata": {
        "id": "CsaJ4hkWh30P"
      },
      "source": [
        "plt.figure(figsize(12.5, 5))\n",
        "\n",
        "psi = linspace(-10., 10., 150)\n",
        "y = exp(psi) / (1 + exp(psi)) ** 2\n",
        "        \n",
        "lines = plt.plot(psi, y, color = TFColor[0], lw = 3)\n",
        "plt.fill_between(psi, 0, y, alpha = .2, color = lines[0].get_color())\n",
        "plt.autoscale(tight = True)\n",
        "plt.ylim(0, 1);"
      ],
      "execution_count": null,
      "outputs": []
    },
    {
      "cell_type": "markdown",
      "metadata": {
        "id": "LFRbEVl_h30Q"
      },
      "source": [
        "Oh no! Our function is no longer flat. It turns out flat priors do carry information in them after all. The point of Jeffreys Priors is to create priors that don't accidentally become informative when you transform the variables you placed them originally on.\n",
        "\n",
        "Jeffreys Priors are defined as:\n",
        "\n",
        "$$p_J(\\theta) \\propto \\mathbf{I}(\\theta)^\\frac{1}{2}$$\n",
        "$$\\mathbf{I}(\\theta) = - \\mathbb{E}\\bigg[\\frac{d^2 \\text{ log } p(X|\\theta)}{d\\theta^2}\\bigg]$$\n",
        "\n",
        "$\\mathbf{I}$ being the *Fisher information*"
      ]
    },
    {
      "cell_type": "markdown",
      "metadata": {
        "id": "vPAasBXPh30Q"
      },
      "source": [
        "## Effect of the prior as $N$ increases\n",
        "\n",
        "In the first chapter, I proposed that as the amount of our observations or data increases, the influence of the prior decreases. This is intuitive. After all, our prior is based on previous information, and eventually enough new information will shadow our previous information's value. The smothering of the prior by enough data is also helpful: if our prior is significantly wrong, then the self-correcting nature of the data will present to us a *less wrong*, and eventually *correct*, posterior. \n",
        "\n",
        "We can see this mathematically. First, recall Bayes Theorem from Chapter 1 that relates the prior to the posterior. The following is a sample from [What is the relationship between sample size and the influence of prior on posterior?](http://stats.stackexchange.com/questions/30387/what-is-the-relationship-between-sample-size-and-the-influence-of-prior-on-poste)[1] on CrossValidated.\n",
        "\n",
        ">The posterior distribution for a parameter $\\theta$, given a data set ${\\textbf X}$ can be written as \n",
        "\n",
        "$$p(\\theta | {\\textbf X}) \\propto \\underbrace{p({\\textbf X} | \\theta)}_{{\\textrm likelihood}}  \\cdot  \\overbrace{ p(\\theta) }^{ {\\textrm prior} }  $$\n",
        "\n",
        "\n",
        "\n",
        ">or, as is more commonly displayed on the log scale, \n",
        "\n",
        "$$ \\log( p(\\theta | {\\textbf X})  ) = c + L(\\theta;{\\textbf X}) + \\log(p(\\theta)) $$\n",
        "\n",
        ">The log-likelihood, $L(\\theta;{\\textbf X}) = \\log \\left( p({\\textbf X}|\\theta) \\right)$, **scales with the sample size**, since it is a function of the data, while the prior density does not. Therefore, as the sample size increases, the absolute value of $L(\\theta;{\\textbf X})$ is getting larger while $\\log(p(\\theta))$ stays fixed (for a fixed value of $\\theta$), thus the sum $L(\\theta;{\\textbf X}) + \\log(p(\\theta))$ becomes more heavily influenced by $L(\\theta;{\\textbf X})$ as the sample size increases. \n",
        "\n",
        "There is an interesting consequence not immediately apparent. As the sample size increases, the chosen prior has less influence. Hence inference converges regardless of chosen prior, so long as the areas of non-zero probabilities are the same. \n",
        "\n",
        "Below we visualise this. We examine the convergence of two posteriors of a Binomial's parameter $\\theta$, one with a flat prior and the other with a biased prior towards 0. As the sample size increases, the posteriors, and hence the inference, converge."
      ]
    },
    {
      "cell_type": "code",
      "metadata": {
        "id": "6Q4-vPI_h30R"
      },
      "source": [
        "p = .6\n",
        "beta1_params = array([1., 1.])\n",
        "beta2_params = array([2, 10])\n",
        "\n",
        "\n",
        "data = Bernoulli(probs = p).sample(sample_shape = (500,))\n",
        "\n",
        "plt.figure(figsize(12.5, 15))\n",
        "plt.figure()\n",
        "for i, N in enumerate([0, 4, 8, 32, 64, 128, 500]):\n",
        "    s = data[:N].sum() \n",
        "    plt.subplot(8, 1, i + 1)\n",
        "    params1 = beta1_params + array([s, N - s])\n",
        "    params2 = beta2_params + array([s, N - s])\n",
        "    x = linspace(.00, 1., 125)\n",
        "    y1 = Beta(\n",
        "        concentration1 = params1[0].astype(f32), \n",
        "        concentration0 = params1[0].astype(f32)).prob(x.astype(f32))\n",
        "    y2 = Beta(\n",
        "        concentration1 = params2[0].astype(f32), \n",
        "        concentration0 = params2[0].astype(f32)).prob(x.astype(f32))\n",
        "    plt.plot(x, y1, label = 'Flat prior', lw = 3)\n",
        "    plt.plot(x, y2, label = 'Biased prior', lw = 3)\n",
        "    plt.fill_between(x, 0, y1, color = '#5DA5DA', alpha = .15) \n",
        "    plt.fill_between(x, 0, y2, color = '#F15854', alpha = .15) \n",
        "    plt.legend(title = f'N = {N}')\n",
        "    plt.vlines(p, .0, 7.5, linestyles = '--', linewidth = 1)\n",
        "    plt.ylim(0, 20)"
      ],
      "execution_count": null,
      "outputs": []
    },
    {
      "cell_type": "markdown",
      "metadata": {
        "id": "8K7Ps7Myh30S"
      },
      "source": [
        "Keep in mind, not all posteriors will \"forget\" the prior this quickly. This example was just to show that *eventually* the prior is forgotten. The \"forgetfulness\" of the prior as we become awash in more and more data is the reason why Bayesian and Frequentist inference eventually converge as well."
      ]
    },
    {
      "cell_type": "markdown",
      "metadata": {
        "id": "XUkMJLSUh30T"
      },
      "source": [
        "### Bayesian perspective of Penalised Linear Regressions\n",
        "\n",
        "There is a very interesting relationship between a penalised least-squares regression and Bayesian priors. A penalised linear regression is an optimisation problem of the form:\n",
        "\n",
        "$$ \\text{argmin}_{\\beta} \\;\\; (Y - X\\beta)^T(Y - X\\beta)  + f(\\beta)$$\n",
        "\n",
        "for some function $f$ (typically a norm like $|| \\cdot ||_p^p$). \n",
        "\n",
        "We will first describe the probabilistic interpretation of least-squares linear regression. Denote our response variable $Y$, and features are contained in the data matrix $X$. The standard linear model is:\n",
        "\n",
        "\\begin{equation}\n",
        "Y = X\\beta + \\epsilon\n",
        "\\end{equation}\n",
        "\n",
        "where $\\epsilon \\sim \\text{Normal}( {\\textbf 0}, \\sigma{\\textbf I })$. Simply, the observed $Y$ is a linear function of $X$ (with coefficients $\\beta$) plus some noise term. Our unknown to be determined is $\\beta$. We use the following property of Normal random variables:\n",
        "\n",
        "$$ \\mu' + \\text{Normal}( \\mu, \\sigma ) \\sim \\text{Normal}( \\mu' + \\mu , \\sigma ) $$\n",
        "\n",
        "to rewrite the above linear model as:\n",
        "$$\n",
        "\\begin{align}\n",
        "& Y = X\\beta + \\text{Normal}( {\\textbf 0}, \\sigma{\\textbf I }) \\\\\n",
        "& Y = \\text{Normal}( X\\beta , \\sigma{\\textbf I }) \\\\\n",
        "\\end{align}\n",
        "$$\n",
        "In probabilistic notation, denote $f_Y(y \\; | \\; \\beta )$ the probability distribution of $Y$, and recalling the density function for a Normal random variable (see [here](http://en.wikipedia.org/wiki/Normal_distribution) ):\n",
        "\n",
        "$$ f_Y( Y \\; |\\; \\beta, X) = L(\\beta|\\; X,Y)= \\frac{1}{\\sqrt{ 2\\pi\\sigma} } \\exp \\left( \\frac{1}{2\\sigma^2} (Y - X\\beta)^T(Y - X\\beta) \\right) $$\n",
        "\n",
        "This is the likelihood function for $\\beta$. Taking the $\\log$:\n",
        "\n",
        "$$ \\ell(\\beta) = K - c(Y - X\\beta)^T(Y - X\\beta) $$\n",
        "\n",
        "where $K$ and $c>0$ are constants. Maximum likelihood techniques wish to maximise this for $\\beta$, \n",
        "\n",
        "$$\\hat{ \\beta } = \\text{argmax}_{\\beta} \\;\\; - (Y - X\\beta)^T(Y - X\\beta) $$\n",
        "\n",
        "Equivalently we can *minimise the negative* of the above:\n",
        "\n",
        "$$\\hat{ \\beta } = \\text{argmin}_{\\beta} \\;\\; (Y - X\\beta)^T(Y - X\\beta) $$\n",
        "\n",
        "This is the familiar least-squares linear regression equation. Therefore we showed that the solution to a linear least-squares is the same as the maximum likelihood assuming Normal noise. Next we extend this to show how we can arrive at penalised linear regression by a suitable choice of prior on $\\beta$. \n",
        "\n"
      ]
    },
    {
      "cell_type": "markdown",
      "metadata": {
        "id": "pxcl7cMcCsRd"
      },
      "source": [
        "#### Penalised least-squares\n",
        "\n",
        "In the above, once we have the likelihood, we can include a prior distribution on $\\beta$ to derive to the equation for the posterior distribution:\n",
        "\n",
        "$$P( \\beta | Y, X ) = L(\\beta|\\;X,Y)p( \\beta )$$\n",
        "\n",
        "where $p(\\beta)$ is a prior on the elements of $\\beta$. What are some interesting priors? \n",
        "\n",
        "1\\. If we include *no explicit* prior term, we are actually including an uninformative prior, $P( \\beta ) \\propto 1$, think of it as uniform over all numbers. \n",
        "\n",
        "2\\. If we have reason to believe the elements of $\\beta$ are not too large, we can suppose that *a priori*:\n",
        "\n",
        "$$ \\beta \\sim \\text{Normal}({\\textbf 0 }, \\lambda {\\textbf I } ) $$\n",
        "\n",
        "The resulting posterior density function for $\\beta$ is *proportional to*:\n",
        "\n",
        "$$ \\exp \\left( \\frac{1}{2\\sigma^2} (Y - X\\beta)^T(Y - X\\beta) \\right) \\exp \\left( \\frac{1}{2\\lambda^2} \\beta^T\\beta \\right) $$\n",
        "\n",
        "and taking the $\\log$ of this, and combining and redefining constants, we arrive at:\n",
        "\n",
        "$$ \\ell(\\beta) \\propto K -  (Y - X\\beta)^T(Y - X\\beta) - \\alpha \\beta^T\\beta  $$\n",
        "\n",
        "we arrive at the function we wish to maximise (recall the point that maximises the posterior distribution is the MAP, or *maximum a posterior*):\n",
        "\n",
        "$$\\hat{ \\beta } = \\text{argmax}_{\\beta} \\;\\; -(Y - X\\beta)^T(Y - X\\beta) - \\alpha \\;\\beta^T\\beta $$\n",
        "\n",
        "Equivalently, we can minimise the negative of the above, and rewriting $\\beta^T \\beta = ||\\beta||_2^2$:\n",
        "\n",
        "$$\\hat{ \\beta } = \\text{argmin}_{\\beta} \\;\\; (Y - X\\beta)^T(Y - X\\beta) + \\alpha \\;||\\beta||_2^2$$\n",
        "\n",
        "This above term is exactly Ridge Regression. Thus we can see that ridge regression corresponds to the MAP of a linear model with Normal errors and a Normal prior on $\\beta$.\n",
        "\n",
        "3\\. Similarly, if we assume a *Laplace* prior on $\\beta$, ie. \n",
        "\n",
        "$$ f_\\beta( \\beta) \\propto \\exp \\left(- \\lambda ||\\beta||_1 \\right)$$\n",
        "\n",
        "and following the same steps as above, we recover:\n",
        "\n",
        "$$\\hat{ \\beta } = \\text{argmin}_{\\beta} \\;\\; (Y - X\\beta)^T(Y - X\\beta) + \\alpha \\;||\\beta||_1$$\n",
        "\n",
        "which is LASSO regression. Some important notes about this equivalence. The sparsity that is a result of using a LASSO regularisation is not a result of the prior assigning high probability to sparsity. Quite the opposite actually. It is the combination of the $|| \\cdot ||_1$ function and using the MAP that creates sparsity on $\\beta$: [purely a geometric argument](http://camdp.com/blogs/least-squares-regression-l1-penalty). The prior does contribute to an overall shrinking of the coefficients towards 0 though. An interesting discussion of this can be found in [2].\n",
        "\n",
        "For an example of Bayesian linear regression, see Chapter 4's example on financial losses."
      ]
    },
    {
      "cell_type": "markdown",
      "metadata": {
        "id": "m6fFxaLFh30V"
      },
      "source": [
        "## References\n",
        "\n",
        "[1] Macro, . \"What is the relationship between sample size and the influence of prior on posterior?.\" 13 Jun 2013. StackOverflow, Online Posting to Cross-Validated. Web. 25 Apr. 2013.\n",
        "\n",
        "[2] Starck, J.-L., , et al. \"Sparsity and the Bayesian Perspective.\" Astronomy & Astrophysics. (2013): n. page. Print.\n",
        "\n",
        "[3] Kuleshov, Volodymyr, and Doina Precup. \"Algorithms for the multi-armed bandit problem.\" Journal of Machine Learning Research. (2000): 1-49. Print.\n",
        "\n",
        "[4] Gelman, Andrew. \"Prior distributions for variance parameters in hierarchical models.\" Bayesian Analysis. 1.3 (2006): 515-533. Print.\n",
        "\n",
        "[5] Gelman, Andrew, and Cosma R. Shalizi. \"Philosophy and the practice of Bayesian statistics.\" British Journal of Mathematical and Statistical Psychology. (2012): n. page. Web. 17 Apr. 2013.\n",
        "\n",
        "[6] James, Neufeld. \"Reddit's \"best\" comment scoring algorithm as a multi-armed bandit task.\" Simple ML Hacks. Blogger, 09 Apr 2013. Web. 25 Apr. 2013.\n",
        "\n",
        "[7] Oakley, J. E., Daneshkhah, A. and O’Hagan, A. Nonparametric elicitation using the roulette method. Submitted to Bayesian Analysis.\n",
        "\n",
        "[8] \"Eliciting priors from experts.\" 19 Jul 2010. StackOverflow, Online Posting to Cross-Validated. Web. 1 May. 2013. <http://stats.stackexchange.com/questions/1/eliciting-priors-from-experts>.\n",
        "\n",
        "[9] Taleb, Nassim Nicholas (2007), The Black Swan: The Impact of the Highly Improbable, Random House, ISBN 978-1400063512"
      ]
    },
    {
      "cell_type": "code",
      "metadata": {
        "id": "RD-EgGMch30V"
      },
      "source": [
        "from IPython.core.display import HTML\n",
        "def css_styling():\n",
        "    styles = open(\"../styles/custom.css\", \"r\").read()\n",
        "    return HTML(styles)\n",
        "css_styling()\n"
      ],
      "execution_count": null,
      "outputs": []
    }
  ]
}